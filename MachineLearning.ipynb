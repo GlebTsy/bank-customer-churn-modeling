{
 "cells": [
  {
   "cell_type": "markdown",
   "metadata": {
    "toc": true
   },
   "source": [
    "<h1>Содержание<span class=\"tocSkip\"></span></h1>\n",
    "<div class=\"toc\"><ul class=\"toc-item\"><li><span><a href=\"#Подготовка-данных\" data-toc-modified-id=\"Подготовка-данных-1\"><span class=\"toc-item-num\">1&nbsp;&nbsp;</span>Подготовка данных</a></span></li><li><span><a href=\"#Исследование-задачи\" data-toc-modified-id=\"Исследование-задачи-2\"><span class=\"toc-item-num\">2&nbsp;&nbsp;</span>Исследование задачи</a></span></li><li><span><a href=\"#Борьба-с-дисбалансом\" data-toc-modified-id=\"Борьба-с-дисбалансом-3\"><span class=\"toc-item-num\">3&nbsp;&nbsp;</span>Борьба с дисбалансом</a></span></li><li><span><a href=\"#Тестирование-модели\" data-toc-modified-id=\"Тестирование-модели-4\"><span class=\"toc-item-num\">4&nbsp;&nbsp;</span>Тестирование модели</a></span></li><li><span><a href=\"#Чек-лист-готовности-проекта\" data-toc-modified-id=\"Чек-лист-готовности-проекта-5\"><span class=\"toc-item-num\">5&nbsp;&nbsp;</span>Чек-лист готовности проекта</a></span></li></ul></div>"
   ]
  },
  {
   "cell_type": "markdown",
   "metadata": {},
   "source": [
    "# Отток клиентов"
   ]
  },
  {
   "cell_type": "markdown",
   "metadata": {},
   "source": [
    "Из «Бета-Банка» стали уходить клиенты. Каждый месяц. Немного, но заметно. Банковские маркетологи посчитали: сохранять текущих клиентов дешевле, чем привлекать новых.\n",
    "\n",
    "Нужно спрогнозировать, уйдёт клиент из банка в ближайшее время или нет. Вам предоставлены исторические данные о поведении клиентов и расторжении договоров с банком. \n",
    "\n",
    "Постройте модель с предельно большим значением *F1*-меры. Чтобы сдать проект успешно, нужно довести метрику до 0.59. Проверьте *F1*-меру на тестовой выборке самостоятельно.\n",
    "\n",
    "Дополнительно измеряйте *AUC-ROC*, сравнивайте её значение с *F1*-мерой.\n",
    "\n",
    "Источник данных: [https://www.kaggle.com/barelydedicated/bank-customer-churn-modeling](https://www.kaggle.com/barelydedicated/bank-customer-churn-modeling)"
   ]
  },
  {
   "cell_type": "markdown",
   "metadata": {},
   "source": [
    "## Подготовка данных"
   ]
  },
  {
   "cell_type": "code",
   "execution_count": 1,
   "metadata": {},
   "outputs": [],
   "source": [
    "import pandas as pd\n",
    "import matplotlib.pyplot as plt\n",
    "import seaborn as sns\n",
    "\n",
    "from sklearn.preprocessing import StandardScaler\n",
    "\n",
    "from sklearn.model_selection import train_test_split, GridSearchCV\n",
    "\n",
    "from sklearn.tree import DecisionTreeClassifier\n",
    "from sklearn.ensemble import RandomForestClassifier\n",
    "from sklearn.svm import SVC\n",
    "\n",
    "from sklearn.utils import resample\n",
    "\n",
    "from sklearn.metrics import classification_report, confusion_matrix, f1_score, roc_auc_score, roc_curve"
   ]
  },
  {
   "cell_type": "code",
   "execution_count": 2,
   "metadata": {},
   "outputs": [
    {
     "name": "stdout",
     "output_type": "stream",
     "text": [
      "<class 'pandas.core.frame.DataFrame'>\n",
      "RangeIndex: 10000 entries, 0 to 9999\n",
      "Data columns (total 14 columns):\n",
      " #   Column           Non-Null Count  Dtype  \n",
      "---  ------           --------------  -----  \n",
      " 0   RowNumber        10000 non-null  int64  \n",
      " 1   CustomerId       10000 non-null  int64  \n",
      " 2   Surname          10000 non-null  object \n",
      " 3   CreditScore      10000 non-null  int64  \n",
      " 4   Geography        10000 non-null  object \n",
      " 5   Gender           10000 non-null  object \n",
      " 6   Age              10000 non-null  int64  \n",
      " 7   Tenure           9091 non-null   float64\n",
      " 8   Balance          10000 non-null  float64\n",
      " 9   NumOfProducts    10000 non-null  int64  \n",
      " 10  HasCrCard        10000 non-null  int64  \n",
      " 11  IsActiveMember   10000 non-null  int64  \n",
      " 12  EstimatedSalary  10000 non-null  float64\n",
      " 13  Exited           10000 non-null  int64  \n",
      "dtypes: float64(3), int64(8), object(3)\n",
      "memory usage: 1.1+ MB\n"
     ]
    },
    {
     "data": {
      "text/html": [
       "<div>\n",
       "<style scoped>\n",
       "    .dataframe tbody tr th:only-of-type {\n",
       "        vertical-align: middle;\n",
       "    }\n",
       "\n",
       "    .dataframe tbody tr th {\n",
       "        vertical-align: top;\n",
       "    }\n",
       "\n",
       "    .dataframe thead th {\n",
       "        text-align: right;\n",
       "    }\n",
       "</style>\n",
       "<table border=\"1\" class=\"dataframe\">\n",
       "  <thead>\n",
       "    <tr style=\"text-align: right;\">\n",
       "      <th></th>\n",
       "      <th>RowNumber</th>\n",
       "      <th>CustomerId</th>\n",
       "      <th>Surname</th>\n",
       "      <th>CreditScore</th>\n",
       "      <th>Geography</th>\n",
       "      <th>Gender</th>\n",
       "      <th>Age</th>\n",
       "      <th>Tenure</th>\n",
       "      <th>Balance</th>\n",
       "      <th>NumOfProducts</th>\n",
       "      <th>HasCrCard</th>\n",
       "      <th>IsActiveMember</th>\n",
       "      <th>EstimatedSalary</th>\n",
       "      <th>Exited</th>\n",
       "    </tr>\n",
       "  </thead>\n",
       "  <tbody>\n",
       "    <tr>\n",
       "      <th>0</th>\n",
       "      <td>1</td>\n",
       "      <td>15634602</td>\n",
       "      <td>Hargrave</td>\n",
       "      <td>619</td>\n",
       "      <td>France</td>\n",
       "      <td>Female</td>\n",
       "      <td>42</td>\n",
       "      <td>2.0</td>\n",
       "      <td>0.00</td>\n",
       "      <td>1</td>\n",
       "      <td>1</td>\n",
       "      <td>1</td>\n",
       "      <td>101348.88</td>\n",
       "      <td>1</td>\n",
       "    </tr>\n",
       "    <tr>\n",
       "      <th>1</th>\n",
       "      <td>2</td>\n",
       "      <td>15647311</td>\n",
       "      <td>Hill</td>\n",
       "      <td>608</td>\n",
       "      <td>Spain</td>\n",
       "      <td>Female</td>\n",
       "      <td>41</td>\n",
       "      <td>1.0</td>\n",
       "      <td>83807.86</td>\n",
       "      <td>1</td>\n",
       "      <td>0</td>\n",
       "      <td>1</td>\n",
       "      <td>112542.58</td>\n",
       "      <td>0</td>\n",
       "    </tr>\n",
       "    <tr>\n",
       "      <th>2</th>\n",
       "      <td>3</td>\n",
       "      <td>15619304</td>\n",
       "      <td>Onio</td>\n",
       "      <td>502</td>\n",
       "      <td>France</td>\n",
       "      <td>Female</td>\n",
       "      <td>42</td>\n",
       "      <td>8.0</td>\n",
       "      <td>159660.80</td>\n",
       "      <td>3</td>\n",
       "      <td>1</td>\n",
       "      <td>0</td>\n",
       "      <td>113931.57</td>\n",
       "      <td>1</td>\n",
       "    </tr>\n",
       "    <tr>\n",
       "      <th>3</th>\n",
       "      <td>4</td>\n",
       "      <td>15701354</td>\n",
       "      <td>Boni</td>\n",
       "      <td>699</td>\n",
       "      <td>France</td>\n",
       "      <td>Female</td>\n",
       "      <td>39</td>\n",
       "      <td>1.0</td>\n",
       "      <td>0.00</td>\n",
       "      <td>2</td>\n",
       "      <td>0</td>\n",
       "      <td>0</td>\n",
       "      <td>93826.63</td>\n",
       "      <td>0</td>\n",
       "    </tr>\n",
       "    <tr>\n",
       "      <th>4</th>\n",
       "      <td>5</td>\n",
       "      <td>15737888</td>\n",
       "      <td>Mitchell</td>\n",
       "      <td>850</td>\n",
       "      <td>Spain</td>\n",
       "      <td>Female</td>\n",
       "      <td>43</td>\n",
       "      <td>2.0</td>\n",
       "      <td>125510.82</td>\n",
       "      <td>1</td>\n",
       "      <td>1</td>\n",
       "      <td>1</td>\n",
       "      <td>79084.10</td>\n",
       "      <td>0</td>\n",
       "    </tr>\n",
       "  </tbody>\n",
       "</table>\n",
       "</div>"
      ],
      "text/plain": [
       "   RowNumber  CustomerId   Surname  CreditScore Geography  Gender  Age  \\\n",
       "0          1    15634602  Hargrave          619    France  Female   42   \n",
       "1          2    15647311      Hill          608     Spain  Female   41   \n",
       "2          3    15619304      Onio          502    France  Female   42   \n",
       "3          4    15701354      Boni          699    France  Female   39   \n",
       "4          5    15737888  Mitchell          850     Spain  Female   43   \n",
       "\n",
       "   Tenure    Balance  NumOfProducts  HasCrCard  IsActiveMember  \\\n",
       "0     2.0       0.00              1          1               1   \n",
       "1     1.0   83807.86              1          0               1   \n",
       "2     8.0  159660.80              3          1               0   \n",
       "3     1.0       0.00              2          0               0   \n",
       "4     2.0  125510.82              1          1               1   \n",
       "\n",
       "   EstimatedSalary  Exited  \n",
       "0        101348.88       1  \n",
       "1        112542.58       0  \n",
       "2        113931.57       1  \n",
       "3         93826.63       0  \n",
       "4         79084.10       0  "
      ]
     },
     "execution_count": 2,
     "metadata": {},
     "output_type": "execute_result"
    }
   ],
   "source": [
    "df = pd.read_csv('/datasets/Churn.csv')\n",
    "df.info()\n",
    "df.head()"
   ]
  },
  {
   "cell_type": "markdown",
   "metadata": {},
   "source": [
    "Данные представлены 14 признаками, три из них являются категориальными:\n",
    "\n",
    " - Фамилия `Surname`\n",
    " - Страна проживания `Geography`\n",
    " - Пол `Gender`"
   ]
  },
  {
   "cell_type": "code",
   "execution_count": 3,
   "metadata": {},
   "outputs": [
    {
     "name": "stdout",
     "output_type": "stream",
     "text": [
      "Количество положительных и отрицательных значений целевого признака Exited\n",
      "0    7963\n",
      "1    2037\n",
      "dtype: int64\n",
      "Доля класс 1 в целевом признаке Exited 0.2037\n",
      "Количество значений класса 0 в целевом признаке певышает класс 1 в 3.9091801669121256 раз\n"
     ]
    }
   ],
   "source": [
    "print('Количество положительных и отрицательных значений целевого признака',df.value_counts('Exited'))\n",
    "print('Доля класс 1 в целевом признаке Exited',df['Exited'].mean())\n",
    "print('Количество значений класса 0 в целевом признаке певышает класс 1 в',df['Exited'][df.Exited == 0].count() / df['Exited'][df.Exited == 1].count(),'раз')"
   ]
  },
  {
   "cell_type": "code",
   "execution_count": 4,
   "metadata": {},
   "outputs": [
    {
     "name": "stdout",
     "output_type": "stream",
     "text": [
      "Количество пропусков признака Tenure: 909\n"
     ]
    }
   ],
   "source": [
    "print('Количество пропусков признака Tenure:',df['Tenure'].isna().sum())"
   ]
  },
  {
   "cell_type": "code",
   "execution_count": 5,
   "metadata": {},
   "outputs": [
    {
     "data": {
      "text/plain": [
       "RowNumber         -0.007322\n",
       "CustomerId        -0.021418\n",
       "CreditScore       -0.000062\n",
       "Age               -0.013134\n",
       "Tenure             1.000000\n",
       "Balance           -0.007911\n",
       "NumOfProducts      0.011979\n",
       "HasCrCard          0.027232\n",
       "IsActiveMember    -0.032178\n",
       "EstimatedSalary    0.010520\n",
       "Exited            -0.016761\n",
       "Name: Tenure, dtype: float64"
      ]
     },
     "execution_count": 5,
     "metadata": {},
     "output_type": "execute_result"
    }
   ],
   "source": [
    "df.corr()['Tenure']"
   ]
  },
  {
   "cell_type": "markdown",
   "metadata": {},
   "source": [
    "Признак `Tenure` (сколько лет человек является клиентом банка) имеет 909 пропусков. Также данный признак не коррелирует с другими признакими, что не дает возможности восполнить пропуски данных.\n",
    "\n",
    "Также стоит отметить, что соотношение между положительными и отрицательными ответами для целевого признака `Exited` в строках с пропусками данных такое же как для основной выборки.\n",
    "\n",
    "Пропуски в данных не позволяют построить модель, поэтому удалим эти данные. "
   ]
  },
  {
   "cell_type": "code",
   "execution_count": 6,
   "metadata": {},
   "outputs": [
    {
     "name": "stdout",
     "output_type": "stream",
     "text": [
      "Exited\n",
      "0    726\n",
      "1    183\n",
      "dtype: int64\n",
      "Доля отрицательных ответов целевого признака для пропущенных данных признака \"Tenure\": 0.20132013201320131\n"
     ]
    }
   ],
   "source": [
    "print(df[df.Tenure.isna()].value_counts('Exited'))\n",
    "print('Доля отрицательных ответов целевого признака для пропущенных данных признака \"Tenure\":',df[df.Tenure.isna()].mean()['Exited'])"
   ]
  },
  {
   "cell_type": "code",
   "execution_count": 7,
   "metadata": {},
   "outputs": [],
   "source": [
    "df.dropna(inplace=True)"
   ]
  },
  {
   "cell_type": "markdown",
   "metadata": {},
   "source": [
    "Признаки `RowNumber`, `CustomerId` и `Surname` являются идентификаторами отдельных персоналий в данных и не влияют на целевой\n",
    "признак. Поэтому, уберем из рассмотрения эти данные."
   ]
  },
  {
   "cell_type": "code",
   "execution_count": 8,
   "metadata": {},
   "outputs": [],
   "source": [
    "df.drop(['RowNumber','CustomerId','Surname'],axis=1,inplace=True)"
   ]
  },
  {
   "cell_type": "code",
   "execution_count": 10,
   "metadata": {},
   "outputs": [],
   "source": [
    "#sns.pairplot(df, hue='Exited')\n",
    "plt.show()"
   ]
  },
  {
   "cell_type": "markdown",
   "metadata": {},
   "source": [
    "Как видно из графиков выше, рассматриваемые признаки не имееют явной зависимости между друг другом."
   ]
  },
  {
   "cell_type": "markdown",
   "metadata": {},
   "source": [
    "## Исследование задачи"
   ]
  },
  {
   "cell_type": "markdown",
   "metadata": {},
   "source": [
    "Подготовим данные для обучения моделей из следующего соотношения выборок тренировочная 60%, тестовая 20%, валидационная 20%.\n",
    "\n",
    "Преобразуем дата фрейм методом `One-Hot Encoding`."
   ]
  },
  {
   "cell_type": "code",
   "execution_count": 11,
   "metadata": {},
   "outputs": [
    {
     "name": "stdout",
     "output_type": "stream",
     "text": [
      "Размеры тренировочной, валидационной и тестовой выборок: (5454, 11) (1818, 11) (1819, 11) (5454,) (1818,) (1819,)\n",
      "Значения целевого признака тренировочной выборки:\n",
      "0    4336\n",
      "1    1118\n",
      "Name: Exited, dtype: int64\n",
      "Значения целевого признака валидационной выборки:\n",
      "0    1453\n",
      "1     365\n",
      "Name: Exited, dtype: int64\n",
      "Значения целевого признака тестовой выборки:\n",
      "0    1448\n",
      "1     371\n",
      "Name: Exited, dtype: int64\n"
     ]
    }
   ],
   "source": [
    "df_ohe = pd.get_dummies(df, drop_first=True)\n",
    "\n",
    "X = df_ohe.drop('Exited', axis=1)\n",
    "y = df_ohe['Exited']\n",
    "\n",
    "X_train, X_test, y_train, y_test = train_test_split(X, y, test_size=0.2, random_state=39, stratify=y, shuffle=True)\n",
    "\n",
    "X_train, X_valid, y_train, y_valid = train_test_split(X_train, y_train, test_size=0.25, random_state=39)\n",
    "\n",
    "print('Размеры тренировочной, валидационной и тестовой выборок:'\n",
    "      ,X_train.shape, X_valid.shape, X_test.shape, y_train.shape, y_valid.shape, y_test.shape)\n",
    "print('Значения целевого признака тренировочной выборки:')\n",
    "print(y_train.value_counts())\n",
    "print('Значения целевого признака валидационной выборки:')\n",
    "print(y_valid.value_counts())\n",
    "print('Значения целевого признака тестовой выборки:')\n",
    "print(y_test.value_counts())"
   ]
  },
  {
   "cell_type": "code",
   "execution_count": 12,
   "metadata": {},
   "outputs": [
    {
     "name": "stdout",
     "output_type": "stream",
     "text": [
      "CreditScore            int64\n",
      "Age                    int64\n",
      "Tenure               float64\n",
      "Balance              float64\n",
      "NumOfProducts          int64\n",
      "HasCrCard              int64\n",
      "IsActiveMember         int64\n",
      "EstimatedSalary      float64\n",
      "Geography_Germany      uint8\n",
      "Geography_Spain        uint8\n",
      "Gender_Male            uint8\n",
      "dtype: object\n"
     ]
    }
   ],
   "source": [
    "print(X_train.dtypes)"
   ]
  },
  {
   "cell_type": "code",
   "execution_count": 13,
   "metadata": {},
   "outputs": [],
   "source": [
    "scaler = StandardScaler()\n",
    "X_train = scaler.fit_transform(X_train)\n",
    "X_valid = scaler.transform(X_valid)\n",
    "X_test = scaler.transform(X_test)\n",
    "column_names = ['CreditScore',\n",
    "                'Age',\n",
    "                'Tenure',\n",
    "                'Balance',\n",
    "                'NumOfProducts',\n",
    "                'HasCrCard',\n",
    "                'IsActiveMember',\n",
    "                'EstimatedSalary',\n",
    "                'Geography_Germany',\n",
    "                'Geography_Spain',\n",
    "                'Gender_Male']\n",
    "\n",
    "X_train = pd.DataFrame(data=X_train, columns=column_names,index=y_train.index)\n",
    "X_valid = pd.DataFrame(data=X_valid, columns=column_names,index=y_valid.index)\n",
    "X_test = pd.DataFrame(data=X_test, columns=column_names,index=y_test.index)"
   ]
  },
  {
   "cell_type": "markdown",
   "metadata": {},
   "source": [
    "Обучим модель \"Дерева принятия решений\". Рассмотрим ее как базовый вариант, который работает относительно быстро."
   ]
  },
  {
   "cell_type": "code",
   "execution_count": 14,
   "metadata": {},
   "outputs": [
    {
     "name": "stdout",
     "output_type": "stream",
     "text": [
      "Точность модели дерева принятий решений: 0.7915291529152916\n",
      "Доля отрицательны ответов в целевом признаке: 0.7960620393796062\n"
     ]
    }
   ],
   "source": [
    "dtc = DecisionTreeClassifier(random_state=39)\n",
    "dtc.fit(X_train,y_train)\n",
    "\n",
    "print('Точность модели дерева принятий решений:',dtc.score(X_valid,y_valid))\n",
    "print('Доля отрицательны ответов в целевом признаке:',1 - df_ohe['Exited'].mean())"
   ]
  },
  {
   "cell_type": "markdown",
   "metadata": {},
   "source": [
    "Как видно из представленных значений выше, модель дает низкую точность. Значение ниже, чем вероятность ответить правильно, проверяя каждый раз один и тот же ответ."
   ]
  },
  {
   "cell_type": "markdown",
   "metadata": {},
   "source": [
    "Проверим как точно модель предсказывает целевой признак. Построим матрицу ошибок."
   ]
  },
  {
   "cell_type": "code",
   "execution_count": 15,
   "metadata": {},
   "outputs": [
    {
     "name": "stdout",
     "output_type": "stream",
     "text": [
      "Матрица ошибок:\n"
     ]
    },
    {
     "data": {
      "text/plain": [
       "array([[1263,  190],\n",
       "       [ 189,  176]])"
      ]
     },
     "metadata": {},
     "output_type": "display_data"
    },
    {
     "name": "stdout",
     "output_type": "stream",
     "text": [
      "F1-мера: 0.48153214774281805\n"
     ]
    }
   ],
   "source": [
    "dtc_predic = dtc.predict(X_valid)\n",
    "\n",
    "print('Матрица ошибок:')\n",
    "display(confusion_matrix(y_valid, dtc_predic))\n",
    "print('F1-мера:',f1_score(dtc_predic,y_valid))"
   ]
  },
  {
   "cell_type": "markdown",
   "metadata": {},
   "source": [
    "Количество ошибочных положительных ответов превышает число верно определенных. Также значение F1-меры ниже 0,5.\n",
    "\n",
    "Качество модели низкое. "
   ]
  },
  {
   "cell_type": "markdown",
   "metadata": {},
   "source": [
    "Обучим модель классификатора \"Случайного леса\" и сравним результат с предварительной моделью \"Дерева принятия решений\"."
   ]
  },
  {
   "cell_type": "code",
   "execution_count": 16,
   "metadata": {},
   "outputs": [
    {
     "name": "stdout",
     "output_type": "stream",
     "text": [
      "Точность модели случайного леса: 0.8690869086908691 \n",
      "\n",
      "Матрица ошибок:\n"
     ]
    },
    {
     "data": {
      "text/plain": [
       "array([[1400,   53],\n",
       "       [ 185,  180]])"
      ]
     },
     "metadata": {},
     "output_type": "display_data"
    },
    {
     "name": "stdout",
     "output_type": "stream",
     "text": [
      "F1-мера: 0.6020066889632107\n"
     ]
    }
   ],
   "source": [
    "rfc = RandomForestClassifier(random_state=39)\n",
    "rfc.fit(X_train,y_train)\n",
    "rfc_predic = rfc.predict(X_valid)\n",
    "\n",
    "print('Точность модели случайного леса:',rfc.score(X_valid,y_valid),'\\n')\n",
    "print('Матрица ошибок:')\n",
    "display(confusion_matrix(y_valid, rfc_predic))\n",
    "print('F1-мера:',f1_score(rfc_predic,y_valid))"
   ]
  },
  {
   "cell_type": "markdown",
   "metadata": {},
   "source": [
    "Как видим из полученных результатов качество работы модели \"Случайного леса\" значительно выше. Величина метрики выше целевого показателя (0,59).<br>"
   ]
  },
  {
   "cell_type": "markdown",
   "metadata": {},
   "source": [
    "Рассмотрим также классификатор <code>Support Vectort Machines</code>"
   ]
  },
  {
   "cell_type": "code",
   "execution_count": 17,
   "metadata": {},
   "outputs": [
    {
     "name": "stdout",
     "output_type": "stream",
     "text": [
      "Точность модели SVM: 0.8602860286028603 \n",
      "\n",
      "Матрица ошибок:\n"
     ]
    },
    {
     "data": {
      "text/plain": [
       "array([[1417,   36],\n",
       "       [ 218,  147]])"
      ]
     },
     "metadata": {},
     "output_type": "display_data"
    },
    {
     "name": "stdout",
     "output_type": "stream",
     "text": [
      "F1-мера: 0.5364963503649636\n"
     ]
    }
   ],
   "source": [
    "svm = SVC(random_state=39,probability=True)\n",
    "svm.fit(X_train,y_train)\n",
    "svm_predic = svm.predict(X_valid)\n",
    "\n",
    "print('Точность модели SVM:',svm.score(X_valid,y_valid),'\\n')\n",
    "print('Матрица ошибок:')\n",
    "display(confusion_matrix(y_valid, svm_predic))\n",
    "print('F1-мера:',f1_score(svm_predic,y_valid))"
   ]
  },
  {
   "cell_type": "markdown",
   "metadata": {},
   "source": [
    "Модель классификатора SVM показывает результаты выше, чем дерево принятия решений, но ниже случайного леса."
   ]
  },
  {
   "cell_type": "markdown",
   "metadata": {},
   "source": [
    "Создадим функцию оценки метрик для исследуемых моделей, а также датафрейм результатов."
   ]
  },
  {
   "cell_type": "code",
   "execution_count": 18,
   "metadata": {},
   "outputs": [
    {
     "name": "stdout",
     "output_type": "stream",
     "text": [
      "Модель: DecisionTreeClassifier(random_state=39) \n",
      "Точность: 0.792 \n",
      "F1-мера: 0.482 \n",
      "AUC ROC: 0.676 \n",
      "\n",
      "Модель: RandomForestClassifier(random_state=39) \n",
      "Точность: 0.869 \n",
      "F1-мера: 0.602 \n",
      "AUC ROC: 0.859 \n",
      "\n",
      "Модель: SVC(probability=True, random_state=39) \n",
      "Точность: 0.86 \n",
      "F1-мера: 0.536 \n",
      "AUC ROC: 0.833 \n",
      "\n"
     ]
    },
    {
     "data": {
      "text/html": [
       "<div>\n",
       "<style scoped>\n",
       "    .dataframe tbody tr th:only-of-type {\n",
       "        vertical-align: middle;\n",
       "    }\n",
       "\n",
       "    .dataframe tbody tr th {\n",
       "        vertical-align: top;\n",
       "    }\n",
       "\n",
       "    .dataframe thead th {\n",
       "        text-align: right;\n",
       "    }\n",
       "</style>\n",
       "<table border=\"1\" class=\"dataframe\">\n",
       "  <thead>\n",
       "    <tr style=\"text-align: right;\">\n",
       "      <th></th>\n",
       "      <th>method</th>\n",
       "      <th>model_name</th>\n",
       "      <th>score</th>\n",
       "      <th>f1</th>\n",
       "      <th>auc_roc</th>\n",
       "    </tr>\n",
       "  </thead>\n",
       "  <tbody>\n",
       "    <tr>\n",
       "      <th>0</th>\n",
       "      <td>base_case</td>\n",
       "      <td>DecisionTreeClassifier</td>\n",
       "      <td>0.792</td>\n",
       "      <td>0.482</td>\n",
       "      <td>0.676</td>\n",
       "    </tr>\n",
       "    <tr>\n",
       "      <th>1</th>\n",
       "      <td>base_case</td>\n",
       "      <td>RandomForestClassifier</td>\n",
       "      <td>0.869</td>\n",
       "      <td>0.602</td>\n",
       "      <td>0.859</td>\n",
       "    </tr>\n",
       "    <tr>\n",
       "      <th>2</th>\n",
       "      <td>base_case</td>\n",
       "      <td>SVC</td>\n",
       "      <td>0.860</td>\n",
       "      <td>0.536</td>\n",
       "      <td>0.833</td>\n",
       "    </tr>\n",
       "  </tbody>\n",
       "</table>\n",
       "</div>"
      ],
      "text/plain": [
       "      method              model_name  score     f1  auc_roc\n",
       "0  base_case  DecisionTreeClassifier  0.792  0.482    0.676\n",
       "1  base_case  RandomForestClassifier  0.869  0.602    0.859\n",
       "2  base_case                     SVC  0.860  0.536    0.833"
      ]
     },
     "metadata": {},
     "output_type": "display_data"
    }
   ],
   "source": [
    "result_df = pd.DataFrame(columns=['method','model_name','score','f1','auc_roc'])\n",
    "\n",
    "#Функция определения значений метрик \n",
    "# model - имя модлели\n",
    "# sample - тип проверочной выборки valid / test\n",
    "\n",
    "def metric(method, model, sample):\n",
    "    \n",
    "    if sample == 'valid':\n",
    "        X = X_valid\n",
    "        y = y_valid\n",
    "    else:\n",
    "        X = X_test\n",
    "        y = y_test \n",
    "        \n",
    "    probability = model.predict_proba(X)[:, 1]\n",
    "    r_a_res = roc_auc_score(y, probability).round(3)\n",
    "    acc_res = model.score(X, y).round(3)\n",
    "    f1_res = f1_score(model.predict(X), y).round(3)\n",
    "    model_name = type(model).__name__\n",
    "\n",
    "    #добавляем результаты в общий датафрейм результатов\n",
    "    result_df.loc[len(result_df.index)] = [method, model_name, acc_res, f1_res, r_a_res] \n",
    "    \n",
    "    return print('Модель:',model,'\\n'\n",
    "                'Точность:',acc_res,'\\n'\n",
    "                'F1-мера:',f1_res,'\\n'\n",
    "                'AUC ROC:',r_a_res,'\\n')\n",
    "\n",
    "models = [dtc,rfc,svm]\n",
    "\n",
    "for mod in models: metric('base_case', mod, 'valid')\n",
    "\n",
    "display(result_df)"
   ]
  },
  {
   "cell_type": "markdown",
   "metadata": {},
   "source": [
    "Выше приведены значение метрик для исследуюмых моделей без балансировки классов.<br>\n",
    "Как видно результат модели случайного леса являются лучшим среди остальных."
   ]
  },
  {
   "cell_type": "markdown",
   "metadata": {},
   "source": [
    "## Борьба с дисбалансом"
   ]
  },
  {
   "cell_type": "markdown",
   "metadata": {},
   "source": [
    "С целью устранения дисбаланса классов были выбраны следующие методики:\n",
    " - Балансировка веса классов встроенным параметром моделей <code>class_weight='balanced'</code>\n",
    " - Увеличение количества положительных значений целевого признака в тренировочной выборке `Upsampling`"
   ]
  },
  {
   "cell_type": "markdown",
   "metadata": {},
   "source": [
    "Попробуем сбалансировать классы добавив параметр балансировки весов для классов `class_weight`."
   ]
  },
  {
   "cell_type": "code",
   "execution_count": 19,
   "metadata": {},
   "outputs": [
    {
     "name": "stdout",
     "output_type": "stream",
     "text": [
      "Модель: DecisionTreeClassifier(class_weight='balanced', random_state=39) \n",
      "Точность: 0.806 \n",
      "F1-мера: 0.512 \n",
      "AUC ROC: 0.694 \n",
      "\n",
      "Модель: RandomForestClassifier(class_weight='balanced', random_state=39) \n",
      "Точность: 0.866 \n",
      "F1-мера: 0.579 \n",
      "AUC ROC: 0.857 \n",
      "\n",
      "Модель: SVC(class_weight='balanced', probability=True, random_state=39) \n",
      "Точность: 0.795 \n",
      "F1-мера: 0.594 \n",
      "AUC ROC: 0.851 \n",
      "\n"
     ]
    },
    {
     "data": {
      "text/html": [
       "<div>\n",
       "<style scoped>\n",
       "    .dataframe tbody tr th:only-of-type {\n",
       "        vertical-align: middle;\n",
       "    }\n",
       "\n",
       "    .dataframe tbody tr th {\n",
       "        vertical-align: top;\n",
       "    }\n",
       "\n",
       "    .dataframe thead th {\n",
       "        text-align: right;\n",
       "    }\n",
       "</style>\n",
       "<table border=\"1\" class=\"dataframe\">\n",
       "  <thead>\n",
       "    <tr style=\"text-align: right;\">\n",
       "      <th></th>\n",
       "      <th>method</th>\n",
       "      <th>model_name</th>\n",
       "      <th>score</th>\n",
       "      <th>f1</th>\n",
       "      <th>auc_roc</th>\n",
       "    </tr>\n",
       "  </thead>\n",
       "  <tbody>\n",
       "    <tr>\n",
       "      <th>0</th>\n",
       "      <td>base_case</td>\n",
       "      <td>DecisionTreeClassifier</td>\n",
       "      <td>0.792</td>\n",
       "      <td>0.482</td>\n",
       "      <td>0.676</td>\n",
       "    </tr>\n",
       "    <tr>\n",
       "      <th>1</th>\n",
       "      <td>base_case</td>\n",
       "      <td>RandomForestClassifier</td>\n",
       "      <td>0.869</td>\n",
       "      <td>0.602</td>\n",
       "      <td>0.859</td>\n",
       "    </tr>\n",
       "    <tr>\n",
       "      <th>2</th>\n",
       "      <td>base_case</td>\n",
       "      <td>SVC</td>\n",
       "      <td>0.860</td>\n",
       "      <td>0.536</td>\n",
       "      <td>0.833</td>\n",
       "    </tr>\n",
       "    <tr>\n",
       "      <th>3</th>\n",
       "      <td>class_weight</td>\n",
       "      <td>DecisionTreeClassifier</td>\n",
       "      <td>0.806</td>\n",
       "      <td>0.512</td>\n",
       "      <td>0.694</td>\n",
       "    </tr>\n",
       "    <tr>\n",
       "      <th>4</th>\n",
       "      <td>class_weight</td>\n",
       "      <td>RandomForestClassifier</td>\n",
       "      <td>0.866</td>\n",
       "      <td>0.579</td>\n",
       "      <td>0.857</td>\n",
       "    </tr>\n",
       "    <tr>\n",
       "      <th>5</th>\n",
       "      <td>class_weight</td>\n",
       "      <td>SVC</td>\n",
       "      <td>0.795</td>\n",
       "      <td>0.594</td>\n",
       "      <td>0.851</td>\n",
       "    </tr>\n",
       "  </tbody>\n",
       "</table>\n",
       "</div>"
      ],
      "text/plain": [
       "         method              model_name  score     f1  auc_roc\n",
       "0     base_case  DecisionTreeClassifier  0.792  0.482    0.676\n",
       "1     base_case  RandomForestClassifier  0.869  0.602    0.859\n",
       "2     base_case                     SVC  0.860  0.536    0.833\n",
       "3  class_weight  DecisionTreeClassifier  0.806  0.512    0.694\n",
       "4  class_weight  RandomForestClassifier  0.866  0.579    0.857\n",
       "5  class_weight                     SVC  0.795  0.594    0.851"
      ]
     },
     "metadata": {},
     "output_type": "display_data"
    }
   ],
   "source": [
    "dtc_w = DecisionTreeClassifier(class_weight='balanced', random_state=39)\n",
    "rfc_w = RandomForestClassifier(class_weight='balanced', random_state=39)\n",
    "svm_w = SVC(class_weight='balanced', random_state=39,probability=True)\n",
    "dtc_w.fit(X_train,y_train)\n",
    "rfc_w.fit(X_train,y_train)\n",
    "svm_w.fit(X_train,y_train)\n",
    "\n",
    "models_w = [dtc_w,rfc_w,svm_w]\n",
    "\n",
    "for mod_w in models_w: metric('class_weight', mod_w, 'valid')\n",
    "\n",
    "display(result_df)"
   ]
  },
  {
   "cell_type": "markdown",
   "metadata": {},
   "source": [
    "Модели Дерева решений и Структурированных векторов улучшили результаты с примененным параметром веса классов. Модель Случайного леса наоборот показала более низкий результат. Значение метрики F1-мера у случайного леса стала ниже Структурированных векторов."
   ]
  },
  {
   "cell_type": "markdown",
   "metadata": {},
   "source": [
    "Воспользуемся методом увеличения количества положительных значений целевого признака в выборке `Upsampling`."
   ]
  },
  {
   "cell_type": "code",
   "execution_count": 20,
   "metadata": {},
   "outputs": [
    {
     "name": "stdout",
     "output_type": "stream",
     "text": [
      "Соотношение значений целевого признака \"Exited\" в тренировочной выборке:\n",
      "0    4336\n",
      "1    1118\n",
      "Name: Exited, dtype: int64\n",
      "Соотношение значений целевого признака \"Exited\" в тренировочной выборке после устранения дисбаланса:\n",
      "1    5454\n",
      "0    4336\n",
      "Name: Exited, dtype: int64\n"
     ]
    }
   ],
   "source": [
    "print('Соотношение значений целевого признака \"Exited\" в тренировочной выборке:')\n",
    "print(y_train.value_counts())\n",
    "\n",
    "X_major = X_train[y_train == 0]\n",
    "X_minor = X_train[y_train == 1]\n",
    "\n",
    "y_major = y_train[y_train == 0]\n",
    "y_minor = y_train[y_train == 1]\n",
    "\n",
    "X_upsample = resample(X_minor, replace=True, n_samples=len(X_train), random_state=39)\n",
    "y_upsample = resample(y_minor, replace=True, n_samples=len(X_train), random_state=39)\n",
    "\n",
    "X_sample = pd.concat([X_major, X_upsample])\n",
    "y_sample = pd.concat([y_major, y_upsample])\n",
    "\n",
    "print('Соотношение значений целевого признака \"Exited\" в тренировочной выборке после устранения дисбаланса:')\n",
    "print(y_sample.value_counts())"
   ]
  },
  {
   "cell_type": "markdown",
   "metadata": {},
   "source": [
    "Обучим модели на полученных выборках и сравним результаты."
   ]
  },
  {
   "cell_type": "code",
   "execution_count": 21,
   "metadata": {},
   "outputs": [
    {
     "name": "stdout",
     "output_type": "stream",
     "text": [
      "Модель: DecisionTreeClassifier(random_state=39) \n",
      "Точность: 0.801 \n",
      "F1-мера: 0.49 \n",
      "AUC ROC: 0.68 \n",
      "\n",
      "Модель: RandomForestClassifier(random_state=39) \n",
      "Точность: 0.855 \n",
      "F1-мера: 0.604 \n",
      "AUC ROC: 0.851 \n",
      "\n",
      "Модель: SVC(probability=True, random_state=39) \n",
      "Точность: 0.767 \n",
      "F1-мера: 0.577 \n",
      "AUC ROC: 0.844 \n",
      "\n"
     ]
    },
    {
     "data": {
      "text/html": [
       "<div>\n",
       "<style scoped>\n",
       "    .dataframe tbody tr th:only-of-type {\n",
       "        vertical-align: middle;\n",
       "    }\n",
       "\n",
       "    .dataframe tbody tr th {\n",
       "        vertical-align: top;\n",
       "    }\n",
       "\n",
       "    .dataframe thead th {\n",
       "        text-align: right;\n",
       "    }\n",
       "</style>\n",
       "<table border=\"1\" class=\"dataframe\">\n",
       "  <thead>\n",
       "    <tr style=\"text-align: right;\">\n",
       "      <th></th>\n",
       "      <th>method</th>\n",
       "      <th>model_name</th>\n",
       "      <th>score</th>\n",
       "      <th>f1</th>\n",
       "      <th>auc_roc</th>\n",
       "    </tr>\n",
       "  </thead>\n",
       "  <tbody>\n",
       "    <tr>\n",
       "      <th>0</th>\n",
       "      <td>base_case</td>\n",
       "      <td>DecisionTreeClassifier</td>\n",
       "      <td>0.792</td>\n",
       "      <td>0.482</td>\n",
       "      <td>0.676</td>\n",
       "    </tr>\n",
       "    <tr>\n",
       "      <th>1</th>\n",
       "      <td>base_case</td>\n",
       "      <td>RandomForestClassifier</td>\n",
       "      <td>0.869</td>\n",
       "      <td>0.602</td>\n",
       "      <td>0.859</td>\n",
       "    </tr>\n",
       "    <tr>\n",
       "      <th>2</th>\n",
       "      <td>base_case</td>\n",
       "      <td>SVC</td>\n",
       "      <td>0.860</td>\n",
       "      <td>0.536</td>\n",
       "      <td>0.833</td>\n",
       "    </tr>\n",
       "    <tr>\n",
       "      <th>3</th>\n",
       "      <td>class_weight</td>\n",
       "      <td>DecisionTreeClassifier</td>\n",
       "      <td>0.806</td>\n",
       "      <td>0.512</td>\n",
       "      <td>0.694</td>\n",
       "    </tr>\n",
       "    <tr>\n",
       "      <th>4</th>\n",
       "      <td>class_weight</td>\n",
       "      <td>RandomForestClassifier</td>\n",
       "      <td>0.866</td>\n",
       "      <td>0.579</td>\n",
       "      <td>0.857</td>\n",
       "    </tr>\n",
       "    <tr>\n",
       "      <th>5</th>\n",
       "      <td>class_weight</td>\n",
       "      <td>SVC</td>\n",
       "      <td>0.795</td>\n",
       "      <td>0.594</td>\n",
       "      <td>0.851</td>\n",
       "    </tr>\n",
       "    <tr>\n",
       "      <th>6</th>\n",
       "      <td>upsample</td>\n",
       "      <td>DecisionTreeClassifier</td>\n",
       "      <td>0.801</td>\n",
       "      <td>0.490</td>\n",
       "      <td>0.680</td>\n",
       "    </tr>\n",
       "    <tr>\n",
       "      <th>7</th>\n",
       "      <td>upsample</td>\n",
       "      <td>RandomForestClassifier</td>\n",
       "      <td>0.855</td>\n",
       "      <td>0.604</td>\n",
       "      <td>0.851</td>\n",
       "    </tr>\n",
       "    <tr>\n",
       "      <th>8</th>\n",
       "      <td>upsample</td>\n",
       "      <td>SVC</td>\n",
       "      <td>0.767</td>\n",
       "      <td>0.577</td>\n",
       "      <td>0.844</td>\n",
       "    </tr>\n",
       "  </tbody>\n",
       "</table>\n",
       "</div>"
      ],
      "text/plain": [
       "         method              model_name  score     f1  auc_roc\n",
       "0     base_case  DecisionTreeClassifier  0.792  0.482    0.676\n",
       "1     base_case  RandomForestClassifier  0.869  0.602    0.859\n",
       "2     base_case                     SVC  0.860  0.536    0.833\n",
       "3  class_weight  DecisionTreeClassifier  0.806  0.512    0.694\n",
       "4  class_weight  RandomForestClassifier  0.866  0.579    0.857\n",
       "5  class_weight                     SVC  0.795  0.594    0.851\n",
       "6      upsample  DecisionTreeClassifier  0.801  0.490    0.680\n",
       "7      upsample  RandomForestClassifier  0.855  0.604    0.851\n",
       "8      upsample                     SVC  0.767  0.577    0.844"
      ]
     },
     "metadata": {},
     "output_type": "display_data"
    }
   ],
   "source": [
    "dtc.fit(X_sample,y_sample)\n",
    "rfc.fit(X_sample,y_sample)\n",
    "svm.fit(X_sample,y_sample)\n",
    "\n",
    "for mod in models: metric('upsample', mod, 'valid')\n",
    "\n",
    "display(result_df)"
   ]
  },
  {
   "cell_type": "markdown",
   "metadata": {},
   "source": [
    "Модель Дерева показала результаты ниже в сравнение с предыдущим вариантом борьбы с дисбалансом.<br>\n",
    "Модель Леса демонстрирует наивысший результат метрики F1-мера, метрика AUC ROC незначительно ниже в сравнение с другим подходом и базовой моделью.<br>\n",
    "Модель Векторов показалу результаты ниже в сравнение с предыдущим подходом борьбы с дисбалансом.\n",
    "\n",
    "Как результат в дальнейшем исследование будем применять различные варианты борьбы с дисбалансом для каждой модели:\n",
    "\n",
    " - Модель Дерева и Векторов обучим с применением параметра <code>class_weight='balanced'</code>\n",
    " - Для модели Леса применим метод `upsampling` в дополнение к параметру баланса классов <code>class_weight</code>."
   ]
  },
  {
   "cell_type": "markdown",
   "metadata": {},
   "source": [
    "Подберем оптимальные гиперпараметры для исследуемых моделей по средствам класса `GridSearchCV`."
   ]
  },
  {
   "cell_type": "code",
   "execution_count": 22,
   "metadata": {},
   "outputs": [
    {
     "name": "stdout",
     "output_type": "stream",
     "text": [
      "CPU times: user 1.05 s, sys: 752 ms, total: 1.8 s\n",
      "Wall time: 23.5 s\n"
     ]
    },
    {
     "data": {
      "text/plain": [
       "{'class_weight': 'balanced',\n",
       " 'criterion': 'gini',\n",
       " 'max_depth': None,\n",
       " 'max_features': None,\n",
       " 'splitter': 'best'}"
      ]
     },
     "execution_count": 22,
     "metadata": {},
     "output_type": "execute_result"
    }
   ],
   "source": [
    "%%time\n",
    "\n",
    "params = {\n",
    "    'criterion':  ['gini', 'entropy'],\n",
    "    'max_depth':  [None, 2, 4, 6, 8, 10],\n",
    "    'max_features': [None, 'sqrt', 'log2', 0.2, 0.4, 0.6, 0.8],\n",
    "    'splitter': ['best', 'random'],\n",
    "    'class_weight': ['balanced']\n",
    "}\n",
    "\n",
    "grid_dtc = GridSearchCV(dtc_w, params, cv=5, n_jobs=5)\n",
    "grid_dtc.fit(X_train, y_train)\n",
    "\n",
    "grid_dtc.best_params_"
   ]
  },
  {
   "cell_type": "code",
   "execution_count": 23,
   "metadata": {},
   "outputs": [
    {
     "name": "stdout",
     "output_type": "stream",
     "text": [
      "CPU times: user 1.04 s, sys: 540 ms, total: 1.58 s\n",
      "Wall time: 2min 33s\n"
     ]
    },
    {
     "data": {
      "text/plain": [
       "{'class_weight': 'balanced',\n",
       " 'max_depth': 12,\n",
       " 'min_samples_leaf': 1,\n",
       " 'min_samples_split': 2,\n",
       " 'n_estimators': 50}"
      ]
     },
     "execution_count": 23,
     "metadata": {},
     "output_type": "execute_result"
    }
   ],
   "source": [
    "%%time\n",
    "\n",
    "parametrs = { 'class_weight': ['balanced'],\n",
    "              'n_estimators': range (40, 101, 10),\n",
    "              'max_depth': range (10, 13, 1),\n",
    "              'min_samples_leaf': range (1, 3),\n",
    "              'min_samples_split': range (2, 3, 1) }\n",
    "\n",
    "grid_rfc = GridSearchCV(rfc, parametrs, cv=5, n_jobs=5)\n",
    "grid_rfc.fit(X_sample, y_sample)\n",
    "\n",
    "grid_rfc.best_params_"
   ]
  },
  {
   "cell_type": "code",
   "execution_count": 24,
   "metadata": {},
   "outputs": [
    {
     "name": "stdout",
     "output_type": "stream",
     "text": [
      "CPU times: user 13min 52s, sys: 858 ms, total: 13min 53s\n",
      "Wall time: 13min 56s\n"
     ]
    },
    {
     "data": {
      "text/plain": [
       "{'C': 1000, 'gamma': 0.01, 'kernel': 'rbf'}"
      ]
     },
     "execution_count": 24,
     "metadata": {},
     "output_type": "execute_result"
    }
   ],
   "source": [
    "%%time\n",
    "\n",
    "tuned_parameters = {'kernel': ['rbf'],\n",
    "                    'gamma': [1e-2, 1e-3, 1e-4, 1e-5],\n",
    "                    'C': [0.001, 0.10, 0.1, 10, 25, 50, 100, 1000]}\n",
    "\n",
    "grid_svm = GridSearchCV(svm_w, tuned_parameters, cv=5)\n",
    "grid_svm.fit(X_train, y_train)\n",
    "\n",
    "grid_svm.best_params_"
   ]
  },
  {
   "cell_type": "markdown",
   "metadata": {},
   "source": [
    "Обучим модели с полученными оптимальными параметрами."
   ]
  },
  {
   "cell_type": "code",
   "execution_count": 25,
   "metadata": {},
   "outputs": [
    {
     "name": "stdout",
     "output_type": "stream",
     "text": [
      "Модель: DecisionTreeClassifier(class_weight='balanced', random_state=39) \n",
      "Точность: 0.806 \n",
      "F1-мера: 0.512 \n",
      "AUC ROC: 0.694 \n",
      "\n",
      "Модель: RandomForestClassifier(class_weight='balanced', max_depth=12, n_estimators=50,\n",
      "                       random_state=39) \n",
      "Точность: 0.85 \n",
      "F1-мера: 0.63 \n",
      "AUC ROC: 0.861 \n",
      "\n",
      "Модель: SVC(class_weight='balanced', probability=True, random_state=39) \n",
      "Точность: 0.795 \n",
      "F1-мера: 0.594 \n",
      "AUC ROC: 0.851 \n",
      "\n"
     ]
    },
    {
     "data": {
      "text/html": [
       "<div>\n",
       "<style scoped>\n",
       "    .dataframe tbody tr th:only-of-type {\n",
       "        vertical-align: middle;\n",
       "    }\n",
       "\n",
       "    .dataframe tbody tr th {\n",
       "        vertical-align: top;\n",
       "    }\n",
       "\n",
       "    .dataframe thead th {\n",
       "        text-align: right;\n",
       "    }\n",
       "</style>\n",
       "<table border=\"1\" class=\"dataframe\">\n",
       "  <thead>\n",
       "    <tr style=\"text-align: right;\">\n",
       "      <th></th>\n",
       "      <th>method</th>\n",
       "      <th>model_name</th>\n",
       "      <th>score</th>\n",
       "      <th>f1</th>\n",
       "      <th>auc_roc</th>\n",
       "    </tr>\n",
       "  </thead>\n",
       "  <tbody>\n",
       "    <tr>\n",
       "      <th>0</th>\n",
       "      <td>base_case</td>\n",
       "      <td>DecisionTreeClassifier</td>\n",
       "      <td>0.792</td>\n",
       "      <td>0.482</td>\n",
       "      <td>0.676</td>\n",
       "    </tr>\n",
       "    <tr>\n",
       "      <th>1</th>\n",
       "      <td>base_case</td>\n",
       "      <td>RandomForestClassifier</td>\n",
       "      <td>0.869</td>\n",
       "      <td>0.602</td>\n",
       "      <td>0.859</td>\n",
       "    </tr>\n",
       "    <tr>\n",
       "      <th>2</th>\n",
       "      <td>base_case</td>\n",
       "      <td>SVC</td>\n",
       "      <td>0.860</td>\n",
       "      <td>0.536</td>\n",
       "      <td>0.833</td>\n",
       "    </tr>\n",
       "    <tr>\n",
       "      <th>3</th>\n",
       "      <td>class_weight</td>\n",
       "      <td>DecisionTreeClassifier</td>\n",
       "      <td>0.806</td>\n",
       "      <td>0.512</td>\n",
       "      <td>0.694</td>\n",
       "    </tr>\n",
       "    <tr>\n",
       "      <th>4</th>\n",
       "      <td>class_weight</td>\n",
       "      <td>RandomForestClassifier</td>\n",
       "      <td>0.866</td>\n",
       "      <td>0.579</td>\n",
       "      <td>0.857</td>\n",
       "    </tr>\n",
       "    <tr>\n",
       "      <th>5</th>\n",
       "      <td>class_weight</td>\n",
       "      <td>SVC</td>\n",
       "      <td>0.795</td>\n",
       "      <td>0.594</td>\n",
       "      <td>0.851</td>\n",
       "    </tr>\n",
       "    <tr>\n",
       "      <th>6</th>\n",
       "      <td>upsample</td>\n",
       "      <td>DecisionTreeClassifier</td>\n",
       "      <td>0.801</td>\n",
       "      <td>0.490</td>\n",
       "      <td>0.680</td>\n",
       "    </tr>\n",
       "    <tr>\n",
       "      <th>7</th>\n",
       "      <td>upsample</td>\n",
       "      <td>RandomForestClassifier</td>\n",
       "      <td>0.855</td>\n",
       "      <td>0.604</td>\n",
       "      <td>0.851</td>\n",
       "    </tr>\n",
       "    <tr>\n",
       "      <th>8</th>\n",
       "      <td>upsample</td>\n",
       "      <td>SVC</td>\n",
       "      <td>0.767</td>\n",
       "      <td>0.577</td>\n",
       "      <td>0.844</td>\n",
       "    </tr>\n",
       "    <tr>\n",
       "      <th>9</th>\n",
       "      <td>optim</td>\n",
       "      <td>DecisionTreeClassifier</td>\n",
       "      <td>0.806</td>\n",
       "      <td>0.512</td>\n",
       "      <td>0.694</td>\n",
       "    </tr>\n",
       "    <tr>\n",
       "      <th>10</th>\n",
       "      <td>optim</td>\n",
       "      <td>RandomForestClassifier</td>\n",
       "      <td>0.850</td>\n",
       "      <td>0.630</td>\n",
       "      <td>0.861</td>\n",
       "    </tr>\n",
       "    <tr>\n",
       "      <th>11</th>\n",
       "      <td>optim</td>\n",
       "      <td>SVC</td>\n",
       "      <td>0.795</td>\n",
       "      <td>0.594</td>\n",
       "      <td>0.851</td>\n",
       "    </tr>\n",
       "  </tbody>\n",
       "</table>\n",
       "</div>"
      ],
      "text/plain": [
       "          method              model_name  score     f1  auc_roc\n",
       "0      base_case  DecisionTreeClassifier  0.792  0.482    0.676\n",
       "1      base_case  RandomForestClassifier  0.869  0.602    0.859\n",
       "2      base_case                     SVC  0.860  0.536    0.833\n",
       "3   class_weight  DecisionTreeClassifier  0.806  0.512    0.694\n",
       "4   class_weight  RandomForestClassifier  0.866  0.579    0.857\n",
       "5   class_weight                     SVC  0.795  0.594    0.851\n",
       "6       upsample  DecisionTreeClassifier  0.801  0.490    0.680\n",
       "7       upsample  RandomForestClassifier  0.855  0.604    0.851\n",
       "8       upsample                     SVC  0.767  0.577    0.844\n",
       "9          optim  DecisionTreeClassifier  0.806  0.512    0.694\n",
       "10         optim  RandomForestClassifier  0.850  0.630    0.861\n",
       "11         optim                     SVC  0.795  0.594    0.851"
      ]
     },
     "metadata": {},
     "output_type": "display_data"
    }
   ],
   "source": [
    "dtc_opt = DecisionTreeClassifier(class_weight='balanced',\n",
    "                                 criterion='gini',\n",
    "                                 max_depth=None,\n",
    "                                 max_features=None,\n",
    "                                 splitter='best',\n",
    "                                 random_state=39)\n",
    "\n",
    "rfc_opt = RandomForestClassifier(max_depth=12,\n",
    "                                 min_samples_leaf=1,\n",
    "                                 min_samples_split=2,\n",
    "                                 n_estimators=50,\n",
    "                                 class_weight='balanced',\n",
    "                                 random_state=39)\n",
    "\n",
    "svm_opt = SVC(C=1000,\n",
    "              gamma=.01,\n",
    "              kernel='rbf',\n",
    "              class_weight='balanced',\n",
    "              random_state=39,\n",
    "              probability=True)\n",
    "\n",
    "\n",
    "dtc_opt.fit(X_train,y_train)\n",
    "rfc_opt.fit(X_sample,y_sample)\n",
    "svm_opt.fit(X_train,y_train)\n",
    "\n",
    "models_opt = [dtc_opt,rfc_opt,svm_w]\n",
    "\n",
    "for mod in models_opt: metric('optim', mod, 'valid')\n",
    "\n",
    "display(result_df)"
   ]
  },
  {
   "cell_type": "code",
   "execution_count": 26,
   "metadata": {},
   "outputs": [
    {
     "data": {
      "image/png": "[encoded data removed]",
      "text/plain": [
       "<Figure size 432x288 with 1 Axes>"
      ]
     },
     "metadata": {},
     "output_type": "display_data"
    }
   ],
   "source": [
    "sns.set_palette('pastel')\n",
    "sns.set_style('darkgrid')\n",
    "sns.barplot(data=result_df,x='method',y='score',hue='model_name')\n",
    "plt.title('Точность')\n",
    "plt.xlabel('Метод создания модели')\n",
    "plt.ylabel('Результат')\n",
    "plt.legend(loc='lower right')\n",
    "plt.show()"
   ]
  },
  {
   "cell_type": "code",
   "execution_count": 27,
   "metadata": {},
   "outputs": [
    {
     "data": {
      "image/png": "[encoded data removed]",
      "text/plain": [
       "<Figure size 432x288 with 1 Axes>"
      ]
     },
     "metadata": {},
     "output_type": "display_data"
    }
   ],
   "source": [
    "sns.barplot(data=result_df,x='method',y='f1',hue='model_name')\n",
    "plt.title('F1-мера')\n",
    "plt.xlabel('Метод создания модели')\n",
    "plt.ylabel('Значение метрики')\n",
    "plt.legend(loc='lower right')\n",
    "plt.show()"
   ]
  },
  {
   "cell_type": "code",
   "execution_count": 28,
   "metadata": {},
   "outputs": [
    {
     "data": {
      "image/png": "[encoded data removed]",
      "text/plain": [
       "<Figure size 432x288 with 1 Axes>"
      ]
     },
     "metadata": {},
     "output_type": "display_data"
    }
   ],
   "source": [
    "sns.barplot(data=result_df,x='method',y='auc_roc',hue='model_name')\n",
    "plt.title('AUC ROC')\n",
    "plt.xlabel('Метод создания модели')\n",
    "plt.ylabel('Значение метрики')\n",
    "plt.legend(loc='lower right')\n",
    "plt.show()"
   ]
  },
  {
   "cell_type": "markdown",
   "metadata": {},
   "source": [
    "Лучший результат показывает модель Случайного леса с оптимальными параметрами.<br>\n",
    "Метрики модели Случайного леса с оптимальными параметрами F1-мера и AUC ROC имеют наивысший результат среди других моделей.<br>\n",
    "Результаты модели Структурированных векторов близки к Случайному лесу, кроме F1-меры.<br>\n",
    "Выберем эти две модели для тестирования."
   ]
  },
  {
   "cell_type": "markdown",
   "metadata": {},
   "source": [
    "## Тестирование модели"
   ]
  },
  {
   "cell_type": "markdown",
   "metadata": {},
   "source": [
    "Проверим выбранные модели на тестовой выборке."
   ]
  },
  {
   "cell_type": "code",
   "execution_count": 29,
   "metadata": {},
   "outputs": [
    {
     "name": "stdout",
     "output_type": "stream",
     "text": [
      "Модель: RandomForestClassifier(class_weight='balanced', max_depth=12, n_estimators=50,\n",
      "                       random_state=39) \n",
      "Точность: 0.847 \n",
      "F1-мера: 0.624 \n",
      "AUC ROC: 0.862 \n",
      "\n",
      "Модель: SVC(C=1000, class_weight='balanced', gamma=0.01, probability=True,\n",
      "    random_state=39) \n",
      "Точность: 0.778 \n",
      "F1-мера: 0.582 \n",
      "AUC ROC: 0.848 \n",
      "\n"
     ]
    },
    {
     "data": {
      "text/html": [
       "<div>\n",
       "<style scoped>\n",
       "    .dataframe tbody tr th:only-of-type {\n",
       "        vertical-align: middle;\n",
       "    }\n",
       "\n",
       "    .dataframe tbody tr th {\n",
       "        vertical-align: top;\n",
       "    }\n",
       "\n",
       "    .dataframe thead th {\n",
       "        text-align: right;\n",
       "    }\n",
       "</style>\n",
       "<table border=\"1\" class=\"dataframe\">\n",
       "  <thead>\n",
       "    <tr style=\"text-align: right;\">\n",
       "      <th></th>\n",
       "      <th>method</th>\n",
       "      <th>model_name</th>\n",
       "      <th>score</th>\n",
       "      <th>f1</th>\n",
       "      <th>auc_roc</th>\n",
       "    </tr>\n",
       "  </thead>\n",
       "  <tbody>\n",
       "    <tr>\n",
       "      <th>12</th>\n",
       "      <td>final</td>\n",
       "      <td>RandomForestClassifier</td>\n",
       "      <td>0.847</td>\n",
       "      <td>0.624</td>\n",
       "      <td>0.862</td>\n",
       "    </tr>\n",
       "    <tr>\n",
       "      <th>13</th>\n",
       "      <td>final</td>\n",
       "      <td>SVC</td>\n",
       "      <td>0.778</td>\n",
       "      <td>0.582</td>\n",
       "      <td>0.848</td>\n",
       "    </tr>\n",
       "  </tbody>\n",
       "</table>\n",
       "</div>"
      ],
      "text/plain": [
       "   method              model_name  score     f1  auc_roc\n",
       "12  final  RandomForestClassifier  0.847  0.624    0.862\n",
       "13  final                     SVC  0.778  0.582    0.848"
      ]
     },
     "metadata": {},
     "output_type": "display_data"
    }
   ],
   "source": [
    "models_fin = [rfc_opt,svm_opt]\n",
    "\n",
    "for mod in models_fin: metric('final', mod, 'test')\n",
    "\n",
    "final_res = result_df[result_df.method == 'final']\n",
    "\n",
    "display(final_res)"
   ]
  },
  {
   "cell_type": "code",
   "execution_count": 30,
   "metadata": {},
   "outputs": [
    {
     "name": "stdout",
     "output_type": "stream",
     "text": [
      "              precision    recall  f1-score   support\n",
      "\n",
      "           0       0.90      0.90      0.90      1448\n",
      "           1       0.63      0.62      0.62       371\n",
      "\n",
      "    accuracy                           0.85      1819\n",
      "   macro avg       0.76      0.76      0.76      1819\n",
      "weighted avg       0.85      0.85      0.85      1819\n",
      "\n"
     ]
    }
   ],
   "source": [
    "predicted_test = rfc_opt.predict(X_test)\n",
    "print(classification_report(y_test,predicted_test))"
   ]
  },
  {
   "cell_type": "code",
   "execution_count": 31,
   "metadata": {},
   "outputs": [
    {
     "name": "stdout",
     "output_type": "stream",
     "text": [
      "              precision    recall  f1-score   support\n",
      "\n",
      "           0       0.93      0.78      0.85      1448\n",
      "           1       0.47      0.75      0.58       371\n",
      "\n",
      "    accuracy                           0.78      1819\n",
      "   macro avg       0.70      0.77      0.72      1819\n",
      "weighted avg       0.83      0.78      0.79      1819\n",
      "\n"
     ]
    }
   ],
   "source": [
    "predicted_test = svm_opt.predict(X_test)\n",
    "print(classification_report(y_test,predicted_test))"
   ]
  },
  {
   "cell_type": "code",
   "execution_count": 32,
   "metadata": {
    "scrolled": true
   },
   "outputs": [
    {
     "data": {
      "image/png": "[encoded data removed]",
      "text/plain": [
       "<Figure size 432x288 with 1 Axes>"
      ]
     },
     "metadata": {},
     "output_type": "display_data"
    }
   ],
   "source": [
    "prob_one_test_rfc = rfc_opt.predict_proba(X_test)[:, 1]\n",
    "prob_one_test_svm = svm_opt.predict_proba(X_test)[:, 1]\n",
    "\n",
    "fpr1, tpr1, thresholds1 = roc_curve(y_test,prob_one_test_rfc)\n",
    "fpr2, tpr2, thresholds2 = roc_curve(y_test,prob_one_test_svm)\n",
    "\n",
    "plt.figure()\n",
    "\n",
    "plt.plot(fpr1, tpr1)\n",
    "plt.plot(fpr2, tpr2)\n",
    "\n",
    "plt.plot([0,1], [0,1], linestyle='--')\n",
    "\n",
    "plt.xlim([0.0,1.0])\n",
    "plt.ylim([0.0,1.0])\n",
    "\n",
    "plt.xlabel(\"False Positive Rate\")\n",
    "plt.ylabel(\"True Positive Rate\")\n",
    "\n",
    "plt.legend([type(rfc_opt).__name__,type(svm_opt).__name__,'dummy'])\n",
    "\n",
    "plt.title(\"ROC-кривая\")\n",
    "plt.show()"
   ]
  },
  {
   "cell_type": "markdown",
   "metadata": {},
   "source": [
    "Модель случайного леса с найденными оптимальными параметрами, обученая на баласированной тренировочной выборке безоговорочный лидер по результатам исследования.\n",
    "\n",
    "Все метрики, включая площадь под ROC кривой, выше остальных рассмотренных моделей."
   ]
  },
  {
   "cell_type": "markdown",
   "metadata": {},
   "source": [
    "<h2> Результат исследования <a class=\"tocSkip\"> </h2>\n",
    "\n",
    "На начальном этапе исследования данных были выявлены пропуске данных в признаке `Tenure`. Данные с пропусками были удалены из рассмотрения, так как не повлияли на соотношение значений целевого признака `Exited`.\n",
    "    \n",
    "Данные были разделены на три выборки тренировочную, валидационную и тестовую в соотношении `60 / 20 / 20`.\n",
    "\n",
    "Был определен дисбаланс классов, влияющий на результаты обучения моделей.<br>\n",
    "Методами борьбы с дисбаласом классов были выбраны встроенный параметр `class_weight` моделей, а также увеличение положительных ответов в тренировочной выборке `upsampling`.<br>\n",
    "    \n",
    "Также были определены оптимальные параметры моделей классом `GridSearchCV`\n",
    "    \n",
    "На каждом этапе отмечались следующие результаты:\n",
    " - Точность `score`\n",
    " - F1-мера `f1`\n",
    " - Площадь под ROC кривой `auc_roc`\n",
    "\n",
    "На всех этапах исследования классификатор на основе модели \"Случайного леса\" показывает лучшие результаты рассматриваемых метрик.\n",
    "    \n",
    "В результате исследования была получена модель со следующими показателями метрик для тестовых  (валидационных) данных:\n",
    "    \n",
    " - F1-мера - 0.62 (0.63)\n",
    " - AUC-ROC - 0.86 (0.86)\n",
    "    \n",
    "Параметры лучшей модели следующие:<br>\n",
    "<code>RandomForestClassifier(class_weight='balanced', max_depth=12, n_estimators=50,random_state=39)</code>"
   ]
  },
  {
   "cell_type": "markdown",
   "metadata": {},
   "source": [
    "## Чек-лист готовности проекта"
   ]
  },
  {
   "cell_type": "markdown",
   "metadata": {},
   "source": [
    "Поставьте 'x' в выполненных пунктах. Далее нажмите Shift+Enter."
   ]
  },
  {
   "cell_type": "markdown",
   "metadata": {},
   "source": [
    "- [x]  Jupyter Notebook открыт\n",
    "- [x]  Весь код выполняется без ошибок\n",
    "- [x]  Ячейки с кодом расположены в порядке исполнения\n",
    "- [x]  Выполнен шаг 1: данные подготовлены\n",
    "- [x]  Выполнен шаг 2: задача исследована\n",
    "    - [x]  Исследован баланс классов\n",
    "    - [x]  Изучены модели без учёта дисбаланса\n",
    "    - [x]  Написаны выводы по результатам исследования\n",
    "- [x]  Выполнен шаг 3: учтён дисбаланс\n",
    "    - [x]  Применено несколько способов борьбы с дисбалансом\n",
    "    - [x]  Написаны выводы по результатам исследования\n",
    "- [x]  Выполнен шаг 4: проведено тестирование\n",
    "- [x]  Удалось достичь *F1*-меры не менее 0.59\n",
    "- [x]  Исследована метрика *AUC-ROC*"
   ]
  }
 ],
 "metadata": {
  "ExecuteTimeLog": [
   {
    "duration": 399,
    "start_time": "2022-11-11T11:39:19.421Z"
   },
   {
    "duration": 3,
    "start_time": "2022-11-11T11:39:22.156Z"
   },
   {
    "duration": 163,
    "start_time": "2022-11-11T11:39:53.494Z"
   },
   {
    "duration": 58,
    "start_time": "2022-11-11T11:39:59.061Z"
   },
   {
    "duration": 49,
    "start_time": "2022-11-11T11:40:17.292Z"
   },
   {
    "duration": 54,
    "start_time": "2022-11-11T12:07:37.805Z"
   },
   {
    "duration": 50,
    "start_time": "2022-11-11T12:13:09.668Z"
   },
   {
    "duration": 56,
    "start_time": "2022-11-11T12:13:17.771Z"
   },
   {
    "duration": 60,
    "start_time": "2022-11-11T12:13:32.565Z"
   },
   {
    "duration": 56,
    "start_time": "2022-11-11T12:13:52.612Z"
   },
   {
    "duration": 1030,
    "start_time": "2022-11-11T12:19:47.940Z"
   },
   {
    "duration": 5,
    "start_time": "2022-11-11T12:19:55.821Z"
   },
   {
    "duration": 5,
    "start_time": "2022-11-11T12:20:01.213Z"
   },
   {
    "duration": 794,
    "start_time": "2022-11-11T12:25:38.708Z"
   },
   {
    "duration": 60,
    "start_time": "2022-11-11T12:25:39.504Z"
   },
   {
    "duration": 4,
    "start_time": "2022-11-11T12:25:40.781Z"
   },
   {
    "duration": 54046,
    "start_time": "2022-11-11T12:26:21.757Z"
   },
   {
    "duration": 4,
    "start_time": "2022-11-11T12:42:01.223Z"
   },
   {
    "duration": 4,
    "start_time": "2022-11-11T12:42:09.097Z"
   },
   {
    "duration": 4,
    "start_time": "2022-11-11T12:42:21.841Z"
   },
   {
    "duration": 450,
    "start_time": "2022-11-11T12:43:12.754Z"
   },
   {
    "duration": 55,
    "start_time": "2022-11-11T12:45:24.347Z"
   },
   {
    "duration": 1316,
    "start_time": "2022-11-13T17:37:38.852Z"
   },
   {
    "duration": 100,
    "start_time": "2022-11-13T17:37:40.170Z"
   },
   {
    "duration": 4,
    "start_time": "2022-11-13T17:37:40.272Z"
   },
   {
    "duration": 134,
    "start_time": "2022-11-13T17:37:40.278Z"
   },
   {
    "duration": 1316,
    "start_time": "2022-11-13T17:57:11.392Z"
   },
   {
    "duration": 64,
    "start_time": "2022-11-13T17:57:12.710Z"
   },
   {
    "duration": 4,
    "start_time": "2022-11-13T17:57:12.776Z"
   },
   {
    "duration": 109,
    "start_time": "2022-11-13T17:57:12.782Z"
   },
   {
    "duration": 14,
    "start_time": "2022-11-13T17:57:45.960Z"
   },
   {
    "duration": 20,
    "start_time": "2022-11-13T17:58:13.565Z"
   },
   {
    "duration": 1345,
    "start_time": "2022-11-13T17:58:23.387Z"
   },
   {
    "duration": 71,
    "start_time": "2022-11-13T17:58:24.734Z"
   },
   {
    "duration": 4,
    "start_time": "2022-11-13T17:58:24.806Z"
   },
   {
    "duration": 9,
    "start_time": "2022-11-13T17:58:24.812Z"
   },
   {
    "duration": 397,
    "start_time": "2022-11-13T18:18:32.336Z"
   },
   {
    "duration": 7,
    "start_time": "2022-11-13T18:18:37.161Z"
   },
   {
    "duration": 9,
    "start_time": "2022-11-13T18:18:48.424Z"
   },
   {
    "duration": 1147,
    "start_time": "2022-11-13T18:53:14.429Z"
   },
   {
    "duration": 61,
    "start_time": "2022-11-13T18:53:15.577Z"
   },
   {
    "duration": 4,
    "start_time": "2022-11-13T18:53:15.640Z"
   },
   {
    "duration": 115,
    "start_time": "2022-11-13T18:53:15.646Z"
   },
   {
    "duration": 10,
    "start_time": "2022-11-13T18:53:41.062Z"
   },
   {
    "duration": 1143,
    "start_time": "2022-11-13T19:00:32.885Z"
   },
   {
    "duration": 56,
    "start_time": "2022-11-13T19:00:34.029Z"
   },
   {
    "duration": 4,
    "start_time": "2022-11-13T19:00:34.086Z"
   },
   {
    "duration": 13,
    "start_time": "2022-11-13T19:00:34.091Z"
   },
   {
    "duration": 6,
    "start_time": "2022-11-13T19:00:34.105Z"
   },
   {
    "duration": 229,
    "start_time": "2022-11-13T19:42:39.236Z"
   },
   {
    "duration": 12,
    "start_time": "2022-11-13T19:44:46.920Z"
   },
   {
    "duration": 1115,
    "start_time": "2022-11-13T19:54:49.244Z"
   },
   {
    "duration": 58,
    "start_time": "2022-11-13T19:54:50.361Z"
   },
   {
    "duration": 4,
    "start_time": "2022-11-13T19:54:50.421Z"
   },
   {
    "duration": 16,
    "start_time": "2022-11-13T19:54:50.427Z"
   },
   {
    "duration": 16,
    "start_time": "2022-11-13T19:54:50.445Z"
   },
   {
    "duration": 241,
    "start_time": "2022-11-13T19:54:50.463Z"
   },
   {
    "duration": 11,
    "start_time": "2022-11-13T19:55:24.965Z"
   },
   {
    "duration": 1192,
    "start_time": "2022-11-13T20:10:59.209Z"
   },
   {
    "duration": 68,
    "start_time": "2022-11-13T20:11:00.405Z"
   },
   {
    "duration": 4,
    "start_time": "2022-11-13T20:11:00.475Z"
   },
   {
    "duration": 20,
    "start_time": "2022-11-13T20:11:00.481Z"
   },
   {
    "duration": 5,
    "start_time": "2022-11-13T20:11:00.503Z"
   },
   {
    "duration": 239,
    "start_time": "2022-11-13T20:11:00.510Z"
   },
   {
    "duration": 17,
    "start_time": "2022-11-13T20:13:59.746Z"
   },
   {
    "duration": 3,
    "start_time": "2022-11-13T20:18:04.027Z"
   },
   {
    "duration": 52,
    "start_time": "2022-11-13T20:18:04.180Z"
   },
   {
    "duration": 4,
    "start_time": "2022-11-13T20:18:04.586Z"
   },
   {
    "duration": 9,
    "start_time": "2022-11-13T20:18:05.347Z"
   },
   {
    "duration": 4,
    "start_time": "2022-11-13T20:18:06.445Z"
   },
   {
    "duration": 18,
    "start_time": "2022-11-13T20:18:09.054Z"
   },
   {
    "duration": 3,
    "start_time": "2022-11-13T20:18:35.477Z"
   },
   {
    "duration": 118,
    "start_time": "2022-11-13T20:21:32.199Z"
   },
   {
    "duration": 37,
    "start_time": "2022-11-13T20:21:55.479Z"
   },
   {
    "duration": 16,
    "start_time": "2022-11-13T20:22:30.031Z"
   },
   {
    "duration": 9,
    "start_time": "2022-11-13T20:22:48.700Z"
   },
   {
    "duration": 9,
    "start_time": "2022-11-13T20:22:56.686Z"
   },
   {
    "duration": 20,
    "start_time": "2022-11-13T20:23:34.609Z"
   },
   {
    "duration": 2,
    "start_time": "2022-11-13T20:25:42.765Z"
   },
   {
    "duration": 52,
    "start_time": "2022-11-13T20:25:42.769Z"
   },
   {
    "duration": 4,
    "start_time": "2022-11-13T20:25:42.823Z"
   },
   {
    "duration": 13,
    "start_time": "2022-11-13T20:25:42.828Z"
   },
   {
    "duration": 3,
    "start_time": "2022-11-13T20:25:42.843Z"
   },
   {
    "duration": 19,
    "start_time": "2022-11-13T20:25:46.006Z"
   },
   {
    "duration": 24,
    "start_time": "2022-11-13T20:25:58.865Z"
   },
   {
    "duration": 24,
    "start_time": "2022-11-13T20:26:10.361Z"
   },
   {
    "duration": 26,
    "start_time": "2022-11-13T20:26:32.720Z"
   },
   {
    "duration": 17,
    "start_time": "2022-11-13T20:27:30.564Z"
   },
   {
    "duration": 3,
    "start_time": "2022-11-13T20:27:51.585Z"
   },
   {
    "duration": 81,
    "start_time": "2022-11-13T20:27:51.589Z"
   },
   {
    "duration": 3,
    "start_time": "2022-11-13T20:27:51.672Z"
   },
   {
    "duration": 23,
    "start_time": "2022-11-13T20:27:51.677Z"
   },
   {
    "duration": 20,
    "start_time": "2022-11-13T20:27:51.702Z"
   },
   {
    "duration": 43,
    "start_time": "2022-11-13T20:27:51.723Z"
   },
   {
    "duration": 21,
    "start_time": "2022-11-13T20:27:51.768Z"
   },
   {
    "duration": 21,
    "start_time": "2022-11-13T20:28:15.454Z"
   },
   {
    "duration": 24,
    "start_time": "2022-11-13T20:28:19.707Z"
   },
   {
    "duration": 29,
    "start_time": "2022-11-13T20:31:52.376Z"
   },
   {
    "duration": 33,
    "start_time": "2022-11-13T20:32:04.496Z"
   },
   {
    "duration": 49,
    "start_time": "2022-11-13T20:34:42.561Z"
   },
   {
    "duration": 3,
    "start_time": "2022-11-13T20:34:59.568Z"
   },
   {
    "duration": 66,
    "start_time": "2022-11-13T20:34:59.573Z"
   },
   {
    "duration": 4,
    "start_time": "2022-11-13T20:34:59.642Z"
   },
   {
    "duration": 14,
    "start_time": "2022-11-13T20:34:59.647Z"
   },
   {
    "duration": 5,
    "start_time": "2022-11-13T20:34:59.662Z"
   },
   {
    "duration": 17,
    "start_time": "2022-11-13T20:35:03.254Z"
   },
   {
    "duration": 18,
    "start_time": "2022-11-13T20:35:05.173Z"
   },
   {
    "duration": 1346,
    "start_time": "2022-11-13T20:37:52.087Z"
   },
   {
    "duration": 56,
    "start_time": "2022-11-13T20:37:53.437Z"
   },
   {
    "duration": 4,
    "start_time": "2022-11-13T20:37:53.494Z"
   },
   {
    "duration": 14,
    "start_time": "2022-11-13T20:37:53.500Z"
   },
   {
    "duration": 9,
    "start_time": "2022-11-13T20:37:53.515Z"
   },
   {
    "duration": 4,
    "start_time": "2022-11-13T20:37:53.525Z"
   },
   {
    "duration": 18,
    "start_time": "2022-11-13T20:37:53.531Z"
   },
   {
    "duration": 84,
    "start_time": "2022-11-13T20:37:53.551Z"
   },
   {
    "duration": 63,
    "start_time": "2022-11-13T20:39:00.371Z"
   },
   {
    "duration": 48,
    "start_time": "2022-11-13T20:39:11.557Z"
   },
   {
    "duration": 1305,
    "start_time": "2022-11-13T20:57:06.719Z"
   },
   {
    "duration": 56,
    "start_time": "2022-11-13T20:57:08.025Z"
   },
   {
    "duration": 4,
    "start_time": "2022-11-13T20:57:08.083Z"
   },
   {
    "duration": 11,
    "start_time": "2022-11-13T20:57:08.089Z"
   },
   {
    "duration": 8,
    "start_time": "2022-11-13T20:57:08.104Z"
   },
   {
    "duration": 4,
    "start_time": "2022-11-13T20:57:08.114Z"
   },
   {
    "duration": 17,
    "start_time": "2022-11-13T20:57:08.120Z"
   },
   {
    "duration": 86,
    "start_time": "2022-11-13T20:57:08.139Z"
   },
   {
    "duration": 18,
    "start_time": "2022-11-13T21:02:05.485Z"
   },
   {
    "duration": 31,
    "start_time": "2022-11-13T21:02:18.648Z"
   },
   {
    "duration": 34,
    "start_time": "2022-11-13T21:02:48.012Z"
   },
   {
    "duration": 36,
    "start_time": "2022-11-13T21:03:03.320Z"
   },
   {
    "duration": 29,
    "start_time": "2022-11-13T21:03:13.287Z"
   },
   {
    "duration": 71,
    "start_time": "2022-11-13T21:11:53.808Z"
   },
   {
    "duration": 66,
    "start_time": "2022-11-13T21:12:04.197Z"
   },
   {
    "duration": 82,
    "start_time": "2022-11-13T21:12:30.248Z"
   },
   {
    "duration": 75,
    "start_time": "2022-11-13T21:12:46.617Z"
   },
   {
    "duration": 37,
    "start_time": "2022-11-13T21:13:00.177Z"
   },
   {
    "duration": 32,
    "start_time": "2022-11-13T21:15:37.638Z"
   },
   {
    "duration": 37,
    "start_time": "2022-11-13T21:15:58.235Z"
   },
   {
    "duration": 937,
    "start_time": "2022-11-14T07:19:21.159Z"
   },
   {
    "duration": 1417,
    "start_time": "2022-11-14T07:19:31.085Z"
   },
   {
    "duration": 189,
    "start_time": "2022-11-14T07:19:32.504Z"
   },
   {
    "duration": 4,
    "start_time": "2022-11-14T07:19:32.694Z"
   },
   {
    "duration": 13,
    "start_time": "2022-11-14T07:19:32.700Z"
   },
   {
    "duration": 10,
    "start_time": "2022-11-14T07:19:32.714Z"
   },
   {
    "duration": 6,
    "start_time": "2022-11-14T07:19:32.725Z"
   },
   {
    "duration": 20,
    "start_time": "2022-11-14T07:19:32.732Z"
   },
   {
    "duration": 65,
    "start_time": "2022-11-14T07:19:32.753Z"
   },
   {
    "duration": 117,
    "start_time": "2022-11-14T07:19:32.820Z"
   },
   {
    "duration": 1790,
    "start_time": "2022-11-14T13:39:47.743Z"
   },
   {
    "duration": 213,
    "start_time": "2022-11-14T13:39:49.536Z"
   },
   {
    "duration": 6,
    "start_time": "2022-11-14T13:39:49.752Z"
   },
   {
    "duration": 46,
    "start_time": "2022-11-14T13:39:49.760Z"
   },
   {
    "duration": 38,
    "start_time": "2022-11-14T13:39:49.808Z"
   },
   {
    "duration": 32,
    "start_time": "2022-11-14T13:39:49.849Z"
   },
   {
    "duration": 66,
    "start_time": "2022-11-14T13:39:49.886Z"
   },
   {
    "duration": 185,
    "start_time": "2022-11-14T13:39:49.955Z"
   },
   {
    "duration": 36,
    "start_time": "2022-11-14T13:40:59.206Z"
   },
   {
    "duration": 8,
    "start_time": "2022-11-14T13:42:22.816Z"
   },
   {
    "duration": 14,
    "start_time": "2022-11-14T13:50:12.215Z"
   },
   {
    "duration": 11,
    "start_time": "2022-11-14T13:50:31.039Z"
   },
   {
    "duration": 12,
    "start_time": "2022-11-14T13:53:54.555Z"
   },
   {
    "duration": 13,
    "start_time": "2022-11-14T13:54:03.075Z"
   },
   {
    "duration": 1437,
    "start_time": "2022-11-14T14:07:53.493Z"
   },
   {
    "duration": 65,
    "start_time": "2022-11-14T14:07:54.932Z"
   },
   {
    "duration": 5,
    "start_time": "2022-11-14T14:07:54.999Z"
   },
   {
    "duration": 22,
    "start_time": "2022-11-14T14:07:55.006Z"
   },
   {
    "duration": 11,
    "start_time": "2022-11-14T14:07:55.030Z"
   },
   {
    "duration": 15,
    "start_time": "2022-11-14T14:07:55.043Z"
   },
   {
    "duration": 37,
    "start_time": "2022-11-14T14:07:55.060Z"
   },
   {
    "duration": 93,
    "start_time": "2022-11-14T14:07:55.099Z"
   },
   {
    "duration": 12,
    "start_time": "2022-11-14T14:07:55.194Z"
   },
   {
    "duration": 47,
    "start_time": "2022-11-15T15:33:04.115Z"
   },
   {
    "duration": 1599,
    "start_time": "2022-11-15T15:33:10.270Z"
   },
   {
    "duration": 202,
    "start_time": "2022-11-15T15:33:11.872Z"
   },
   {
    "duration": 4,
    "start_time": "2022-11-15T15:33:12.076Z"
   },
   {
    "duration": 12,
    "start_time": "2022-11-15T15:33:12.083Z"
   },
   {
    "duration": 8,
    "start_time": "2022-11-15T15:33:12.097Z"
   },
   {
    "duration": 4,
    "start_time": "2022-11-15T15:33:12.107Z"
   },
   {
    "duration": 21,
    "start_time": "2022-11-15T15:33:12.112Z"
   },
   {
    "duration": 99,
    "start_time": "2022-11-15T15:33:12.135Z"
   },
   {
    "duration": 11,
    "start_time": "2022-11-15T15:33:12.236Z"
   },
   {
    "duration": 51,
    "start_time": "2022-11-15T15:33:12.249Z"
   },
   {
    "duration": 40,
    "start_time": "2022-11-15T15:33:28.912Z"
   },
   {
    "duration": 1507,
    "start_time": "2022-11-18T21:06:32.664Z"
   },
   {
    "duration": 104,
    "start_time": "2022-11-18T21:06:34.173Z"
   },
   {
    "duration": 5,
    "start_time": "2022-11-18T21:06:34.279Z"
   },
   {
    "duration": 13,
    "start_time": "2022-11-18T21:06:34.285Z"
   },
   {
    "duration": 21,
    "start_time": "2022-11-18T21:06:40.342Z"
   },
   {
    "duration": 11,
    "start_time": "2022-11-18T21:06:58.185Z"
   },
   {
    "duration": 8,
    "start_time": "2022-11-18T21:07:25.661Z"
   },
   {
    "duration": 10,
    "start_time": "2022-11-18T21:07:55.303Z"
   },
   {
    "duration": 13,
    "start_time": "2022-11-18T21:08:19.012Z"
   },
   {
    "duration": 5,
    "start_time": "2022-11-18T21:13:49.936Z"
   },
   {
    "duration": 158,
    "start_time": "2022-11-18T21:14:57.463Z"
   },
   {
    "duration": 8,
    "start_time": "2022-11-18T21:15:12.183Z"
   },
   {
    "duration": 8,
    "start_time": "2022-11-18T21:15:28.048Z"
   },
   {
    "duration": 6,
    "start_time": "2022-11-18T21:15:32.356Z"
   },
   {
    "duration": 35,
    "start_time": "2022-11-18T21:17:31.496Z"
   },
   {
    "duration": 8,
    "start_time": "2022-11-18T21:19:02.663Z"
   },
   {
    "duration": 22,
    "start_time": "2022-11-18T21:19:56.166Z"
   },
   {
    "duration": 8,
    "start_time": "2022-11-18T21:20:25.457Z"
   },
   {
    "duration": 15,
    "start_time": "2022-11-18T21:20:36.891Z"
   },
   {
    "duration": 1286,
    "start_time": "2022-11-18T21:20:48.143Z"
   },
   {
    "duration": 70,
    "start_time": "2022-11-18T21:20:49.432Z"
   },
   {
    "duration": 7,
    "start_time": "2022-11-18T21:20:49.504Z"
   },
   {
    "duration": 14,
    "start_time": "2022-11-18T21:20:49.513Z"
   },
   {
    "duration": 14,
    "start_time": "2022-11-18T21:20:49.529Z"
   },
   {
    "duration": 10,
    "start_time": "2022-11-18T21:20:49.544Z"
   },
   {
    "duration": 8,
    "start_time": "2022-11-18T21:20:49.555Z"
   },
   {
    "duration": 4,
    "start_time": "2022-11-18T21:20:49.565Z"
   },
   {
    "duration": 19,
    "start_time": "2022-11-18T21:20:49.597Z"
   },
   {
    "duration": 83,
    "start_time": "2022-11-18T21:20:49.618Z"
   },
   {
    "duration": 12,
    "start_time": "2022-11-18T21:20:49.703Z"
   },
   {
    "duration": 36,
    "start_time": "2022-11-18T21:20:49.717Z"
   },
   {
    "duration": 35,
    "start_time": "2022-11-18T21:20:55.161Z"
   },
   {
    "duration": 39,
    "start_time": "2022-11-18T21:21:07.863Z"
   },
   {
    "duration": 112,
    "start_time": "2022-11-18T21:27:44.884Z"
   },
   {
    "duration": 11,
    "start_time": "2022-11-18T21:27:55.850Z"
   },
   {
    "duration": 44,
    "start_time": "2022-11-18T21:28:21.136Z"
   },
   {
    "duration": 37,
    "start_time": "2022-11-18T21:29:43.541Z"
   },
   {
    "duration": 33,
    "start_time": "2022-11-18T21:29:56.373Z"
   },
   {
    "duration": 39,
    "start_time": "2022-11-18T21:30:05.231Z"
   },
   {
    "duration": 74,
    "start_time": "2022-11-18T21:30:34.927Z"
   },
   {
    "duration": 17,
    "start_time": "2022-11-18T21:33:13.707Z"
   },
   {
    "duration": 52,
    "start_time": "2022-11-18T21:33:46.347Z"
   },
   {
    "duration": 1321,
    "start_time": "2022-11-18T23:28:46.740Z"
   },
   {
    "duration": 64,
    "start_time": "2022-11-18T23:28:48.064Z"
   },
   {
    "duration": 6,
    "start_time": "2022-11-18T23:28:48.129Z"
   },
   {
    "duration": 6,
    "start_time": "2022-11-18T23:28:48.136Z"
   },
   {
    "duration": 12,
    "start_time": "2022-11-18T23:28:48.144Z"
   },
   {
    "duration": 39,
    "start_time": "2022-11-18T23:28:48.158Z"
   },
   {
    "duration": 8,
    "start_time": "2022-11-18T23:28:48.199Z"
   },
   {
    "duration": 16,
    "start_time": "2022-11-18T23:28:48.208Z"
   },
   {
    "duration": 128,
    "start_time": "2022-11-18T23:28:48.226Z"
   },
   {
    "duration": 0,
    "start_time": "2022-11-18T23:28:48.355Z"
   },
   {
    "duration": 0,
    "start_time": "2022-11-18T23:28:48.356Z"
   },
   {
    "duration": 1,
    "start_time": "2022-11-18T23:28:48.357Z"
   },
   {
    "duration": 0,
    "start_time": "2022-11-18T23:28:48.359Z"
   },
   {
    "duration": 35,
    "start_time": "2022-11-18T23:29:21.418Z"
   },
   {
    "duration": 37,
    "start_time": "2022-11-18T23:29:24.546Z"
   },
   {
    "duration": 13,
    "start_time": "2022-11-18T23:29:28.089Z"
   },
   {
    "duration": 35,
    "start_time": "2022-11-18T23:29:33.135Z"
   },
   {
    "duration": 17,
    "start_time": "2022-11-18T23:29:37.452Z"
   },
   {
    "duration": 5,
    "start_time": "2022-11-18T23:31:56.411Z"
   },
   {
    "duration": 4,
    "start_time": "2022-11-18T23:41:26.306Z"
   },
   {
    "duration": 28,
    "start_time": "2022-11-18T23:42:46.986Z"
   },
   {
    "duration": 25,
    "start_time": "2022-11-18T23:43:14.934Z"
   },
   {
    "duration": 30,
    "start_time": "2022-11-18T23:43:17.730Z"
   },
   {
    "duration": 12,
    "start_time": "2022-11-18T23:43:20.091Z"
   },
   {
    "duration": 33,
    "start_time": "2022-11-18T23:43:23.109Z"
   },
   {
    "duration": 17,
    "start_time": "2022-11-18T23:43:25.713Z"
   },
   {
    "duration": 25,
    "start_time": "2022-11-18T23:45:13.248Z"
   },
   {
    "duration": 19,
    "start_time": "2022-11-18T23:48:15.944Z"
   },
   {
    "duration": 25,
    "start_time": "2022-11-18T23:48:59.171Z"
   },
   {
    "duration": 29,
    "start_time": "2022-11-18T23:49:00.573Z"
   },
   {
    "duration": 12,
    "start_time": "2022-11-18T23:49:01.936Z"
   },
   {
    "duration": 32,
    "start_time": "2022-11-18T23:49:04.703Z"
   },
   {
    "duration": 22,
    "start_time": "2022-11-18T23:49:07.637Z"
   },
   {
    "duration": 15,
    "start_time": "2022-11-18T23:50:06.682Z"
   },
   {
    "duration": 16,
    "start_time": "2022-11-18T23:50:12.882Z"
   },
   {
    "duration": 15,
    "start_time": "2022-11-18T23:50:26.193Z"
   },
   {
    "duration": 10,
    "start_time": "2022-11-18T23:50:55.850Z"
   },
   {
    "duration": 12,
    "start_time": "2022-11-18T23:51:11.605Z"
   },
   {
    "duration": 9,
    "start_time": "2022-11-18T23:51:33.766Z"
   },
   {
    "duration": 49,
    "start_time": "2022-11-18T23:51:41.350Z"
   },
   {
    "duration": 9,
    "start_time": "2022-11-18T23:51:46.100Z"
   },
   {
    "duration": 16,
    "start_time": "2022-11-18T23:51:55.229Z"
   },
   {
    "duration": 15,
    "start_time": "2022-11-18T23:52:03.452Z"
   },
   {
    "duration": 15,
    "start_time": "2022-11-18T23:52:09.591Z"
   },
   {
    "duration": 16,
    "start_time": "2022-11-19T00:03:17.667Z"
   },
   {
    "duration": 1369,
    "start_time": "2022-11-19T00:06:52.496Z"
   },
   {
    "duration": 72,
    "start_time": "2022-11-19T00:06:53.867Z"
   },
   {
    "duration": 7,
    "start_time": "2022-11-19T00:06:53.941Z"
   },
   {
    "duration": 5,
    "start_time": "2022-11-19T00:06:53.950Z"
   },
   {
    "duration": 16,
    "start_time": "2022-11-19T00:06:53.958Z"
   },
   {
    "duration": 26,
    "start_time": "2022-11-19T00:06:53.975Z"
   },
   {
    "duration": 8,
    "start_time": "2022-11-19T00:06:54.003Z"
   },
   {
    "duration": 5,
    "start_time": "2022-11-19T00:06:54.013Z"
   },
   {
    "duration": 7,
    "start_time": "2022-11-19T00:06:54.020Z"
   },
   {
    "duration": 24,
    "start_time": "2022-11-19T00:06:54.029Z"
   },
   {
    "duration": 58,
    "start_time": "2022-11-19T00:06:54.054Z"
   },
   {
    "duration": 11,
    "start_time": "2022-11-19T00:06:54.114Z"
   },
   {
    "duration": 41,
    "start_time": "2022-11-19T00:06:54.127Z"
   },
   {
    "duration": 72,
    "start_time": "2022-11-19T00:06:54.169Z"
   },
   {
    "duration": 12,
    "start_time": "2022-11-19T00:14:18.820Z"
   },
   {
    "duration": 57,
    "start_time": "2022-11-19T00:14:19.420Z"
   },
   {
    "duration": 6,
    "start_time": "2022-11-19T00:14:20.087Z"
   },
   {
    "duration": 4,
    "start_time": "2022-11-19T00:14:20.292Z"
   },
   {
    "duration": 10,
    "start_time": "2022-11-19T00:14:20.686Z"
   },
   {
    "duration": 10,
    "start_time": "2022-11-19T00:14:21.135Z"
   },
   {
    "duration": 7,
    "start_time": "2022-11-19T00:14:21.270Z"
   },
   {
    "duration": 4,
    "start_time": "2022-11-19T00:14:21.643Z"
   },
   {
    "duration": 4,
    "start_time": "2022-11-19T00:14:22.184Z"
   },
   {
    "duration": 17,
    "start_time": "2022-11-19T00:14:22.357Z"
   },
   {
    "duration": 32,
    "start_time": "2022-11-19T00:14:22.734Z"
   },
   {
    "duration": 12,
    "start_time": "2022-11-19T00:14:23.286Z"
   },
   {
    "duration": 37,
    "start_time": "2022-11-19T00:14:24.282Z"
   },
   {
    "duration": 66,
    "start_time": "2022-11-19T00:14:25.907Z"
   },
   {
    "duration": 64,
    "start_time": "2022-11-19T00:15:05.777Z"
   },
   {
    "duration": 14655,
    "start_time": "2022-11-19T00:20:38.469Z"
   },
   {
    "duration": 415958,
    "start_time": "2022-11-19T00:21:12.524Z"
   },
   {
    "duration": 13,
    "start_time": "2022-11-19T00:31:42.219Z"
   },
   {
    "duration": 237,
    "start_time": "2022-11-19T00:32:07.946Z"
   },
   {
    "duration": 30,
    "start_time": "2022-11-19T00:33:08.114Z"
   },
   {
    "duration": 24,
    "start_time": "2022-11-19T00:33:28.611Z"
   },
   {
    "duration": 15,
    "start_time": "2022-11-19T00:43:35.422Z"
   },
   {
    "duration": 16,
    "start_time": "2022-11-19T00:44:12.123Z"
   },
   {
    "duration": 14,
    "start_time": "2022-11-19T00:44:17.413Z"
   },
   {
    "duration": 15,
    "start_time": "2022-11-19T00:44:24.892Z"
   },
   {
    "duration": 173,
    "start_time": "2022-11-19T00:44:33.933Z"
   },
   {
    "duration": 14,
    "start_time": "2022-11-19T00:44:46.728Z"
   },
   {
    "duration": 12,
    "start_time": "2022-11-19T00:45:18.686Z"
   },
   {
    "duration": 26630,
    "start_time": "2022-11-19T00:45:22.378Z"
   },
   {
    "duration": 0,
    "start_time": "2022-11-19T00:45:49.010Z"
   },
   {
    "duration": 229,
    "start_time": "2022-11-19T00:45:52.788Z"
   },
   {
    "duration": 407525,
    "start_time": "2022-11-19T00:46:19.510Z"
   },
   {
    "duration": 47,
    "start_time": "2022-11-21T06:55:24.294Z"
   },
   {
    "duration": 1508,
    "start_time": "2022-11-21T06:55:29.833Z"
   },
   {
    "duration": 99,
    "start_time": "2022-11-21T06:55:31.343Z"
   },
   {
    "duration": 5,
    "start_time": "2022-11-21T06:55:31.443Z"
   },
   {
    "duration": 8,
    "start_time": "2022-11-21T06:55:31.450Z"
   },
   {
    "duration": 13,
    "start_time": "2022-11-21T06:55:31.459Z"
   },
   {
    "duration": 8,
    "start_time": "2022-11-21T06:55:31.474Z"
   },
   {
    "duration": 8,
    "start_time": "2022-11-21T06:55:31.483Z"
   },
   {
    "duration": 5,
    "start_time": "2022-11-21T06:55:31.492Z"
   },
   {
    "duration": 7,
    "start_time": "2022-11-21T06:55:31.498Z"
   },
   {
    "duration": 42,
    "start_time": "2022-11-21T06:55:31.507Z"
   },
   {
    "duration": 34,
    "start_time": "2022-11-21T06:55:31.551Z"
   },
   {
    "duration": 11,
    "start_time": "2022-11-21T06:55:31.587Z"
   },
   {
    "duration": 63,
    "start_time": "2022-11-21T06:55:31.599Z"
   },
   {
    "duration": 12,
    "start_time": "2022-11-21T06:55:31.663Z"
   },
   {
    "duration": 483344,
    "start_time": "2022-11-21T06:55:31.677Z"
   },
   {
    "duration": 267,
    "start_time": "2022-11-21T07:03:35.023Z"
   },
   {
    "duration": 23,
    "start_time": "2022-11-21T07:03:35.292Z"
   },
   {
    "duration": 1508,
    "start_time": "2022-11-21T07:08:14.117Z"
   },
   {
    "duration": 93,
    "start_time": "2022-11-21T07:08:15.627Z"
   },
   {
    "duration": 7,
    "start_time": "2022-11-21T07:08:15.723Z"
   },
   {
    "duration": 55,
    "start_time": "2022-11-21T07:08:15.733Z"
   },
   {
    "duration": 20,
    "start_time": "2022-11-21T07:08:15.789Z"
   },
   {
    "duration": 65,
    "start_time": "2022-11-21T07:08:15.810Z"
   },
   {
    "duration": 34,
    "start_time": "2022-11-21T07:08:15.877Z"
   },
   {
    "duration": 16,
    "start_time": "2022-11-21T07:08:15.913Z"
   },
   {
    "duration": 53,
    "start_time": "2022-11-21T07:08:15.930Z"
   },
   {
    "duration": 218,
    "start_time": "2022-11-21T07:08:15.986Z"
   },
   {
    "duration": 0,
    "start_time": "2022-11-21T07:08:16.206Z"
   },
   {
    "duration": 0,
    "start_time": "2022-11-21T07:08:16.207Z"
   },
   {
    "duration": 0,
    "start_time": "2022-11-21T07:08:16.208Z"
   },
   {
    "duration": 0,
    "start_time": "2022-11-21T07:08:16.209Z"
   },
   {
    "duration": 0,
    "start_time": "2022-11-21T07:08:16.210Z"
   },
   {
    "duration": 0,
    "start_time": "2022-11-21T07:08:16.212Z"
   },
   {
    "duration": 0,
    "start_time": "2022-11-21T07:08:16.213Z"
   },
   {
    "duration": 29,
    "start_time": "2022-11-21T07:08:58.562Z"
   },
   {
    "duration": 31,
    "start_time": "2022-11-21T07:09:06.027Z"
   },
   {
    "duration": 24,
    "start_time": "2022-11-21T07:09:19.889Z"
   },
   {
    "duration": 30,
    "start_time": "2022-11-21T07:09:32.969Z"
   },
   {
    "duration": 19,
    "start_time": "2022-11-21T07:09:52.760Z"
   },
   {
    "duration": 34,
    "start_time": "2022-11-21T07:09:53.985Z"
   },
   {
    "duration": 12,
    "start_time": "2022-11-21T07:09:54.521Z"
   },
   {
    "duration": 51,
    "start_time": "2022-11-21T07:09:55.305Z"
   },
   {
    "duration": 13,
    "start_time": "2022-11-21T07:09:56.263Z"
   },
   {
    "duration": 6,
    "start_time": "2022-11-21T07:09:56.963Z"
   },
   {
    "duration": 295,
    "start_time": "2022-11-21T07:09:57.602Z"
   },
   {
    "duration": 28,
    "start_time": "2022-11-21T07:09:59.450Z"
   },
   {
    "duration": 28,
    "start_time": "2022-11-21T07:10:14.186Z"
   },
   {
    "duration": 56,
    "start_time": "2022-11-21T07:10:18.028Z"
   },
   {
    "duration": 11,
    "start_time": "2022-11-21T07:10:18.086Z"
   },
   {
    "duration": 49,
    "start_time": "2022-11-21T07:10:18.098Z"
   },
   {
    "duration": 21,
    "start_time": "2022-11-21T07:10:18.150Z"
   },
   {
    "duration": 4,
    "start_time": "2022-11-21T07:10:18.175Z"
   },
   {
    "duration": 303,
    "start_time": "2022-11-21T07:10:18.181Z"
   },
   {
    "duration": 24,
    "start_time": "2022-11-21T07:10:18.486Z"
   },
   {
    "duration": 28,
    "start_time": "2022-11-21T07:12:48.795Z"
   },
   {
    "duration": 66,
    "start_time": "2022-11-21T07:14:16.794Z"
   },
   {
    "duration": 43,
    "start_time": "2022-11-21T07:14:28.635Z"
   },
   {
    "duration": 33,
    "start_time": "2022-11-21T07:15:01.531Z"
   },
   {
    "duration": 20,
    "start_time": "2022-11-21T07:15:22.061Z"
   },
   {
    "duration": 28,
    "start_time": "2022-11-21T07:15:25.157Z"
   },
   {
    "duration": 32,
    "start_time": "2022-11-21T07:21:08.671Z"
   },
   {
    "duration": 21,
    "start_time": "2022-11-21T07:22:54.288Z"
   },
   {
    "duration": 29,
    "start_time": "2022-11-21T07:29:03.526Z"
   },
   {
    "duration": 29,
    "start_time": "2022-11-21T07:29:25.421Z"
   },
   {
    "duration": 28,
    "start_time": "2022-11-21T07:30:02.886Z"
   },
   {
    "duration": 55,
    "start_time": "2022-11-21T07:30:08.575Z"
   },
   {
    "duration": 20,
    "start_time": "2022-11-21T07:30:14.187Z"
   },
   {
    "duration": 26,
    "start_time": "2022-11-21T07:30:36.664Z"
   },
   {
    "duration": 34,
    "start_time": "2022-11-21T07:31:27.982Z"
   },
   {
    "duration": 23,
    "start_time": "2022-11-21T07:41:26.576Z"
   },
   {
    "duration": 38,
    "start_time": "2022-11-21T07:42:39.568Z"
   },
   {
    "duration": 11,
    "start_time": "2022-11-21T07:42:46.112Z"
   },
   {
    "duration": 4,
    "start_time": "2022-11-21T07:42:47.256Z"
   },
   {
    "duration": 289,
    "start_time": "2022-11-21T07:42:49.064Z"
   },
   {
    "duration": 27,
    "start_time": "2022-11-21T07:42:52.376Z"
   },
   {
    "duration": 963,
    "start_time": "2022-11-21T07:44:38.224Z"
   },
   {
    "duration": 276,
    "start_time": "2022-11-21T08:01:19.900Z"
   },
   {
    "duration": 290,
    "start_time": "2022-11-21T08:01:27.557Z"
   },
   {
    "duration": 11,
    "start_time": "2022-11-21T08:25:01.801Z"
   },
   {
    "duration": 43,
    "start_time": "2022-11-21T08:25:02.953Z"
   },
   {
    "duration": 1325,
    "start_time": "2022-11-21T08:25:14.175Z"
   },
   {
    "duration": 67,
    "start_time": "2022-11-21T08:25:15.502Z"
   },
   {
    "duration": 18,
    "start_time": "2022-11-21T08:25:15.572Z"
   },
   {
    "duration": 29,
    "start_time": "2022-11-21T08:25:15.592Z"
   },
   {
    "duration": 46,
    "start_time": "2022-11-21T08:25:15.623Z"
   },
   {
    "duration": 48,
    "start_time": "2022-11-21T08:25:15.671Z"
   },
   {
    "duration": 56,
    "start_time": "2022-11-21T08:25:15.722Z"
   },
   {
    "duration": 40,
    "start_time": "2022-11-21T08:25:15.779Z"
   },
   {
    "duration": 41,
    "start_time": "2022-11-21T08:25:15.821Z"
   },
   {
    "duration": 74,
    "start_time": "2022-11-21T08:25:15.865Z"
   },
   {
    "duration": 63,
    "start_time": "2022-11-21T08:25:15.941Z"
   },
   {
    "duration": 17,
    "start_time": "2022-11-21T08:25:16.007Z"
   },
   {
    "duration": 111,
    "start_time": "2022-11-21T08:25:16.036Z"
   },
   {
    "duration": 16,
    "start_time": "2022-11-21T08:25:16.149Z"
   },
   {
    "duration": 103,
    "start_time": "2022-11-21T08:25:16.168Z"
   },
   {
    "duration": 1022,
    "start_time": "2022-11-21T08:25:16.276Z"
   },
   {
    "duration": 5,
    "start_time": "2022-11-21T08:25:17.300Z"
   },
   {
    "duration": 323,
    "start_time": "2022-11-21T08:25:17.307Z"
   },
   {
    "duration": 29,
    "start_time": "2022-11-21T08:25:17.635Z"
   },
   {
    "duration": 12,
    "start_time": "2022-11-21T08:26:03.790Z"
   },
   {
    "duration": 35,
    "start_time": "2022-11-21T08:26:04.737Z"
   },
   {
    "duration": 53,
    "start_time": "2022-11-21T08:26:32.698Z"
   },
   {
    "duration": 945,
    "start_time": "2022-11-21T08:26:45.433Z"
   },
   {
    "duration": 8,
    "start_time": "2022-11-21T08:52:31.856Z"
   },
   {
    "duration": 1397,
    "start_time": "2022-11-21T08:52:44.813Z"
   },
   {
    "duration": 75,
    "start_time": "2022-11-21T08:52:46.212Z"
   },
   {
    "duration": 7,
    "start_time": "2022-11-21T08:52:46.288Z"
   },
   {
    "duration": 13,
    "start_time": "2022-11-21T08:52:46.297Z"
   },
   {
    "duration": 15,
    "start_time": "2022-11-21T08:52:46.312Z"
   },
   {
    "duration": 16,
    "start_time": "2022-11-21T08:52:46.329Z"
   },
   {
    "duration": 9,
    "start_time": "2022-11-21T08:52:46.347Z"
   },
   {
    "duration": 6,
    "start_time": "2022-11-21T08:52:46.359Z"
   },
   {
    "duration": 26,
    "start_time": "2022-11-21T08:52:46.367Z"
   },
   {
    "duration": 69,
    "start_time": "2022-11-21T08:52:46.396Z"
   },
   {
    "duration": 10,
    "start_time": "2022-11-21T08:52:46.467Z"
   },
   {
    "duration": 58,
    "start_time": "2022-11-21T08:52:46.479Z"
   },
   {
    "duration": 18,
    "start_time": "2022-11-21T08:52:46.540Z"
   },
   {
    "duration": 961,
    "start_time": "2022-11-21T08:52:46.559Z"
   },
   {
    "duration": 14,
    "start_time": "2022-11-21T08:52:47.522Z"
   },
   {
    "duration": 250,
    "start_time": "2022-11-21T08:52:47.538Z"
   },
   {
    "duration": 23,
    "start_time": "2022-11-21T08:52:47.790Z"
   },
   {
    "duration": 8,
    "start_time": "2022-11-21T08:59:16.693Z"
   },
   {
    "duration": 1516,
    "start_time": "2022-11-21T08:59:57.148Z"
   },
   {
    "duration": 75,
    "start_time": "2022-11-21T08:59:58.667Z"
   },
   {
    "duration": 8,
    "start_time": "2022-11-21T08:59:58.744Z"
   },
   {
    "duration": 35,
    "start_time": "2022-11-21T08:59:58.755Z"
   },
   {
    "duration": 42,
    "start_time": "2022-11-21T08:59:58.792Z"
   },
   {
    "duration": 35,
    "start_time": "2022-11-21T08:59:58.836Z"
   },
   {
    "duration": 28,
    "start_time": "2022-11-21T08:59:58.873Z"
   },
   {
    "duration": 24,
    "start_time": "2022-11-21T08:59:58.903Z"
   },
   {
    "duration": 82,
    "start_time": "2022-11-21T08:59:58.930Z"
   },
   {
    "duration": 161,
    "start_time": "2022-11-21T08:59:59.014Z"
   },
   {
    "duration": 0,
    "start_time": "2022-11-21T08:59:59.177Z"
   },
   {
    "duration": 0,
    "start_time": "2022-11-21T08:59:59.179Z"
   },
   {
    "duration": 0,
    "start_time": "2022-11-21T08:59:59.181Z"
   },
   {
    "duration": 0,
    "start_time": "2022-11-21T08:59:59.182Z"
   },
   {
    "duration": 0,
    "start_time": "2022-11-21T08:59:59.184Z"
   },
   {
    "duration": 0,
    "start_time": "2022-11-21T08:59:59.185Z"
   },
   {
    "duration": 0,
    "start_time": "2022-11-21T08:59:59.187Z"
   },
   {
    "duration": 8,
    "start_time": "2022-11-21T09:00:24.856Z"
   },
   {
    "duration": 23,
    "start_time": "2022-11-21T09:00:26.224Z"
   },
   {
    "duration": 1491,
    "start_time": "2022-11-21T09:00:31.708Z"
   },
   {
    "duration": 65,
    "start_time": "2022-11-21T09:00:33.201Z"
   },
   {
    "duration": 7,
    "start_time": "2022-11-21T09:00:33.268Z"
   },
   {
    "duration": 20,
    "start_time": "2022-11-21T09:00:33.277Z"
   },
   {
    "duration": 16,
    "start_time": "2022-11-21T09:00:33.299Z"
   },
   {
    "duration": 9,
    "start_time": "2022-11-21T09:00:33.317Z"
   },
   {
    "duration": 13,
    "start_time": "2022-11-21T09:00:33.335Z"
   },
   {
    "duration": 7,
    "start_time": "2022-11-21T09:00:33.351Z"
   },
   {
    "duration": 34,
    "start_time": "2022-11-21T09:00:33.361Z"
   },
   {
    "duration": 61,
    "start_time": "2022-11-21T09:00:33.398Z"
   },
   {
    "duration": 11,
    "start_time": "2022-11-21T09:00:33.461Z"
   },
   {
    "duration": 64,
    "start_time": "2022-11-21T09:00:33.473Z"
   },
   {
    "duration": 19,
    "start_time": "2022-11-21T09:00:33.540Z"
   },
   {
    "duration": 985,
    "start_time": "2022-11-21T09:00:33.561Z"
   },
   {
    "duration": 7,
    "start_time": "2022-11-21T09:00:34.548Z"
   },
   {
    "duration": 289,
    "start_time": "2022-11-21T09:00:34.557Z"
   },
   {
    "duration": 27,
    "start_time": "2022-11-21T09:00:34.851Z"
   },
   {
    "duration": 136,
    "start_time": "2022-11-21T09:06:18.738Z"
   },
   {
    "duration": 18,
    "start_time": "2022-11-21T09:06:42.529Z"
   },
   {
    "duration": 4,
    "start_time": "2022-11-21T09:07:02.475Z"
   },
   {
    "duration": 5,
    "start_time": "2022-11-21T09:07:11.689Z"
   },
   {
    "duration": 19,
    "start_time": "2022-11-21T09:07:37.451Z"
   },
   {
    "duration": 2545,
    "start_time": "2022-11-21T09:10:55.620Z"
   },
   {
    "duration": 961,
    "start_time": "2022-11-21T09:12:43.923Z"
   },
   {
    "duration": 11,
    "start_time": "2022-11-21T09:17:37.588Z"
   },
   {
    "duration": 985,
    "start_time": "2022-11-21T09:17:39.972Z"
   },
   {
    "duration": 1518,
    "start_time": "2022-11-21T09:17:49.662Z"
   },
   {
    "duration": 64,
    "start_time": "2022-11-21T09:17:51.182Z"
   },
   {
    "duration": 11,
    "start_time": "2022-11-21T09:17:51.248Z"
   },
   {
    "duration": 8,
    "start_time": "2022-11-21T09:17:51.262Z"
   },
   {
    "duration": 16,
    "start_time": "2022-11-21T09:17:51.272Z"
   },
   {
    "duration": 9,
    "start_time": "2022-11-21T09:17:51.290Z"
   },
   {
    "duration": 38,
    "start_time": "2022-11-21T09:17:51.301Z"
   },
   {
    "duration": 7,
    "start_time": "2022-11-21T09:17:51.342Z"
   },
   {
    "duration": 39,
    "start_time": "2022-11-21T09:17:51.352Z"
   },
   {
    "duration": 44,
    "start_time": "2022-11-21T09:17:51.394Z"
   },
   {
    "duration": 19,
    "start_time": "2022-11-21T09:17:51.441Z"
   },
   {
    "duration": 76,
    "start_time": "2022-11-21T09:17:51.462Z"
   },
   {
    "duration": 145,
    "start_time": "2022-11-21T09:17:51.540Z"
   },
   {
    "duration": 0,
    "start_time": "2022-11-21T09:17:51.687Z"
   },
   {
    "duration": 1,
    "start_time": "2022-11-21T09:17:51.688Z"
   },
   {
    "duration": 0,
    "start_time": "2022-11-21T09:17:51.690Z"
   },
   {
    "duration": 0,
    "start_time": "2022-11-21T09:17:51.691Z"
   },
   {
    "duration": 0,
    "start_time": "2022-11-21T09:17:51.692Z"
   },
   {
    "duration": 683,
    "start_time": "2022-11-21T09:18:21.261Z"
   },
   {
    "duration": 11,
    "start_time": "2022-11-21T09:18:25.084Z"
   },
   {
    "duration": 1044,
    "start_time": "2022-11-21T09:18:26.708Z"
   },
   {
    "duration": 4,
    "start_time": "2022-11-21T09:19:49.804Z"
   },
   {
    "duration": 1602,
    "start_time": "2022-11-21T09:27:28.130Z"
   },
   {
    "duration": 70,
    "start_time": "2022-11-21T09:27:29.736Z"
   },
   {
    "duration": 14,
    "start_time": "2022-11-21T09:27:29.808Z"
   },
   {
    "duration": 22,
    "start_time": "2022-11-21T09:27:29.825Z"
   },
   {
    "duration": 27,
    "start_time": "2022-11-21T09:27:29.850Z"
   },
   {
    "duration": 32,
    "start_time": "2022-11-21T09:27:29.879Z"
   },
   {
    "duration": 21,
    "start_time": "2022-11-21T09:27:29.913Z"
   },
   {
    "duration": 35,
    "start_time": "2022-11-21T09:27:29.937Z"
   },
   {
    "duration": 94,
    "start_time": "2022-11-21T09:27:29.974Z"
   },
   {
    "duration": 43,
    "start_time": "2022-11-21T09:27:30.070Z"
   },
   {
    "duration": 22,
    "start_time": "2022-11-21T09:27:30.115Z"
   },
   {
    "duration": 61,
    "start_time": "2022-11-21T09:27:30.139Z"
   },
   {
    "duration": 688,
    "start_time": "2022-11-21T09:27:30.202Z"
   },
   {
    "duration": 17,
    "start_time": "2022-11-21T09:27:30.893Z"
   },
   {
    "duration": 1090,
    "start_time": "2022-11-21T09:27:30.913Z"
   },
   {
    "duration": 7,
    "start_time": "2022-11-21T09:27:32.006Z"
   },
   {
    "duration": 306,
    "start_time": "2022-11-21T09:27:32.015Z"
   },
   {
    "duration": 42,
    "start_time": "2022-11-21T09:27:32.323Z"
   },
   {
    "duration": 157,
    "start_time": "2022-11-21T09:27:32.366Z"
   },
   {
    "duration": 25,
    "start_time": "2022-11-21T09:27:44.526Z"
   },
   {
    "duration": 36,
    "start_time": "2022-11-21T09:43:50.098Z"
   },
   {
    "duration": 25,
    "start_time": "2022-11-21T09:43:58.057Z"
   },
   {
    "duration": 14,
    "start_time": "2022-11-21T09:48:18.138Z"
   },
   {
    "duration": 10,
    "start_time": "2022-11-21T09:54:56.251Z"
   },
   {
    "duration": 14,
    "start_time": "2022-11-21T09:55:05.468Z"
   },
   {
    "duration": 16,
    "start_time": "2022-11-21T09:56:35.292Z"
   },
   {
    "duration": 13,
    "start_time": "2022-11-21T09:56:39.548Z"
   },
   {
    "duration": 14,
    "start_time": "2022-11-21T09:56:46.397Z"
   },
   {
    "duration": 23,
    "start_time": "2022-11-21T09:57:05.718Z"
   },
   {
    "duration": 15,
    "start_time": "2022-11-21T09:57:51.413Z"
   },
   {
    "duration": 14,
    "start_time": "2022-11-21T09:58:03.070Z"
   },
   {
    "duration": 13,
    "start_time": "2022-11-21T09:58:21.813Z"
   },
   {
    "duration": 6,
    "start_time": "2022-11-21T10:00:02.670Z"
   },
   {
    "duration": 138,
    "start_time": "2022-11-21T10:00:31.861Z"
   },
   {
    "duration": 26,
    "start_time": "2022-11-21T10:26:47.865Z"
   },
   {
    "duration": 13,
    "start_time": "2022-11-21T10:33:14.386Z"
   },
   {
    "duration": 14,
    "start_time": "2022-11-21T10:34:03.006Z"
   },
   {
    "duration": 26,
    "start_time": "2022-11-21T10:34:12.339Z"
   },
   {
    "duration": 15,
    "start_time": "2022-11-21T10:36:06.186Z"
   },
   {
    "duration": 21,
    "start_time": "2022-11-21T10:36:17.507Z"
   },
   {
    "duration": 1594,
    "start_time": "2022-11-21T10:51:17.571Z"
   },
   {
    "duration": 66,
    "start_time": "2022-11-21T10:51:19.167Z"
   },
   {
    "duration": 9,
    "start_time": "2022-11-21T10:51:19.236Z"
   },
   {
    "duration": 33,
    "start_time": "2022-11-21T10:51:19.248Z"
   },
   {
    "duration": 18,
    "start_time": "2022-11-21T10:51:19.284Z"
   },
   {
    "duration": 15,
    "start_time": "2022-11-21T10:51:19.304Z"
   },
   {
    "duration": 11,
    "start_time": "2022-11-21T10:51:19.321Z"
   },
   {
    "duration": 37,
    "start_time": "2022-11-21T10:51:19.334Z"
   },
   {
    "duration": 40,
    "start_time": "2022-11-21T10:51:19.373Z"
   },
   {
    "duration": 45,
    "start_time": "2022-11-21T10:51:19.416Z"
   },
   {
    "duration": 13,
    "start_time": "2022-11-21T10:51:19.464Z"
   },
   {
    "duration": 48,
    "start_time": "2022-11-21T10:51:19.479Z"
   },
   {
    "duration": 793,
    "start_time": "2022-11-21T10:51:19.528Z"
   },
   {
    "duration": 42,
    "start_time": "2022-11-21T10:51:20.323Z"
   },
   {
    "duration": 1037,
    "start_time": "2022-11-21T10:51:20.367Z"
   },
   {
    "duration": 773936,
    "start_time": "2022-11-21T10:51:21.406Z"
   },
   {
    "duration": 293,
    "start_time": "2022-11-21T11:04:15.345Z"
   },
   {
    "duration": 35,
    "start_time": "2022-11-21T11:04:15.640Z"
   },
   {
    "duration": 71,
    "start_time": "2022-11-21T11:04:15.677Z"
   },
   {
    "duration": 280,
    "start_time": "2022-11-21T11:04:15.750Z"
   },
   {
    "duration": 161,
    "start_time": "2022-11-21T11:22:54.718Z"
   },
   {
    "duration": 257,
    "start_time": "2022-11-21T11:23:21.198Z"
   },
   {
    "duration": 1552,
    "start_time": "2022-11-21T11:23:48.754Z"
   },
   {
    "duration": 70,
    "start_time": "2022-11-21T11:23:50.308Z"
   },
   {
    "duration": 8,
    "start_time": "2022-11-21T11:23:50.380Z"
   },
   {
    "duration": 13,
    "start_time": "2022-11-21T11:23:50.389Z"
   },
   {
    "duration": 19,
    "start_time": "2022-11-21T11:23:50.404Z"
   },
   {
    "duration": 21,
    "start_time": "2022-11-21T11:23:50.425Z"
   },
   {
    "duration": 16,
    "start_time": "2022-11-21T11:23:50.448Z"
   },
   {
    "duration": 10,
    "start_time": "2022-11-21T11:23:50.466Z"
   },
   {
    "duration": 34,
    "start_time": "2022-11-21T11:23:50.478Z"
   },
   {
    "duration": 53,
    "start_time": "2022-11-21T11:23:50.514Z"
   },
   {
    "duration": 13,
    "start_time": "2022-11-21T11:23:50.569Z"
   },
   {
    "duration": 73,
    "start_time": "2022-11-21T11:23:50.584Z"
   },
   {
    "duration": 753,
    "start_time": "2022-11-21T11:23:50.658Z"
   },
   {
    "duration": 29,
    "start_time": "2022-11-21T11:23:51.414Z"
   },
   {
    "duration": 1018,
    "start_time": "2022-11-21T11:23:51.445Z"
   },
   {
    "duration": 444063,
    "start_time": "2022-11-21T11:23:52.466Z"
   },
   {
    "duration": 264,
    "start_time": "2022-11-21T11:31:16.542Z"
   },
   {
    "duration": 44,
    "start_time": "2022-11-21T11:31:16.808Z"
   },
   {
    "duration": 20,
    "start_time": "2022-11-21T11:31:16.854Z"
   },
   {
    "duration": 141,
    "start_time": "2022-11-21T11:31:16.875Z"
   },
   {
    "duration": 1406,
    "start_time": "2022-11-21T11:36:59.461Z"
   },
   {
    "duration": 83,
    "start_time": "2022-11-21T11:37:00.869Z"
   },
   {
    "duration": 47,
    "start_time": "2022-11-21T11:37:00.955Z"
   },
   {
    "duration": 72,
    "start_time": "2022-11-21T11:37:01.004Z"
   },
   {
    "duration": 80,
    "start_time": "2022-11-21T11:37:01.079Z"
   },
   {
    "duration": 34,
    "start_time": "2022-11-21T11:37:01.160Z"
   },
   {
    "duration": 69,
    "start_time": "2022-11-21T11:37:01.195Z"
   },
   {
    "duration": 37,
    "start_time": "2022-11-21T11:37:01.266Z"
   },
   {
    "duration": 67,
    "start_time": "2022-11-21T11:37:01.305Z"
   },
   {
    "duration": 56,
    "start_time": "2022-11-21T11:37:01.374Z"
   },
   {
    "duration": 32,
    "start_time": "2022-11-21T11:37:01.433Z"
   },
   {
    "duration": 55,
    "start_time": "2022-11-21T11:37:01.467Z"
   },
   {
    "duration": 743,
    "start_time": "2022-11-21T11:37:01.524Z"
   },
   {
    "duration": 16,
    "start_time": "2022-11-21T11:37:02.268Z"
   },
   {
    "duration": 1058,
    "start_time": "2022-11-21T11:37:02.286Z"
   },
   {
    "duration": 201081,
    "start_time": "2022-11-21T11:37:03.348Z"
   },
   {
    "duration": 15,
    "start_time": "2022-11-21T11:40:24.431Z"
   },
   {
    "duration": 0,
    "start_time": "2022-11-21T11:40:24.448Z"
   },
   {
    "duration": 0,
    "start_time": "2022-11-21T11:40:24.450Z"
   },
   {
    "duration": 0,
    "start_time": "2022-11-21T11:40:24.451Z"
   },
   {
    "duration": 1374,
    "start_time": "2022-11-21T11:40:28.365Z"
   },
   {
    "duration": 62,
    "start_time": "2022-11-21T11:40:29.742Z"
   },
   {
    "duration": 7,
    "start_time": "2022-11-21T11:40:29.805Z"
   },
   {
    "duration": 24,
    "start_time": "2022-11-21T11:40:29.814Z"
   },
   {
    "duration": 36,
    "start_time": "2022-11-21T11:40:29.840Z"
   },
   {
    "duration": 37,
    "start_time": "2022-11-21T11:40:29.878Z"
   },
   {
    "duration": 35,
    "start_time": "2022-11-21T11:40:29.917Z"
   },
   {
    "duration": 44,
    "start_time": "2022-11-21T11:40:29.954Z"
   },
   {
    "duration": 53,
    "start_time": "2022-11-21T11:40:30.001Z"
   },
   {
    "duration": 68,
    "start_time": "2022-11-21T11:40:30.057Z"
   },
   {
    "duration": 14,
    "start_time": "2022-11-21T11:40:30.127Z"
   },
   {
    "duration": 70,
    "start_time": "2022-11-21T11:40:30.143Z"
   },
   {
    "duration": 633,
    "start_time": "2022-11-21T11:40:30.214Z"
   },
   {
    "duration": 16,
    "start_time": "2022-11-21T11:40:30.849Z"
   },
   {
    "duration": 905,
    "start_time": "2022-11-21T11:40:30.866Z"
   },
   {
    "duration": 652480,
    "start_time": "2022-11-21T11:40:31.773Z"
   },
   {
    "duration": 20,
    "start_time": "2022-11-21T11:51:24.255Z"
   },
   {
    "duration": 41,
    "start_time": "2022-11-21T11:51:24.277Z"
   },
   {
    "duration": 41,
    "start_time": "2022-11-21T11:51:24.320Z"
   },
   {
    "duration": 136,
    "start_time": "2022-11-21T11:51:24.362Z"
   },
   {
    "duration": 1433,
    "start_time": "2022-11-21T11:53:36.004Z"
   },
   {
    "duration": 59,
    "start_time": "2022-11-21T11:53:37.448Z"
   },
   {
    "duration": 7,
    "start_time": "2022-11-21T11:53:37.509Z"
   },
   {
    "duration": 36,
    "start_time": "2022-11-21T11:53:37.517Z"
   },
   {
    "duration": 14,
    "start_time": "2022-11-21T11:53:37.555Z"
   },
   {
    "duration": 17,
    "start_time": "2022-11-21T11:53:37.570Z"
   },
   {
    "duration": 12,
    "start_time": "2022-11-21T11:53:37.588Z"
   },
   {
    "duration": 12,
    "start_time": "2022-11-21T11:53:37.602Z"
   },
   {
    "duration": 33,
    "start_time": "2022-11-21T11:53:37.616Z"
   },
   {
    "duration": 30,
    "start_time": "2022-11-21T11:53:37.652Z"
   },
   {
    "duration": 10,
    "start_time": "2022-11-21T11:53:37.684Z"
   },
   {
    "duration": 57,
    "start_time": "2022-11-21T11:53:37.695Z"
   },
   {
    "duration": 652,
    "start_time": "2022-11-21T11:53:37.754Z"
   },
   {
    "duration": 14,
    "start_time": "2022-11-21T11:53:38.408Z"
   },
   {
    "duration": 921,
    "start_time": "2022-11-21T11:53:38.437Z"
   },
   {
    "duration": 876187,
    "start_time": "2022-11-21T11:53:39.360Z"
   },
   {
    "duration": 30,
    "start_time": "2022-11-21T12:08:15.549Z"
   },
   {
    "duration": 290,
    "start_time": "2022-11-21T12:08:15.581Z"
   },
   {
    "duration": 29,
    "start_time": "2022-11-21T12:08:15.872Z"
   },
   {
    "duration": 152,
    "start_time": "2022-11-21T12:08:15.902Z"
   },
   {
    "duration": 5,
    "start_time": "2022-11-21T12:21:09.066Z"
   },
   {
    "duration": 1455,
    "start_time": "2022-11-21T12:21:16.034Z"
   },
   {
    "duration": 65,
    "start_time": "2022-11-21T12:21:17.490Z"
   },
   {
    "duration": 5,
    "start_time": "2022-11-21T12:21:19.418Z"
   },
   {
    "duration": 5,
    "start_time": "2022-11-21T12:21:20.465Z"
   },
   {
    "duration": 17,
    "start_time": "2022-11-21T12:21:21.434Z"
   },
   {
    "duration": 19,
    "start_time": "2022-11-21T12:21:23.522Z"
   },
   {
    "duration": 8,
    "start_time": "2022-11-21T12:21:24.586Z"
   },
   {
    "duration": 5,
    "start_time": "2022-11-21T12:21:25.602Z"
   },
   {
    "duration": 29,
    "start_time": "2022-11-21T12:21:30.418Z"
   },
   {
    "duration": 38,
    "start_time": "2022-11-21T12:21:34.027Z"
   },
   {
    "duration": 13,
    "start_time": "2022-11-21T12:21:42.618Z"
   },
   {
    "duration": 12,
    "start_time": "2022-11-21T12:22:11.962Z"
   },
   {
    "duration": 11,
    "start_time": "2022-11-21T12:22:24.489Z"
   },
   {
    "duration": 38,
    "start_time": "2022-11-21T12:24:10.158Z"
   },
   {
    "duration": 38,
    "start_time": "2022-11-21T12:24:27.866Z"
   },
   {
    "duration": 49,
    "start_time": "2022-11-21T12:24:46.594Z"
   },
   {
    "duration": 42,
    "start_time": "2022-11-21T12:24:54.570Z"
   },
   {
    "duration": 52,
    "start_time": "2022-11-21T12:24:58.130Z"
   },
   {
    "duration": 827,
    "start_time": "2022-11-21T12:25:34.365Z"
   },
   {
    "duration": 42,
    "start_time": "2022-11-21T12:26:19.764Z"
   },
   {
    "duration": 40,
    "start_time": "2022-11-21T12:26:20.778Z"
   },
   {
    "duration": 42,
    "start_time": "2022-11-21T12:26:21.683Z"
   },
   {
    "duration": 48,
    "start_time": "2022-11-21T12:26:23.011Z"
   },
   {
    "duration": 704,
    "start_time": "2022-11-21T12:26:25.363Z"
   },
   {
    "duration": 14,
    "start_time": "2022-11-21T12:26:29.970Z"
   },
   {
    "duration": 992,
    "start_time": "2022-11-21T12:26:54.467Z"
   },
   {
    "duration": 1405,
    "start_time": "2022-11-21T12:29:06.868Z"
   },
   {
    "duration": 58,
    "start_time": "2022-11-21T12:29:08.275Z"
   },
   {
    "duration": 9,
    "start_time": "2022-11-21T12:29:08.340Z"
   },
   {
    "duration": 27,
    "start_time": "2022-11-21T12:29:08.353Z"
   },
   {
    "duration": 12,
    "start_time": "2022-11-21T12:29:08.382Z"
   },
   {
    "duration": 8,
    "start_time": "2022-11-21T12:29:08.396Z"
   },
   {
    "duration": 16,
    "start_time": "2022-11-21T12:29:08.406Z"
   },
   {
    "duration": 59,
    "start_time": "2022-11-21T12:29:08.424Z"
   },
   {
    "duration": 64,
    "start_time": "2022-11-21T12:29:08.485Z"
   },
   {
    "duration": 56,
    "start_time": "2022-11-21T12:29:08.551Z"
   },
   {
    "duration": 11,
    "start_time": "2022-11-21T12:29:08.608Z"
   },
   {
    "duration": 57,
    "start_time": "2022-11-21T12:29:08.621Z"
   },
   {
    "duration": 720,
    "start_time": "2022-11-21T12:29:08.679Z"
   },
   {
    "duration": 13,
    "start_time": "2022-11-21T12:29:09.401Z"
   },
   {
    "duration": 1005,
    "start_time": "2022-11-21T12:29:09.416Z"
   },
   {
    "duration": 189034,
    "start_time": "2022-11-21T12:29:10.423Z"
   },
   {
    "duration": 20,
    "start_time": "2022-11-21T12:32:19.463Z"
   },
   {
    "duration": 0,
    "start_time": "2022-11-21T12:32:19.485Z"
   },
   {
    "duration": 0,
    "start_time": "2022-11-21T12:32:19.487Z"
   },
   {
    "duration": 0,
    "start_time": "2022-11-21T12:32:19.488Z"
   },
   {
    "duration": 1630,
    "start_time": "2022-11-21T12:54:50.524Z"
   },
   {
    "duration": 62,
    "start_time": "2022-11-21T12:54:52.157Z"
   },
   {
    "duration": 11,
    "start_time": "2022-11-21T12:54:52.221Z"
   },
   {
    "duration": 27,
    "start_time": "2022-11-21T12:54:52.234Z"
   },
   {
    "duration": 43,
    "start_time": "2022-11-21T12:54:52.263Z"
   },
   {
    "duration": 29,
    "start_time": "2022-11-21T12:54:52.307Z"
   },
   {
    "duration": 47,
    "start_time": "2022-11-21T12:54:52.343Z"
   },
   {
    "duration": 76,
    "start_time": "2022-11-21T12:54:52.392Z"
   },
   {
    "duration": 67,
    "start_time": "2022-11-21T12:54:52.470Z"
   },
   {
    "duration": 78,
    "start_time": "2022-11-21T12:54:52.543Z"
   },
   {
    "duration": 30,
    "start_time": "2022-11-21T12:54:52.623Z"
   },
   {
    "duration": 161,
    "start_time": "2022-11-21T12:54:52.656Z"
   },
   {
    "duration": 901,
    "start_time": "2022-11-21T12:54:52.819Z"
   },
   {
    "duration": 26,
    "start_time": "2022-11-21T12:54:53.722Z"
   },
   {
    "duration": 1123,
    "start_time": "2022-11-21T12:54:53.752Z"
   },
   {
    "duration": 660100,
    "start_time": "2022-11-21T12:54:54.878Z"
   },
   {
    "duration": 24,
    "start_time": "2022-11-21T13:05:54.983Z"
   },
   {
    "duration": 0,
    "start_time": "2022-11-21T13:05:55.011Z"
   },
   {
    "duration": 0,
    "start_time": "2022-11-21T13:05:55.016Z"
   },
   {
    "duration": 0,
    "start_time": "2022-11-21T13:05:55.017Z"
   },
   {
    "duration": 1445,
    "start_time": "2022-11-21T13:06:53.620Z"
   },
   {
    "duration": 64,
    "start_time": "2022-11-21T13:06:55.068Z"
   },
   {
    "duration": 8,
    "start_time": "2022-11-21T13:06:55.134Z"
   },
   {
    "duration": 22,
    "start_time": "2022-11-21T13:06:55.145Z"
   },
   {
    "duration": 24,
    "start_time": "2022-11-21T13:06:55.169Z"
   },
   {
    "duration": 12,
    "start_time": "2022-11-21T13:06:55.195Z"
   },
   {
    "duration": 23,
    "start_time": "2022-11-21T13:06:55.209Z"
   },
   {
    "duration": 15,
    "start_time": "2022-11-21T13:06:55.233Z"
   },
   {
    "duration": 40,
    "start_time": "2022-11-21T13:06:55.250Z"
   },
   {
    "duration": 45,
    "start_time": "2022-11-21T13:06:55.293Z"
   },
   {
    "duration": 15,
    "start_time": "2022-11-21T13:06:55.340Z"
   },
   {
    "duration": 50,
    "start_time": "2022-11-21T13:06:55.357Z"
   },
   {
    "duration": 760,
    "start_time": "2022-11-21T13:06:55.436Z"
   },
   {
    "duration": 17,
    "start_time": "2022-11-21T13:06:56.198Z"
   },
   {
    "duration": 1035,
    "start_time": "2022-11-21T13:06:56.217Z"
   },
   {
    "duration": 156210,
    "start_time": "2022-11-21T13:06:57.254Z"
   },
   {
    "duration": 88,
    "start_time": "2022-11-21T13:09:33.466Z"
   },
   {
    "duration": 71,
    "start_time": "2022-11-21T13:09:33.560Z"
   },
   {
    "duration": 43,
    "start_time": "2022-11-21T13:09:33.634Z"
   },
   {
    "duration": 141,
    "start_time": "2022-11-21T13:09:33.679Z"
   },
   {
    "duration": 68,
    "start_time": "2022-11-21T13:12:26.899Z"
   },
   {
    "duration": 12,
    "start_time": "2022-11-21T13:13:23.373Z"
   },
   {
    "duration": 13,
    "start_time": "2022-11-21T13:13:33.826Z"
   },
   {
    "duration": 11,
    "start_time": "2022-11-21T13:13:38.572Z"
   },
   {
    "duration": 43,
    "start_time": "2022-11-22T06:15:14.256Z"
   },
   {
    "duration": 1490,
    "start_time": "2022-11-22T06:15:24.294Z"
   },
   {
    "duration": 99,
    "start_time": "2022-11-22T06:15:25.787Z"
   },
   {
    "duration": 6,
    "start_time": "2022-11-22T06:15:25.888Z"
   },
   {
    "duration": 30,
    "start_time": "2022-11-22T06:19:48.922Z"
   },
   {
    "duration": 15,
    "start_time": "2022-11-22T06:20:10.026Z"
   },
   {
    "duration": 11,
    "start_time": "2022-11-22T06:20:25.115Z"
   },
   {
    "duration": 18,
    "start_time": "2022-11-22T06:20:33.985Z"
   },
   {
    "duration": 8,
    "start_time": "2022-11-22T06:20:44.025Z"
   },
   {
    "duration": 9,
    "start_time": "2022-11-22T06:21:11.225Z"
   },
   {
    "duration": 7,
    "start_time": "2022-11-22T06:21:44.442Z"
   },
   {
    "duration": 4,
    "start_time": "2022-11-22T06:23:47.130Z"
   },
   {
    "duration": 4,
    "start_time": "2022-11-22T06:23:48.808Z"
   },
   {
    "duration": 59,
    "start_time": "2022-11-22T06:23:49.386Z"
   },
   {
    "duration": 8,
    "start_time": "2022-11-22T06:23:49.851Z"
   },
   {
    "duration": 4,
    "start_time": "2022-11-22T06:23:51.053Z"
   },
   {
    "duration": 10,
    "start_time": "2022-11-22T06:23:51.587Z"
   },
   {
    "duration": 12,
    "start_time": "2022-11-22T06:23:52.461Z"
   },
   {
    "duration": 9,
    "start_time": "2022-11-22T06:23:52.730Z"
   },
   {
    "duration": 7,
    "start_time": "2022-11-22T06:23:53.402Z"
   },
   {
    "duration": 25,
    "start_time": "2022-11-22T06:24:00.691Z"
   },
   {
    "duration": 5,
    "start_time": "2022-11-22T06:32:50.033Z"
   },
   {
    "duration": 72,
    "start_time": "2022-11-22T06:32:50.040Z"
   },
   {
    "duration": 7,
    "start_time": "2022-11-22T06:32:50.114Z"
   },
   {
    "duration": 28,
    "start_time": "2022-11-22T06:32:50.123Z"
   },
   {
    "duration": 24,
    "start_time": "2022-11-22T06:32:50.155Z"
   },
   {
    "duration": 16,
    "start_time": "2022-11-22T06:32:50.181Z"
   },
   {
    "duration": 22,
    "start_time": "2022-11-22T06:32:50.199Z"
   },
   {
    "duration": 31,
    "start_time": "2022-11-22T06:32:50.224Z"
   },
   {
    "duration": 50,
    "start_time": "2022-11-22T06:32:50.257Z"
   },
   {
    "duration": 14,
    "start_time": "2022-11-22T06:32:54.117Z"
   },
   {
    "duration": 32,
    "start_time": "2022-11-22T06:32:56.524Z"
   },
   {
    "duration": 13,
    "start_time": "2022-11-22T06:33:05.340Z"
   },
   {
    "duration": 37,
    "start_time": "2022-11-22T06:33:15.404Z"
   },
   {
    "duration": 701,
    "start_time": "2022-11-22T06:33:27.524Z"
   },
   {
    "duration": 114,
    "start_time": "2022-11-22T06:53:10.480Z"
   },
   {
    "duration": 3,
    "start_time": "2022-11-22T06:53:14.975Z"
   },
   {
    "duration": 68,
    "start_time": "2022-11-22T06:53:14.981Z"
   },
   {
    "duration": 9,
    "start_time": "2022-11-22T06:53:15.051Z"
   },
   {
    "duration": 39,
    "start_time": "2022-11-22T06:53:15.062Z"
   },
   {
    "duration": 24,
    "start_time": "2022-11-22T06:53:15.102Z"
   },
   {
    "duration": 16,
    "start_time": "2022-11-22T06:53:15.128Z"
   },
   {
    "duration": 27,
    "start_time": "2022-11-22T06:53:15.146Z"
   },
   {
    "duration": 21,
    "start_time": "2022-11-22T06:53:15.178Z"
   },
   {
    "duration": 36,
    "start_time": "2022-11-22T06:53:15.202Z"
   },
   {
    "duration": 13,
    "start_time": "2022-11-22T06:53:15.240Z"
   },
   {
    "duration": 45,
    "start_time": "2022-11-22T06:53:15.255Z"
   },
   {
    "duration": 11,
    "start_time": "2022-11-22T06:53:19.256Z"
   },
   {
    "duration": 664,
    "start_time": "2022-11-22T06:53:54.679Z"
   },
   {
    "duration": 8,
    "start_time": "2022-11-22T06:58:58.089Z"
   },
   {
    "duration": 6,
    "start_time": "2022-11-22T07:01:33.770Z"
   },
   {
    "duration": 7,
    "start_time": "2022-11-22T07:02:06.505Z"
   },
   {
    "duration": 13,
    "start_time": "2022-11-22T07:05:04.575Z"
   },
   {
    "duration": 10,
    "start_time": "2022-11-22T07:05:38.323Z"
   },
   {
    "duration": 11,
    "start_time": "2022-11-22T07:05:43.307Z"
   },
   {
    "duration": 10,
    "start_time": "2022-11-22T07:05:47.123Z"
   },
   {
    "duration": 53,
    "start_time": "2022-11-22T07:05:50.914Z"
   },
   {
    "duration": 12,
    "start_time": "2022-11-22T07:05:55.276Z"
   },
   {
    "duration": 10,
    "start_time": "2022-11-22T07:08:33.271Z"
   },
   {
    "duration": 10,
    "start_time": "2022-11-22T07:08:42.052Z"
   },
   {
    "duration": 10,
    "start_time": "2022-11-22T07:09:36.444Z"
   },
   {
    "duration": 19,
    "start_time": "2022-11-22T07:13:36.932Z"
   },
   {
    "duration": 14,
    "start_time": "2022-11-22T07:15:26.958Z"
   },
   {
    "duration": 11,
    "start_time": "2022-11-22T07:15:35.805Z"
   },
   {
    "duration": 44,
    "start_time": "2022-11-22T07:16:55.517Z"
   },
   {
    "duration": 150,
    "start_time": "2022-11-22T07:17:59.372Z"
   },
   {
    "duration": 177,
    "start_time": "2022-11-22T07:18:17.614Z"
   },
   {
    "duration": 3,
    "start_time": "2022-11-22T07:18:44.803Z"
   },
   {
    "duration": 71,
    "start_time": "2022-11-22T07:18:44.808Z"
   },
   {
    "duration": 7,
    "start_time": "2022-11-22T07:18:44.881Z"
   },
   {
    "duration": 6,
    "start_time": "2022-11-22T07:18:44.890Z"
   },
   {
    "duration": 13,
    "start_time": "2022-11-22T07:18:44.897Z"
   },
   {
    "duration": 9,
    "start_time": "2022-11-22T07:18:44.911Z"
   },
   {
    "duration": 9,
    "start_time": "2022-11-22T07:18:44.938Z"
   },
   {
    "duration": 22,
    "start_time": "2022-11-22T07:18:44.950Z"
   },
   {
    "duration": 40,
    "start_time": "2022-11-22T07:18:44.974Z"
   },
   {
    "duration": 16,
    "start_time": "2022-11-22T07:18:45.016Z"
   },
   {
    "duration": 73,
    "start_time": "2022-11-22T07:18:45.035Z"
   },
   {
    "duration": 22,
    "start_time": "2022-11-22T07:18:45.110Z"
   },
   {
    "duration": 735,
    "start_time": "2022-11-22T07:18:45.135Z"
   },
   {
    "duration": 161,
    "start_time": "2022-11-22T07:18:49.001Z"
   },
   {
    "duration": 45,
    "start_time": "2022-11-22T07:18:52.814Z"
   },
   {
    "duration": 4,
    "start_time": "2022-11-22T08:25:34.467Z"
   },
   {
    "duration": 63,
    "start_time": "2022-11-22T08:25:38.002Z"
   },
   {
    "duration": 8,
    "start_time": "2022-11-22T08:25:39.084Z"
   },
   {
    "duration": 4,
    "start_time": "2022-11-22T08:25:40.795Z"
   },
   {
    "duration": 10,
    "start_time": "2022-11-22T08:25:41.531Z"
   },
   {
    "duration": 10,
    "start_time": "2022-11-22T08:25:43.196Z"
   },
   {
    "duration": 8,
    "start_time": "2022-11-22T08:25:43.835Z"
   },
   {
    "duration": 6,
    "start_time": "2022-11-22T08:25:44.731Z"
   },
   {
    "duration": 37,
    "start_time": "2022-11-22T08:25:51.180Z"
   },
   {
    "duration": 12,
    "start_time": "2022-11-22T08:26:21.787Z"
   },
   {
    "duration": 29,
    "start_time": "2022-11-22T08:26:24.788Z"
   },
   {
    "duration": 12,
    "start_time": "2022-11-22T08:26:28.860Z"
   },
   {
    "duration": 716,
    "start_time": "2022-11-22T08:26:31.763Z"
   },
   {
    "duration": 60,
    "start_time": "2022-11-22T08:31:39.654Z"
   },
   {
    "duration": 69,
    "start_time": "2022-11-22T08:31:41.829Z"
   },
   {
    "duration": 12,
    "start_time": "2022-11-22T08:31:42.870Z"
   },
   {
    "duration": 5,
    "start_time": "2022-11-22T08:31:47.060Z"
   },
   {
    "duration": 14,
    "start_time": "2022-11-22T08:31:47.277Z"
   },
   {
    "duration": 10,
    "start_time": "2022-11-22T08:31:50.973Z"
   },
   {
    "duration": 8,
    "start_time": "2022-11-22T08:31:51.557Z"
   },
   {
    "duration": 5,
    "start_time": "2022-11-22T08:31:53.478Z"
   },
   {
    "duration": 34028,
    "start_time": "2022-11-22T08:32:17.029Z"
   },
   {
    "duration": 35662,
    "start_time": "2022-11-22T08:36:08.382Z"
   },
   {
    "duration": 805,
    "start_time": "2022-11-22T08:46:34.271Z"
   },
   {
    "duration": 188,
    "start_time": "2022-11-22T08:46:57.184Z"
   },
   {
    "duration": 4,
    "start_time": "2022-11-22T08:47:07.948Z"
   },
   {
    "duration": 68,
    "start_time": "2022-11-22T08:47:07.954Z"
   },
   {
    "duration": 7,
    "start_time": "2022-11-22T08:47:08.024Z"
   },
   {
    "duration": 7,
    "start_time": "2022-11-22T08:47:08.034Z"
   },
   {
    "duration": 17,
    "start_time": "2022-11-22T08:47:08.043Z"
   },
   {
    "duration": 10,
    "start_time": "2022-11-22T08:47:08.062Z"
   },
   {
    "duration": 10,
    "start_time": "2022-11-22T08:47:08.073Z"
   },
   {
    "duration": 8,
    "start_time": "2022-11-22T08:47:08.085Z"
   },
   {
    "duration": 34497,
    "start_time": "2022-11-22T08:47:08.095Z"
   },
   {
    "duration": 52,
    "start_time": "2022-11-22T08:47:42.595Z"
   },
   {
    "duration": 15,
    "start_time": "2022-11-22T08:47:42.649Z"
   },
   {
    "duration": 73,
    "start_time": "2022-11-22T08:47:42.667Z"
   },
   {
    "duration": 9,
    "start_time": "2022-11-22T08:47:42.742Z"
   },
   {
    "duration": 730,
    "start_time": "2022-11-22T08:47:42.753Z"
   },
   {
    "duration": 783,
    "start_time": "2022-11-22T08:47:43.485Z"
   },
   {
    "duration": 176,
    "start_time": "2022-11-22T08:47:44.269Z"
   },
   {
    "duration": 973,
    "start_time": "2022-11-22T08:48:36.472Z"
   },
   {
    "duration": 3536,
    "start_time": "2022-11-22T08:49:37.199Z"
   },
   {
    "duration": 3655,
    "start_time": "2022-11-22T08:49:50.904Z"
   },
   {
    "duration": 3496,
    "start_time": "2022-11-22T08:50:03.561Z"
   },
   {
    "duration": 706,
    "start_time": "2022-11-22T08:50:07.059Z"
   },
   {
    "duration": 35,
    "start_time": "2022-11-22T08:52:20.321Z"
   },
   {
    "duration": 11,
    "start_time": "2022-11-22T08:57:27.305Z"
   },
   {
    "duration": 18,
    "start_time": "2022-11-22T08:57:50.361Z"
   },
   {
    "duration": 23,
    "start_time": "2022-11-22T09:14:05.666Z"
   },
   {
    "duration": 17,
    "start_time": "2022-11-22T09:14:49.813Z"
   },
   {
    "duration": 18,
    "start_time": "2022-11-22T09:15:21.165Z"
   },
   {
    "duration": 26,
    "start_time": "2022-11-22T09:15:31.404Z"
   },
   {
    "duration": 26,
    "start_time": "2022-11-22T09:16:02.470Z"
   },
   {
    "duration": 15,
    "start_time": "2022-11-22T09:16:07.051Z"
   },
   {
    "duration": 5,
    "start_time": "2022-11-22T09:16:09.205Z"
   },
   {
    "duration": 25,
    "start_time": "2022-11-22T09:16:19.205Z"
   },
   {
    "duration": 9,
    "start_time": "2022-11-22T09:19:01.622Z"
   },
   {
    "duration": 5,
    "start_time": "2022-11-22T09:19:08.845Z"
   },
   {
    "duration": 17,
    "start_time": "2022-11-22T09:19:21.838Z"
   },
   {
    "duration": 10,
    "start_time": "2022-11-22T09:19:53.750Z"
   },
   {
    "duration": 17,
    "start_time": "2022-11-22T09:19:58.038Z"
   },
   {
    "duration": 12,
    "start_time": "2022-11-22T09:20:28.582Z"
   },
   {
    "duration": 22,
    "start_time": "2022-11-22T09:20:42.790Z"
   },
   {
    "duration": 12,
    "start_time": "2022-11-22T09:20:59.223Z"
   },
   {
    "duration": 18,
    "start_time": "2022-11-22T09:21:05.407Z"
   },
   {
    "duration": 19,
    "start_time": "2022-11-22T09:22:58.256Z"
   },
   {
    "duration": 10,
    "start_time": "2022-11-22T09:23:41.263Z"
   },
   {
    "duration": 4,
    "start_time": "2022-11-22T09:23:58.420Z"
   },
   {
    "duration": 76,
    "start_time": "2022-11-22T09:23:58.427Z"
   },
   {
    "duration": 9,
    "start_time": "2022-11-22T09:23:58.505Z"
   },
   {
    "duration": 34,
    "start_time": "2022-11-22T09:23:58.517Z"
   },
   {
    "duration": 25,
    "start_time": "2022-11-22T09:23:58.553Z"
   },
   {
    "duration": 18,
    "start_time": "2022-11-22T09:23:58.580Z"
   },
   {
    "duration": 29,
    "start_time": "2022-11-22T09:23:58.601Z"
   },
   {
    "duration": 26,
    "start_time": "2022-11-22T09:23:58.632Z"
   },
   {
    "duration": 28,
    "start_time": "2022-11-22T09:23:58.660Z"
   },
   {
    "duration": 42,
    "start_time": "2022-11-22T09:23:58.690Z"
   },
   {
    "duration": 27,
    "start_time": "2022-11-22T09:24:02.016Z"
   },
   {
    "duration": 12,
    "start_time": "2022-11-22T09:24:16.008Z"
   },
   {
    "duration": 11,
    "start_time": "2022-11-22T09:24:19.455Z"
   },
   {
    "duration": 12,
    "start_time": "2022-11-22T09:24:28.991Z"
   },
   {
    "duration": 5,
    "start_time": "2022-11-22T09:24:39.240Z"
   },
   {
    "duration": 79,
    "start_time": "2022-11-22T09:24:39.247Z"
   },
   {
    "duration": 10,
    "start_time": "2022-11-22T09:24:39.328Z"
   },
   {
    "duration": 5,
    "start_time": "2022-11-22T09:24:39.341Z"
   },
   {
    "duration": 16,
    "start_time": "2022-11-22T09:24:39.348Z"
   },
   {
    "duration": 15,
    "start_time": "2022-11-22T09:24:39.365Z"
   },
   {
    "duration": 17,
    "start_time": "2022-11-22T09:24:39.382Z"
   },
   {
    "duration": 11,
    "start_time": "2022-11-22T09:24:39.401Z"
   },
   {
    "duration": 26,
    "start_time": "2022-11-22T09:24:39.414Z"
   },
   {
    "duration": 35,
    "start_time": "2022-11-22T09:24:39.443Z"
   },
   {
    "duration": 29,
    "start_time": "2022-11-22T09:24:42.256Z"
   },
   {
    "duration": 9,
    "start_time": "2022-11-22T09:25:11.880Z"
   },
   {
    "duration": 4,
    "start_time": "2022-11-22T09:25:17.364Z"
   },
   {
    "duration": 74,
    "start_time": "2022-11-22T09:25:17.371Z"
   },
   {
    "duration": 8,
    "start_time": "2022-11-22T09:25:17.447Z"
   },
   {
    "duration": 31,
    "start_time": "2022-11-22T09:25:17.457Z"
   },
   {
    "duration": 23,
    "start_time": "2022-11-22T09:25:17.491Z"
   },
   {
    "duration": 14,
    "start_time": "2022-11-22T09:25:17.517Z"
   },
   {
    "duration": 20,
    "start_time": "2022-11-22T09:25:17.533Z"
   },
   {
    "duration": 7,
    "start_time": "2022-11-22T09:25:17.556Z"
   },
   {
    "duration": 7,
    "start_time": "2022-11-22T09:25:17.566Z"
   },
   {
    "duration": 43,
    "start_time": "2022-11-22T09:25:17.576Z"
   },
   {
    "duration": 21,
    "start_time": "2022-11-22T09:25:21.135Z"
   },
   {
    "duration": 9,
    "start_time": "2022-11-22T09:26:47.944Z"
   },
   {
    "duration": 23,
    "start_time": "2022-11-22T09:26:51.993Z"
   },
   {
    "duration": 33,
    "start_time": "2022-11-22T09:26:52.632Z"
   },
   {
    "duration": 15,
    "start_time": "2022-11-22T09:26:54.402Z"
   },
   {
    "duration": 732,
    "start_time": "2022-11-22T09:26:55.608Z"
   },
   {
    "duration": 3606,
    "start_time": "2022-11-22T09:26:57.392Z"
   },
   {
    "duration": 690,
    "start_time": "2022-11-22T09:27:03.777Z"
   },
   {
    "duration": 41,
    "start_time": "2022-11-22T09:27:07.767Z"
   },
   {
    "duration": 19,
    "start_time": "2022-11-22T09:27:10.048Z"
   },
   {
    "duration": 5,
    "start_time": "2022-11-22T09:27:46.444Z"
   },
   {
    "duration": 72,
    "start_time": "2022-11-22T09:27:46.451Z"
   },
   {
    "duration": 10,
    "start_time": "2022-11-22T09:27:46.525Z"
   },
   {
    "duration": 9,
    "start_time": "2022-11-22T09:27:46.537Z"
   },
   {
    "duration": 15,
    "start_time": "2022-11-22T09:27:46.549Z"
   },
   {
    "duration": 11,
    "start_time": "2022-11-22T09:27:46.565Z"
   },
   {
    "duration": 15,
    "start_time": "2022-11-22T09:27:46.578Z"
   },
   {
    "duration": 13,
    "start_time": "2022-11-22T09:27:46.595Z"
   },
   {
    "duration": 11,
    "start_time": "2022-11-22T09:27:46.610Z"
   },
   {
    "duration": 33,
    "start_time": "2022-11-22T09:27:46.632Z"
   },
   {
    "duration": 14,
    "start_time": "2022-11-22T09:27:46.668Z"
   },
   {
    "duration": 18,
    "start_time": "2022-11-22T09:28:05.704Z"
   },
   {
    "duration": 22,
    "start_time": "2022-11-22T09:28:17.224Z"
   },
   {
    "duration": 6,
    "start_time": "2022-11-22T09:28:30.835Z"
   },
   {
    "duration": 104,
    "start_time": "2022-11-22T09:28:30.843Z"
   },
   {
    "duration": 10,
    "start_time": "2022-11-22T09:28:30.949Z"
   },
   {
    "duration": 22,
    "start_time": "2022-11-22T09:28:30.962Z"
   },
   {
    "duration": 47,
    "start_time": "2022-11-22T09:28:30.986Z"
   },
   {
    "duration": 48,
    "start_time": "2022-11-22T09:28:31.034Z"
   },
   {
    "duration": 22,
    "start_time": "2022-11-22T09:28:31.084Z"
   },
   {
    "duration": 6,
    "start_time": "2022-11-22T09:28:31.108Z"
   },
   {
    "duration": 15,
    "start_time": "2022-11-22T09:28:31.115Z"
   },
   {
    "duration": 39,
    "start_time": "2022-11-22T09:28:31.132Z"
   },
   {
    "duration": 29,
    "start_time": "2022-11-22T09:28:33.088Z"
   },
   {
    "duration": 35,
    "start_time": "2022-11-22T09:29:23.969Z"
   },
   {
    "duration": 14,
    "start_time": "2022-11-22T09:29:28.568Z"
   },
   {
    "duration": 813,
    "start_time": "2022-11-22T09:29:32.032Z"
   },
   {
    "duration": 3580,
    "start_time": "2022-11-22T09:29:35.801Z"
   },
   {
    "duration": 684,
    "start_time": "2022-11-22T09:29:50.172Z"
   },
   {
    "duration": 43,
    "start_time": "2022-11-22T09:29:59.041Z"
   },
   {
    "duration": 20,
    "start_time": "2022-11-22T09:30:03.617Z"
   },
   {
    "duration": 4,
    "start_time": "2022-11-22T09:37:00.206Z"
   },
   {
    "duration": 69,
    "start_time": "2022-11-22T09:37:00.213Z"
   },
   {
    "duration": 8,
    "start_time": "2022-11-22T09:37:00.284Z"
   },
   {
    "duration": 17,
    "start_time": "2022-11-22T09:37:00.294Z"
   },
   {
    "duration": 17,
    "start_time": "2022-11-22T09:37:00.312Z"
   },
   {
    "duration": 34,
    "start_time": "2022-11-22T09:37:00.330Z"
   },
   {
    "duration": 38,
    "start_time": "2022-11-22T09:37:00.366Z"
   },
   {
    "duration": 25,
    "start_time": "2022-11-22T09:37:00.406Z"
   },
   {
    "duration": 34,
    "start_time": "2022-11-22T09:37:00.433Z"
   },
   {
    "duration": 37,
    "start_time": "2022-11-22T09:37:00.470Z"
   },
   {
    "duration": 29,
    "start_time": "2022-11-22T09:37:03.650Z"
   },
   {
    "duration": 1538,
    "start_time": "2022-11-22T09:37:30.756Z"
   },
   {
    "duration": 66,
    "start_time": "2022-11-22T09:37:32.296Z"
   },
   {
    "duration": 10,
    "start_time": "2022-11-22T09:37:32.364Z"
   },
   {
    "duration": 35,
    "start_time": "2022-11-22T09:37:32.376Z"
   },
   {
    "duration": 62,
    "start_time": "2022-11-22T09:37:32.413Z"
   },
   {
    "duration": 45,
    "start_time": "2022-11-22T09:37:32.478Z"
   },
   {
    "duration": 11,
    "start_time": "2022-11-22T09:37:35.419Z"
   },
   {
    "duration": 10,
    "start_time": "2022-11-22T09:37:36.706Z"
   },
   {
    "duration": 5,
    "start_time": "2022-11-22T09:37:37.747Z"
   },
   {
    "duration": 2,
    "start_time": "2022-11-22T09:37:39.069Z"
   },
   {
    "duration": 38,
    "start_time": "2022-11-22T09:37:40.811Z"
   },
   {
    "duration": 131,
    "start_time": "2022-11-22T09:37:44.670Z"
   },
   {
    "duration": 5,
    "start_time": "2022-11-22T09:38:12.807Z"
   },
   {
    "duration": 70,
    "start_time": "2022-11-22T09:38:12.814Z"
   },
   {
    "duration": 9,
    "start_time": "2022-11-22T09:38:12.885Z"
   },
   {
    "duration": 22,
    "start_time": "2022-11-22T09:38:12.896Z"
   },
   {
    "duration": 16,
    "start_time": "2022-11-22T09:38:12.921Z"
   },
   {
    "duration": 15,
    "start_time": "2022-11-22T09:38:12.939Z"
   },
   {
    "duration": 11,
    "start_time": "2022-11-22T09:38:12.956Z"
   },
   {
    "duration": 7,
    "start_time": "2022-11-22T09:38:12.969Z"
   },
   {
    "duration": 15,
    "start_time": "2022-11-22T09:38:12.978Z"
   },
   {
    "duration": 57,
    "start_time": "2022-11-22T09:38:12.996Z"
   },
   {
    "duration": 36,
    "start_time": "2022-11-22T09:38:13.056Z"
   },
   {
    "duration": 53,
    "start_time": "2022-11-22T09:38:13.095Z"
   },
   {
    "duration": 13,
    "start_time": "2022-11-22T09:38:13.150Z"
   },
   {
    "duration": 750,
    "start_time": "2022-11-22T09:38:13.166Z"
   },
   {
    "duration": 3593,
    "start_time": "2022-11-22T09:38:13.917Z"
   },
   {
    "duration": 686,
    "start_time": "2022-11-22T09:38:17.512Z"
   },
   {
    "duration": 47,
    "start_time": "2022-11-22T09:38:18.200Z"
   },
   {
    "duration": 18,
    "start_time": "2022-11-22T09:38:18.250Z"
   },
   {
    "duration": 22,
    "start_time": "2022-11-22T09:42:24.715Z"
   },
   {
    "duration": 32,
    "start_time": "2022-11-22T09:42:42.269Z"
   },
   {
    "duration": 5,
    "start_time": "2022-11-22T09:42:50.828Z"
   },
   {
    "duration": 64,
    "start_time": "2022-11-22T09:42:50.835Z"
   },
   {
    "duration": 9,
    "start_time": "2022-11-22T09:42:50.900Z"
   },
   {
    "duration": 27,
    "start_time": "2022-11-22T09:42:50.911Z"
   },
   {
    "duration": 28,
    "start_time": "2022-11-22T09:42:50.941Z"
   },
   {
    "duration": 28,
    "start_time": "2022-11-22T09:42:50.970Z"
   },
   {
    "duration": 15,
    "start_time": "2022-11-22T09:42:51.001Z"
   },
   {
    "duration": 5,
    "start_time": "2022-11-22T09:42:51.019Z"
   },
   {
    "duration": 16,
    "start_time": "2022-11-22T09:42:51.026Z"
   },
   {
    "duration": 41,
    "start_time": "2022-11-22T09:42:51.044Z"
   },
   {
    "duration": 35,
    "start_time": "2022-11-22T09:42:53.644Z"
   },
   {
    "duration": 15,
    "start_time": "2022-11-22T09:43:33.716Z"
   },
   {
    "duration": 1413,
    "start_time": "2022-11-22T09:43:45.277Z"
   },
   {
    "duration": 82,
    "start_time": "2022-11-22T09:43:46.692Z"
   },
   {
    "duration": 10,
    "start_time": "2022-11-22T09:43:46.776Z"
   },
   {
    "duration": 12,
    "start_time": "2022-11-22T09:43:46.789Z"
   },
   {
    "duration": 35,
    "start_time": "2022-11-22T09:43:46.804Z"
   },
   {
    "duration": 22,
    "start_time": "2022-11-22T09:43:46.841Z"
   },
   {
    "duration": 19,
    "start_time": "2022-11-22T09:43:49.820Z"
   },
   {
    "duration": 9,
    "start_time": "2022-11-22T09:49:25.213Z"
   },
   {
    "duration": 58,
    "start_time": "2022-11-22T09:49:28.509Z"
   },
   {
    "duration": 9,
    "start_time": "2022-11-22T09:49:30.917Z"
   },
   {
    "duration": 5,
    "start_time": "2022-11-22T09:49:33.428Z"
   },
   {
    "duration": 12,
    "start_time": "2022-11-22T09:49:33.789Z"
   },
   {
    "duration": 12,
    "start_time": "2022-11-22T09:49:35.606Z"
   },
   {
    "duration": 20,
    "start_time": "2022-11-22T09:49:37.038Z"
   },
   {
    "duration": 9,
    "start_time": "2022-11-22T09:49:42.134Z"
   },
   {
    "duration": 4,
    "start_time": "2022-11-22T09:49:43.254Z"
   },
   {
    "duration": 2,
    "start_time": "2022-11-22T09:49:44.925Z"
   },
   {
    "duration": 128,
    "start_time": "2022-11-22T09:53:23.223Z"
   },
   {
    "duration": 30,
    "start_time": "2022-11-22T09:53:38.430Z"
   },
   {
    "duration": 5,
    "start_time": "2022-11-22T10:00:33.047Z"
   },
   {
    "duration": 41,
    "start_time": "2022-11-22T10:01:39.104Z"
   },
   {
    "duration": 40,
    "start_time": "2022-11-22T10:02:36.832Z"
   },
   {
    "duration": 45,
    "start_time": "2022-11-22T10:02:53.919Z"
   },
   {
    "duration": 33,
    "start_time": "2022-11-22T10:03:06.848Z"
   },
   {
    "duration": 19,
    "start_time": "2022-11-22T10:03:44.399Z"
   },
   {
    "duration": 22,
    "start_time": "2022-11-22T10:03:47.495Z"
   },
   {
    "duration": 43,
    "start_time": "2022-11-22T10:04:31.496Z"
   },
   {
    "duration": 39,
    "start_time": "2022-11-22T10:04:35.977Z"
   },
   {
    "duration": 35,
    "start_time": "2022-11-22T10:04:38.039Z"
   },
   {
    "duration": 4,
    "start_time": "2022-11-22T10:04:54.714Z"
   },
   {
    "duration": 73,
    "start_time": "2022-11-22T10:04:54.720Z"
   },
   {
    "duration": 8,
    "start_time": "2022-11-22T10:04:54.796Z"
   },
   {
    "duration": 9,
    "start_time": "2022-11-22T10:04:54.806Z"
   },
   {
    "duration": 11,
    "start_time": "2022-11-22T10:04:54.817Z"
   },
   {
    "duration": 14,
    "start_time": "2022-11-22T10:04:54.829Z"
   },
   {
    "duration": 9,
    "start_time": "2022-11-22T10:04:54.844Z"
   },
   {
    "duration": 9,
    "start_time": "2022-11-22T10:04:54.855Z"
   },
   {
    "duration": 29,
    "start_time": "2022-11-22T10:04:54.866Z"
   },
   {
    "duration": 31,
    "start_time": "2022-11-22T10:04:54.898Z"
   },
   {
    "duration": 78,
    "start_time": "2022-11-22T10:04:54.931Z"
   },
   {
    "duration": 2,
    "start_time": "2022-11-22T10:04:56.913Z"
   },
   {
    "duration": 32,
    "start_time": "2022-11-22T10:04:58.792Z"
   },
   {
    "duration": 14,
    "start_time": "2022-11-22T10:05:05.368Z"
   },
   {
    "duration": 680,
    "start_time": "2022-11-22T10:05:11.256Z"
   },
   {
    "duration": 3687,
    "start_time": "2022-11-22T10:05:14.936Z"
   },
   {
    "duration": 44,
    "start_time": "2022-11-22T10:06:42.809Z"
   },
   {
    "duration": 3,
    "start_time": "2022-11-22T10:06:46.088Z"
   },
   {
    "duration": 34,
    "start_time": "2022-11-22T10:06:47.312Z"
   },
   {
    "duration": 11,
    "start_time": "2022-11-22T10:06:50.689Z"
   },
   {
    "duration": 687,
    "start_time": "2022-11-22T10:06:53.384Z"
   },
   {
    "duration": 3213,
    "start_time": "2022-11-22T10:06:57.530Z"
   },
   {
    "duration": 635,
    "start_time": "2022-11-22T10:07:04.480Z"
   },
   {
    "duration": 41,
    "start_time": "2022-11-22T10:07:11.512Z"
   },
   {
    "duration": 18,
    "start_time": "2022-11-22T10:07:14.169Z"
   },
   {
    "duration": 33,
    "start_time": "2022-11-22T10:09:47.001Z"
   },
   {
    "duration": 38,
    "start_time": "2022-11-22T10:10:17.953Z"
   },
   {
    "duration": 5,
    "start_time": "2022-11-22T10:18:12.545Z"
   },
   {
    "duration": 113,
    "start_time": "2022-11-22T10:18:12.553Z"
   },
   {
    "duration": 10,
    "start_time": "2022-11-22T10:18:12.668Z"
   },
   {
    "duration": 18,
    "start_time": "2022-11-22T10:18:12.680Z"
   },
   {
    "duration": 34,
    "start_time": "2022-11-22T10:18:12.700Z"
   },
   {
    "duration": 51,
    "start_time": "2022-11-22T10:18:12.735Z"
   },
   {
    "duration": 36,
    "start_time": "2022-11-22T10:18:12.787Z"
   },
   {
    "duration": 36,
    "start_time": "2022-11-22T10:18:12.825Z"
   },
   {
    "duration": 34901,
    "start_time": "2022-11-22T10:18:12.864Z"
   },
   {
    "duration": 26,
    "start_time": "2022-11-22T10:18:47.767Z"
   },
   {
    "duration": 11,
    "start_time": "2022-11-22T10:18:47.795Z"
   },
   {
    "duration": 32,
    "start_time": "2022-11-22T10:18:55.883Z"
   },
   {
    "duration": 11,
    "start_time": "2022-11-22T10:18:57.948Z"
   },
   {
    "duration": 664,
    "start_time": "2022-11-22T10:18:59.154Z"
   },
   {
    "duration": 3507,
    "start_time": "2022-11-22T10:19:00.418Z"
   },
   {
    "duration": 715,
    "start_time": "2022-11-22T10:19:03.927Z"
   },
   {
    "duration": 39,
    "start_time": "2022-11-22T10:19:07.220Z"
   },
   {
    "duration": 14,
    "start_time": "2022-11-22T10:19:09.635Z"
   },
   {
    "duration": 33144,
    "start_time": "2022-11-22T10:19:14.218Z"
   },
   {
    "duration": 4,
    "start_time": "2022-11-22T10:20:10.376Z"
   },
   {
    "duration": 74,
    "start_time": "2022-11-22T10:20:10.381Z"
   },
   {
    "duration": 8,
    "start_time": "2022-11-22T10:20:10.457Z"
   },
   {
    "duration": 39,
    "start_time": "2022-11-22T10:20:10.467Z"
   },
   {
    "duration": 32,
    "start_time": "2022-11-22T10:20:10.507Z"
   },
   {
    "duration": 27,
    "start_time": "2022-11-22T10:20:10.541Z"
   },
   {
    "duration": 34,
    "start_time": "2022-11-22T10:20:10.569Z"
   },
   {
    "duration": 15,
    "start_time": "2022-11-22T10:20:14.100Z"
   },
   {
    "duration": 15,
    "start_time": "2022-11-22T10:20:25.324Z"
   },
   {
    "duration": 4,
    "start_time": "2022-11-22T10:20:33.804Z"
   },
   {
    "duration": 65,
    "start_time": "2022-11-22T10:20:33.810Z"
   },
   {
    "duration": 9,
    "start_time": "2022-11-22T10:20:33.877Z"
   },
   {
    "duration": 28,
    "start_time": "2022-11-22T10:20:33.888Z"
   },
   {
    "duration": 27,
    "start_time": "2022-11-22T10:20:33.917Z"
   },
   {
    "duration": 23,
    "start_time": "2022-11-22T10:20:33.946Z"
   },
   {
    "duration": 30,
    "start_time": "2022-11-22T10:20:33.972Z"
   },
   {
    "duration": 7,
    "start_time": "2022-11-22T10:20:35.989Z"
   },
   {
    "duration": 24,
    "start_time": "2022-11-22T10:20:41.619Z"
   },
   {
    "duration": 29,
    "start_time": "2022-11-22T10:20:48.195Z"
   },
   {
    "duration": 1454,
    "start_time": "2022-11-22T10:21:46.723Z"
   },
   {
    "duration": 61,
    "start_time": "2022-11-22T10:21:48.179Z"
   },
   {
    "duration": 11,
    "start_time": "2022-11-22T10:21:48.242Z"
   },
   {
    "duration": 19,
    "start_time": "2022-11-22T10:21:48.255Z"
   },
   {
    "duration": 38,
    "start_time": "2022-11-22T10:21:48.276Z"
   },
   {
    "duration": 10,
    "start_time": "2022-11-22T10:21:48.316Z"
   },
   {
    "duration": 12,
    "start_time": "2022-11-22T10:21:48.328Z"
   },
   {
    "duration": 11,
    "start_time": "2022-11-22T10:21:48.341Z"
   },
   {
    "duration": 23,
    "start_time": "2022-11-22T10:21:48.353Z"
   },
   {
    "duration": 26,
    "start_time": "2022-11-22T10:21:50.220Z"
   },
   {
    "duration": 12,
    "start_time": "2022-11-22T10:22:16.516Z"
   },
   {
    "duration": 119,
    "start_time": "2022-11-22T10:22:41.147Z"
   },
   {
    "duration": 5,
    "start_time": "2022-11-22T10:22:46.645Z"
   },
   {
    "duration": 101,
    "start_time": "2022-11-22T10:22:46.653Z"
   },
   {
    "duration": 11,
    "start_time": "2022-11-22T10:22:46.756Z"
   },
   {
    "duration": 36,
    "start_time": "2022-11-22T10:22:46.769Z"
   },
   {
    "duration": 23,
    "start_time": "2022-11-22T10:22:46.807Z"
   },
   {
    "duration": 12,
    "start_time": "2022-11-22T10:22:46.831Z"
   },
   {
    "duration": 18,
    "start_time": "2022-11-22T10:22:46.845Z"
   },
   {
    "duration": 7,
    "start_time": "2022-11-22T10:22:48.964Z"
   },
   {
    "duration": 16,
    "start_time": "2022-11-22T10:22:50.164Z"
   },
   {
    "duration": 5,
    "start_time": "2022-11-22T10:23:01.649Z"
   },
   {
    "duration": 90,
    "start_time": "2022-11-22T10:23:01.656Z"
   },
   {
    "duration": 7,
    "start_time": "2022-11-22T10:23:01.747Z"
   },
   {
    "duration": 17,
    "start_time": "2022-11-22T10:23:01.756Z"
   },
   {
    "duration": 31,
    "start_time": "2022-11-22T10:23:01.775Z"
   },
   {
    "duration": 26,
    "start_time": "2022-11-22T10:23:01.808Z"
   },
   {
    "duration": 20,
    "start_time": "2022-11-22T10:23:01.836Z"
   },
   {
    "duration": 22,
    "start_time": "2022-11-22T10:23:01.858Z"
   },
   {
    "duration": 42,
    "start_time": "2022-11-22T10:23:01.881Z"
   },
   {
    "duration": 12,
    "start_time": "2022-11-22T10:23:01.925Z"
   },
   {
    "duration": 36,
    "start_time": "2022-11-22T10:23:01.938Z"
   },
   {
    "duration": 23,
    "start_time": "2022-11-22T10:23:04.093Z"
   },
   {
    "duration": 13,
    "start_time": "2022-11-22T10:23:16.997Z"
   },
   {
    "duration": 37,
    "start_time": "2022-11-22T10:23:19.125Z"
   },
   {
    "duration": 11,
    "start_time": "2022-11-22T10:23:22.309Z"
   },
   {
    "duration": 687,
    "start_time": "2022-11-22T10:23:24.388Z"
   },
   {
    "duration": 3448,
    "start_time": "2022-11-22T10:23:26.974Z"
   },
   {
    "duration": 615,
    "start_time": "2022-11-22T10:23:59.132Z"
   },
   {
    "duration": 39,
    "start_time": "2022-11-22T10:24:13.972Z"
   },
   {
    "duration": 18,
    "start_time": "2022-11-22T10:24:16.749Z"
   },
   {
    "duration": 5,
    "start_time": "2022-11-22T10:29:12.135Z"
   },
   {
    "duration": 97,
    "start_time": "2022-11-22T10:29:12.143Z"
   },
   {
    "duration": 9,
    "start_time": "2022-11-22T10:29:12.242Z"
   },
   {
    "duration": 5,
    "start_time": "2022-11-22T10:29:12.253Z"
   },
   {
    "duration": 30,
    "start_time": "2022-11-22T10:29:12.260Z"
   },
   {
    "duration": 28,
    "start_time": "2022-11-22T10:29:12.292Z"
   },
   {
    "duration": 13,
    "start_time": "2022-11-22T10:29:12.322Z"
   },
   {
    "duration": 18,
    "start_time": "2022-11-22T10:29:12.337Z"
   },
   {
    "duration": 12,
    "start_time": "2022-11-22T10:29:12.358Z"
   },
   {
    "duration": 33791,
    "start_time": "2022-11-22T10:29:12.374Z"
   },
   {
    "duration": 398,
    "start_time": "2022-11-22T10:29:46.167Z"
   },
   {
    "duration": 3,
    "start_time": "2022-11-22T10:29:46.568Z"
   },
   {
    "duration": 37,
    "start_time": "2022-11-22T10:29:46.572Z"
   },
   {
    "duration": 34,
    "start_time": "2022-11-22T10:29:46.611Z"
   },
   {
    "duration": 739,
    "start_time": "2022-11-22T10:29:46.647Z"
   },
   {
    "duration": 3373,
    "start_time": "2022-11-22T10:29:47.388Z"
   },
   {
    "duration": 742,
    "start_time": "2022-11-22T10:29:50.763Z"
   },
   {
    "duration": 45,
    "start_time": "2022-11-22T10:29:51.506Z"
   },
   {
    "duration": 14,
    "start_time": "2022-11-22T10:29:51.554Z"
   },
   {
    "duration": 33292,
    "start_time": "2022-11-22T10:29:58.461Z"
   },
   {
    "duration": 1475,
    "start_time": "2022-11-22T10:32:06.971Z"
   },
   {
    "duration": 67,
    "start_time": "2022-11-22T10:32:08.448Z"
   },
   {
    "duration": 11,
    "start_time": "2022-11-22T10:32:08.516Z"
   },
   {
    "duration": 39,
    "start_time": "2022-11-22T10:32:08.529Z"
   },
   {
    "duration": 31,
    "start_time": "2022-11-22T10:32:08.570Z"
   },
   {
    "duration": 46,
    "start_time": "2022-11-22T10:32:08.603Z"
   },
   {
    "duration": 32,
    "start_time": "2022-11-22T10:32:08.650Z"
   },
   {
    "duration": 54,
    "start_time": "2022-11-22T10:32:08.684Z"
   },
   {
    "duration": 38,
    "start_time": "2022-11-22T10:32:08.739Z"
   },
   {
    "duration": 44,
    "start_time": "2022-11-22T10:32:08.779Z"
   },
   {
    "duration": 31,
    "start_time": "2022-11-22T10:32:11.349Z"
   },
   {
    "duration": 2,
    "start_time": "2022-11-22T10:32:14.170Z"
   },
   {
    "duration": 37,
    "start_time": "2022-11-22T10:32:15.974Z"
   },
   {
    "duration": 12,
    "start_time": "2022-11-22T10:32:19.485Z"
   },
   {
    "duration": 672,
    "start_time": "2022-11-22T10:32:22.733Z"
   },
   {
    "duration": 3446,
    "start_time": "2022-11-22T10:32:26.566Z"
   },
   {
    "duration": 1504,
    "start_time": "2022-11-22T10:33:41.334Z"
   },
   {
    "duration": 62,
    "start_time": "2022-11-22T10:33:42.840Z"
   },
   {
    "duration": 10,
    "start_time": "2022-11-22T10:33:42.903Z"
   },
   {
    "duration": 27,
    "start_time": "2022-11-22T10:33:42.915Z"
   },
   {
    "duration": 31,
    "start_time": "2022-11-22T10:33:42.944Z"
   },
   {
    "duration": 14,
    "start_time": "2022-11-22T10:33:42.977Z"
   },
   {
    "duration": 15,
    "start_time": "2022-11-22T10:33:42.993Z"
   },
   {
    "duration": 12,
    "start_time": "2022-11-22T10:33:43.009Z"
   },
   {
    "duration": 14,
    "start_time": "2022-11-22T10:33:43.023Z"
   },
   {
    "duration": 15,
    "start_time": "2022-11-22T10:33:43.040Z"
   },
   {
    "duration": 34,
    "start_time": "2022-11-22T10:33:43.057Z"
   },
   {
    "duration": 3,
    "start_time": "2022-11-22T10:33:43.093Z"
   },
   {
    "duration": 48,
    "start_time": "2022-11-22T10:33:43.098Z"
   },
   {
    "duration": 22,
    "start_time": "2022-11-22T10:33:43.148Z"
   },
   {
    "duration": 692,
    "start_time": "2022-11-22T10:33:43.172Z"
   },
   {
    "duration": 3495,
    "start_time": "2022-11-22T10:33:43.866Z"
   },
   {
    "duration": 759,
    "start_time": "2022-11-22T10:33:47.363Z"
   },
   {
    "duration": 42,
    "start_time": "2022-11-22T10:33:48.124Z"
   },
   {
    "duration": 15,
    "start_time": "2022-11-22T10:33:48.168Z"
   },
   {
    "duration": 33711,
    "start_time": "2022-11-22T10:33:48.184Z"
   },
   {
    "duration": 153,
    "start_time": "2022-11-22T10:34:21.896Z"
   },
   {
    "duration": 12,
    "start_time": "2022-11-22T10:34:22.050Z"
   },
   {
    "duration": 0,
    "start_time": "2022-11-22T10:34:22.063Z"
   },
   {
    "duration": 0,
    "start_time": "2022-11-22T10:34:22.065Z"
   },
   {
    "duration": 0,
    "start_time": "2022-11-22T10:34:22.066Z"
   },
   {
    "duration": 0,
    "start_time": "2022-11-22T10:34:22.068Z"
   },
   {
    "duration": 1688,
    "start_time": "2022-11-22T10:36:48.269Z"
   },
   {
    "duration": 94,
    "start_time": "2022-11-22T10:36:49.960Z"
   },
   {
    "duration": 10,
    "start_time": "2022-11-22T10:36:50.056Z"
   },
   {
    "duration": 20,
    "start_time": "2022-11-22T10:36:50.070Z"
   },
   {
    "duration": 28,
    "start_time": "2022-11-22T10:36:50.092Z"
   },
   {
    "duration": 12,
    "start_time": "2022-11-22T10:36:50.135Z"
   },
   {
    "duration": 10,
    "start_time": "2022-11-22T10:36:50.149Z"
   },
   {
    "duration": 22,
    "start_time": "2022-11-22T10:36:50.161Z"
   },
   {
    "duration": 19,
    "start_time": "2022-11-22T10:36:50.185Z"
   },
   {
    "duration": 26,
    "start_time": "2022-11-22T10:36:50.207Z"
   },
   {
    "duration": 98,
    "start_time": "2022-11-22T10:36:50.235Z"
   },
   {
    "duration": 28,
    "start_time": "2022-11-22T10:36:50.335Z"
   },
   {
    "duration": 48,
    "start_time": "2022-11-22T10:36:50.365Z"
   },
   {
    "duration": 20,
    "start_time": "2022-11-22T10:36:50.415Z"
   },
   {
    "duration": 748,
    "start_time": "2022-11-22T10:36:50.437Z"
   },
   {
    "duration": 3577,
    "start_time": "2022-11-22T10:36:51.187Z"
   },
   {
    "duration": 713,
    "start_time": "2022-11-22T10:36:54.765Z"
   },
   {
    "duration": 38,
    "start_time": "2022-11-22T10:36:55.480Z"
   },
   {
    "duration": 142,
    "start_time": "2022-11-22T10:36:55.520Z"
   },
   {
    "duration": 0,
    "start_time": "2022-11-22T10:36:55.665Z"
   },
   {
    "duration": 0,
    "start_time": "2022-11-22T10:36:55.666Z"
   },
   {
    "duration": 0,
    "start_time": "2022-11-22T10:36:55.667Z"
   },
   {
    "duration": 0,
    "start_time": "2022-11-22T10:36:55.668Z"
   },
   {
    "duration": 0,
    "start_time": "2022-11-22T10:36:55.669Z"
   },
   {
    "duration": 0,
    "start_time": "2022-11-22T10:36:55.670Z"
   },
   {
    "duration": 0,
    "start_time": "2022-11-22T10:36:55.671Z"
   },
   {
    "duration": 12,
    "start_time": "2022-11-22T10:38:13.836Z"
   },
   {
    "duration": 77,
    "start_time": "2022-11-22T10:38:13.853Z"
   },
   {
    "duration": 11,
    "start_time": "2022-11-22T10:38:13.932Z"
   },
   {
    "duration": 34,
    "start_time": "2022-11-22T10:38:13.944Z"
   },
   {
    "duration": 25,
    "start_time": "2022-11-22T10:38:13.981Z"
   },
   {
    "duration": 13,
    "start_time": "2022-11-22T10:38:14.009Z"
   },
   {
    "duration": 23,
    "start_time": "2022-11-22T10:38:14.024Z"
   },
   {
    "duration": 10,
    "start_time": "2022-11-22T10:38:14.056Z"
   },
   {
    "duration": 8,
    "start_time": "2022-11-22T10:38:14.068Z"
   },
   {
    "duration": 7,
    "start_time": "2022-11-22T10:38:14.078Z"
   },
   {
    "duration": 35,
    "start_time": "2022-11-22T10:38:14.087Z"
   },
   {
    "duration": 14,
    "start_time": "2022-11-22T10:38:14.124Z"
   },
   {
    "duration": 34,
    "start_time": "2022-11-22T10:38:14.140Z"
   },
   {
    "duration": 13,
    "start_time": "2022-11-22T10:38:14.175Z"
   },
   {
    "duration": 747,
    "start_time": "2022-11-22T10:38:14.192Z"
   },
   {
    "duration": 3732,
    "start_time": "2022-11-22T10:38:14.941Z"
   },
   {
    "duration": 727,
    "start_time": "2022-11-22T10:38:18.675Z"
   },
   {
    "duration": 55,
    "start_time": "2022-11-22T10:38:19.405Z"
   },
   {
    "duration": 20,
    "start_time": "2022-11-22T10:38:19.462Z"
   },
   {
    "duration": 0,
    "start_time": "2022-11-22T10:38:19.484Z"
   },
   {
    "duration": 0,
    "start_time": "2022-11-22T10:38:19.486Z"
   },
   {
    "duration": 1374,
    "start_time": "2022-11-22T10:45:59.228Z"
   },
   {
    "duration": 64,
    "start_time": "2022-11-22T10:46:00.604Z"
   },
   {
    "duration": 10,
    "start_time": "2022-11-22T10:46:00.669Z"
   },
   {
    "duration": 69,
    "start_time": "2022-11-22T10:46:00.681Z"
   },
   {
    "duration": 83,
    "start_time": "2022-11-22T10:46:00.751Z"
   },
   {
    "duration": 41,
    "start_time": "2022-11-22T10:46:00.835Z"
   },
   {
    "duration": 44,
    "start_time": "2022-11-22T10:46:00.878Z"
   },
   {
    "duration": 37,
    "start_time": "2022-11-22T10:46:00.924Z"
   },
   {
    "duration": 25,
    "start_time": "2022-11-22T10:46:00.963Z"
   },
   {
    "duration": 33398,
    "start_time": "2022-11-22T10:46:00.991Z"
   },
   {
    "duration": 53,
    "start_time": "2022-11-22T10:46:34.391Z"
   },
   {
    "duration": 14,
    "start_time": "2022-11-22T10:46:34.446Z"
   },
   {
    "duration": 35,
    "start_time": "2022-11-22T10:46:34.462Z"
   },
   {
    "duration": 40,
    "start_time": "2022-11-22T10:46:34.499Z"
   },
   {
    "duration": 682,
    "start_time": "2022-11-22T10:46:34.540Z"
   },
   {
    "duration": 3398,
    "start_time": "2022-11-22T10:46:35.224Z"
   },
   {
    "duration": 683,
    "start_time": "2022-11-22T10:46:38.624Z"
   },
   {
    "duration": 47,
    "start_time": "2022-11-22T10:46:39.309Z"
   },
   {
    "duration": 131,
    "start_time": "2022-11-22T10:46:39.358Z"
   },
   {
    "duration": 0,
    "start_time": "2022-11-22T10:46:39.491Z"
   },
   {
    "duration": 0,
    "start_time": "2022-11-22T10:46:39.492Z"
   },
   {
    "duration": 0,
    "start_time": "2022-11-22T10:46:39.494Z"
   },
   {
    "duration": 0,
    "start_time": "2022-11-22T10:46:39.496Z"
   },
   {
    "duration": 0,
    "start_time": "2022-11-22T10:46:39.497Z"
   },
   {
    "duration": 1,
    "start_time": "2022-11-22T10:46:39.498Z"
   },
   {
    "duration": 0,
    "start_time": "2022-11-22T10:46:39.500Z"
   },
   {
    "duration": 1610,
    "start_time": "2022-11-22T18:13:24.409Z"
   },
   {
    "duration": 186,
    "start_time": "2022-11-22T18:13:26.022Z"
   },
   {
    "duration": 9,
    "start_time": "2022-11-22T18:13:26.209Z"
   },
   {
    "duration": 4,
    "start_time": "2022-11-22T18:13:26.220Z"
   },
   {
    "duration": 12,
    "start_time": "2022-11-22T18:13:26.225Z"
   },
   {
    "duration": 8,
    "start_time": "2022-11-22T18:13:26.239Z"
   },
   {
    "duration": 6,
    "start_time": "2022-11-22T18:13:26.249Z"
   },
   {
    "duration": 21,
    "start_time": "2022-11-22T18:13:26.257Z"
   },
   {
    "duration": 5,
    "start_time": "2022-11-22T18:13:26.280Z"
   },
   {
    "duration": 31032,
    "start_time": "2022-11-22T18:13:26.286Z"
   },
   {
    "duration": 24,
    "start_time": "2022-11-22T18:13:57.320Z"
   },
   {
    "duration": 34,
    "start_time": "2022-11-22T18:13:57.346Z"
   },
   {
    "duration": 14,
    "start_time": "2022-11-22T18:13:57.381Z"
   },
   {
    "duration": 23,
    "start_time": "2022-11-22T18:15:06.763Z"
   },
   {
    "duration": 11,
    "start_time": "2022-11-22T18:15:09.912Z"
   },
   {
    "duration": 107,
    "start_time": "2022-11-22T18:15:10.410Z"
   },
   {
    "duration": 5,
    "start_time": "2022-11-22T18:15:16.778Z"
   },
   {
    "duration": 5,
    "start_time": "2022-11-22T18:23:17.450Z"
   },
   {
    "duration": 5,
    "start_time": "2022-11-22T18:23:34.709Z"
   },
   {
    "duration": 5,
    "start_time": "2022-11-22T18:23:47.297Z"
   },
   {
    "duration": 5,
    "start_time": "2022-11-22T18:24:00.068Z"
   },
   {
    "duration": 5,
    "start_time": "2022-11-22T18:24:12.089Z"
   },
   {
    "duration": 5,
    "start_time": "2022-11-22T18:24:28.057Z"
   },
   {
    "duration": 6,
    "start_time": "2022-11-22T18:24:35.557Z"
   },
   {
    "duration": 5,
    "start_time": "2022-11-22T18:24:45.357Z"
   },
   {
    "duration": 5,
    "start_time": "2022-11-22T18:24:53.698Z"
   },
   {
    "duration": 4,
    "start_time": "2022-11-22T18:26:19.867Z"
   },
   {
    "duration": 4,
    "start_time": "2022-11-22T18:28:17.505Z"
   },
   {
    "duration": 16,
    "start_time": "2022-11-22T18:28:22.168Z"
   },
   {
    "duration": 26,
    "start_time": "2022-11-22T18:28:51.506Z"
   },
   {
    "duration": 17,
    "start_time": "2022-11-22T18:28:55.775Z"
   },
   {
    "duration": 5,
    "start_time": "2022-11-22T18:29:07.518Z"
   },
   {
    "duration": 12,
    "start_time": "2022-11-22T18:29:52.536Z"
   },
   {
    "duration": 29,
    "start_time": "2022-11-22T18:30:19.145Z"
   },
   {
    "duration": 2,
    "start_time": "2022-11-22T18:30:21.330Z"
   },
   {
    "duration": 13,
    "start_time": "2022-11-22T18:30:27.917Z"
   },
   {
    "duration": 18,
    "start_time": "2022-11-22T18:30:45.477Z"
   },
   {
    "duration": 26,
    "start_time": "2022-11-22T18:31:16.305Z"
   },
   {
    "duration": 3,
    "start_time": "2022-11-22T18:39:31.757Z"
   },
   {
    "duration": 1342,
    "start_time": "2022-11-22T18:51:27.909Z"
   },
   {
    "duration": 64,
    "start_time": "2022-11-22T18:51:29.253Z"
   },
   {
    "duration": 10,
    "start_time": "2022-11-22T18:51:29.319Z"
   },
   {
    "duration": 4,
    "start_time": "2022-11-22T18:51:29.331Z"
   },
   {
    "duration": 10,
    "start_time": "2022-11-22T18:51:29.337Z"
   },
   {
    "duration": 31,
    "start_time": "2022-11-22T18:51:29.349Z"
   },
   {
    "duration": 8,
    "start_time": "2022-11-22T18:51:29.381Z"
   },
   {
    "duration": 6,
    "start_time": "2022-11-22T18:51:29.390Z"
   },
   {
    "duration": 5,
    "start_time": "2022-11-22T18:51:29.398Z"
   },
   {
    "duration": 31100,
    "start_time": "2022-11-22T18:51:29.405Z"
   },
   {
    "duration": 24,
    "start_time": "2022-11-22T18:52:00.507Z"
   },
   {
    "duration": 39,
    "start_time": "2022-11-22T18:52:00.533Z"
   },
   {
    "duration": 33,
    "start_time": "2022-11-22T18:52:00.574Z"
   },
   {
    "duration": 10,
    "start_time": "2022-11-22T18:52:00.609Z"
   },
   {
    "duration": 674,
    "start_time": "2022-11-22T18:52:00.620Z"
   },
   {
    "duration": 3394,
    "start_time": "2022-11-22T18:52:01.296Z"
   },
   {
    "duration": 646,
    "start_time": "2022-11-22T18:52:04.692Z"
   },
   {
    "duration": 45,
    "start_time": "2022-11-22T18:52:05.340Z"
   },
   {
    "duration": 119,
    "start_time": "2022-11-22T18:52:05.387Z"
   },
   {
    "duration": 0,
    "start_time": "2022-11-22T18:52:05.507Z"
   },
   {
    "duration": 0,
    "start_time": "2022-11-22T18:52:05.509Z"
   },
   {
    "duration": 1,
    "start_time": "2022-11-22T18:52:05.510Z"
   },
   {
    "duration": 0,
    "start_time": "2022-11-22T18:52:05.512Z"
   },
   {
    "duration": 0,
    "start_time": "2022-11-22T18:52:05.514Z"
   },
   {
    "duration": 0,
    "start_time": "2022-11-22T18:52:05.514Z"
   },
   {
    "duration": 0,
    "start_time": "2022-11-22T18:52:05.516Z"
   },
   {
    "duration": 1883,
    "start_time": "2022-11-23T19:51:17.533Z"
   },
   {
    "duration": 206,
    "start_time": "2022-11-23T19:51:19.418Z"
   },
   {
    "duration": 12,
    "start_time": "2022-11-23T19:51:19.626Z"
   },
   {
    "duration": 5,
    "start_time": "2022-11-23T19:51:19.641Z"
   },
   {
    "duration": 43,
    "start_time": "2022-11-23T19:51:19.649Z"
   },
   {
    "duration": 18,
    "start_time": "2022-11-23T19:51:19.694Z"
   },
   {
    "duration": 9,
    "start_time": "2022-11-23T19:51:19.714Z"
   },
   {
    "duration": 7,
    "start_time": "2022-11-23T19:51:19.725Z"
   },
   {
    "duration": 7,
    "start_time": "2022-11-23T19:51:19.734Z"
   },
   {
    "duration": 37256,
    "start_time": "2022-11-23T19:51:19.744Z"
   },
   {
    "duration": 27,
    "start_time": "2022-11-23T19:51:57.002Z"
   },
   {
    "duration": 133,
    "start_time": "2022-11-23T19:52:45.380Z"
   },
   {
    "duration": 8,
    "start_time": "2022-11-23T19:52:58.098Z"
   },
   {
    "duration": 12,
    "start_time": "2022-11-23T19:53:32.608Z"
   },
   {
    "duration": 34,
    "start_time": "2022-11-23T19:53:42.187Z"
   },
   {
    "duration": 12,
    "start_time": "2022-11-23T19:53:51.403Z"
   },
   {
    "duration": 776,
    "start_time": "2022-11-23T19:53:52.301Z"
   },
   {
    "duration": 3687,
    "start_time": "2022-11-23T19:53:54.397Z"
   },
   {
    "duration": 736,
    "start_time": "2022-11-23T19:54:01.688Z"
   },
   {
    "duration": 39,
    "start_time": "2022-11-23T19:54:06.765Z"
   },
   {
    "duration": 25,
    "start_time": "2022-11-23T19:54:10.243Z"
   },
   {
    "duration": 19076,
    "start_time": "2022-11-23T20:07:50.337Z"
   },
   {
    "duration": 1936,
    "start_time": "2022-11-23T20:17:02.080Z"
   },
   {
    "duration": 6599,
    "start_time": "2022-11-23T20:18:28.559Z"
   },
   {
    "duration": 15,
    "start_time": "2022-11-23T20:46:26.632Z"
   },
   {
    "duration": 20761,
    "start_time": "2022-11-23T20:46:29.210Z"
   },
   {
    "duration": 6201,
    "start_time": "2022-11-23T20:47:49.185Z"
   },
   {
    "duration": 13,
    "start_time": "2022-11-23T20:47:55.388Z"
   },
   {
    "duration": 19999,
    "start_time": "2022-11-23T20:47:55.403Z"
   },
   {
    "duration": 1686,
    "start_time": "2022-11-23T21:01:19.945Z"
   },
   {
    "duration": 85,
    "start_time": "2022-11-23T21:01:21.634Z"
   },
   {
    "duration": 13,
    "start_time": "2022-11-23T21:01:21.722Z"
   },
   {
    "duration": 18,
    "start_time": "2022-11-23T21:01:21.737Z"
   },
   {
    "duration": 16,
    "start_time": "2022-11-23T21:01:21.758Z"
   },
   {
    "duration": 15,
    "start_time": "2022-11-23T21:01:21.777Z"
   },
   {
    "duration": 10,
    "start_time": "2022-11-23T21:01:21.794Z"
   },
   {
    "duration": 9,
    "start_time": "2022-11-23T21:01:21.807Z"
   },
   {
    "duration": 36,
    "start_time": "2022-11-23T21:01:21.819Z"
   },
   {
    "duration": 7,
    "start_time": "2022-11-23T21:01:21.857Z"
   },
   {
    "duration": 33,
    "start_time": "2022-11-23T21:01:21.866Z"
   },
   {
    "duration": 21,
    "start_time": "2022-11-23T21:01:21.901Z"
   },
   {
    "duration": 38,
    "start_time": "2022-11-23T21:01:21.950Z"
   },
   {
    "duration": 14,
    "start_time": "2022-11-23T21:01:21.991Z"
   },
   {
    "duration": 858,
    "start_time": "2022-11-23T21:01:22.007Z"
   },
   {
    "duration": 3783,
    "start_time": "2022-11-23T21:01:22.867Z"
   },
   {
    "duration": 130,
    "start_time": "2022-11-23T21:01:26.653Z"
   },
   {
    "duration": 13,
    "start_time": "2022-11-23T21:01:58.107Z"
   },
   {
    "duration": 34,
    "start_time": "2022-11-23T21:02:45.330Z"
   },
   {
    "duration": 1033,
    "start_time": "2022-11-23T21:03:49.520Z"
   },
   {
    "duration": 989,
    "start_time": "2022-11-23T21:04:06.974Z"
   },
   {
    "duration": 10960,
    "start_time": "2022-11-23T21:05:24.492Z"
   },
   {
    "duration": 929,
    "start_time": "2022-11-23T21:10:54.718Z"
   },
   {
    "duration": 990,
    "start_time": "2022-11-23T21:11:01.347Z"
   },
   {
    "duration": 6653,
    "start_time": "2022-11-23T21:11:14.520Z"
   },
   {
    "duration": 41,
    "start_time": "2022-11-23T21:12:16.144Z"
   },
   {
    "duration": 984,
    "start_time": "2022-11-23T21:15:07.312Z"
   },
   {
    "duration": 6571,
    "start_time": "2022-11-23T21:15:30.888Z"
   },
   {
    "duration": 1543,
    "start_time": "2022-11-23T21:16:01.842Z"
   },
   {
    "duration": 77,
    "start_time": "2022-11-23T21:16:03.387Z"
   },
   {
    "duration": 11,
    "start_time": "2022-11-23T21:16:03.466Z"
   },
   {
    "duration": 5,
    "start_time": "2022-11-23T21:16:03.479Z"
   },
   {
    "duration": 12,
    "start_time": "2022-11-23T21:16:03.486Z"
   },
   {
    "duration": 11,
    "start_time": "2022-11-23T21:16:03.499Z"
   },
   {
    "duration": 39,
    "start_time": "2022-11-23T21:16:03.512Z"
   },
   {
    "duration": 13,
    "start_time": "2022-11-23T21:16:03.553Z"
   },
   {
    "duration": 8,
    "start_time": "2022-11-23T21:16:03.568Z"
   },
   {
    "duration": 18,
    "start_time": "2022-11-23T21:16:03.579Z"
   },
   {
    "duration": 32,
    "start_time": "2022-11-23T21:16:03.599Z"
   },
   {
    "duration": 26,
    "start_time": "2022-11-23T21:16:03.632Z"
   },
   {
    "duration": 32,
    "start_time": "2022-11-23T21:16:03.660Z"
   },
   {
    "duration": 16,
    "start_time": "2022-11-23T21:16:03.694Z"
   },
   {
    "duration": 798,
    "start_time": "2022-11-23T21:16:03.712Z"
   },
   {
    "duration": 3769,
    "start_time": "2022-11-23T21:16:04.512Z"
   },
   {
    "duration": 785,
    "start_time": "2022-11-23T21:16:08.282Z"
   },
   {
    "duration": 6768,
    "start_time": "2022-11-23T21:16:09.069Z"
   },
   {
    "duration": 19,
    "start_time": "2022-11-23T21:16:15.839Z"
   },
   {
    "duration": 20256,
    "start_time": "2022-11-23T21:16:15.860Z"
   },
   {
    "duration": 0,
    "start_time": "2022-11-23T21:16:36.119Z"
   },
   {
    "duration": 0,
    "start_time": "2022-11-23T21:16:36.120Z"
   },
   {
    "duration": 0,
    "start_time": "2022-11-23T21:16:36.123Z"
   },
   {
    "duration": 0,
    "start_time": "2022-11-23T21:16:36.124Z"
   },
   {
    "duration": 0,
    "start_time": "2022-11-23T21:16:36.126Z"
   },
   {
    "duration": 0,
    "start_time": "2022-11-23T21:16:36.127Z"
   },
   {
    "duration": 20141,
    "start_time": "2022-11-23T21:17:26.438Z"
   },
   {
    "duration": 21339,
    "start_time": "2022-11-23T21:17:51.167Z"
   },
   {
    "duration": 4,
    "start_time": "2022-11-23T21:19:30.691Z"
   },
   {
    "duration": 107,
    "start_time": "2022-11-23T21:19:30.697Z"
   },
   {
    "duration": 10,
    "start_time": "2022-11-23T21:19:30.806Z"
   },
   {
    "duration": 22,
    "start_time": "2022-11-23T21:19:30.818Z"
   },
   {
    "duration": 24,
    "start_time": "2022-11-23T21:19:30.842Z"
   },
   {
    "duration": 26,
    "start_time": "2022-11-23T21:19:30.868Z"
   },
   {
    "duration": 12,
    "start_time": "2022-11-23T21:19:30.896Z"
   },
   {
    "duration": 39,
    "start_time": "2022-11-23T21:19:30.911Z"
   },
   {
    "duration": 28,
    "start_time": "2022-11-23T21:19:30.953Z"
   },
   {
    "duration": 10,
    "start_time": "2022-11-23T21:19:30.982Z"
   },
   {
    "duration": 48,
    "start_time": "2022-11-23T21:19:30.993Z"
   },
   {
    "duration": 24,
    "start_time": "2022-11-23T21:19:31.043Z"
   },
   {
    "duration": 38,
    "start_time": "2022-11-23T21:19:31.069Z"
   },
   {
    "duration": 12,
    "start_time": "2022-11-23T21:19:31.108Z"
   },
   {
    "duration": 750,
    "start_time": "2022-11-23T21:19:31.122Z"
   },
   {
    "duration": 3623,
    "start_time": "2022-11-23T21:19:31.874Z"
   },
   {
    "duration": 711,
    "start_time": "2022-11-23T21:19:35.500Z"
   },
   {
    "duration": 6848,
    "start_time": "2022-11-23T21:19:36.213Z"
   },
   {
    "duration": 14,
    "start_time": "2022-11-23T21:19:43.063Z"
   },
   {
    "duration": 19141,
    "start_time": "2022-11-23T21:19:51.160Z"
   },
   {
    "duration": 177,
    "start_time": "2022-11-23T21:24:21.518Z"
   },
   {
    "duration": 15,
    "start_time": "2022-11-23T21:24:50.622Z"
   },
   {
    "duration": 168,
    "start_time": "2022-11-23T21:25:20.950Z"
   },
   {
    "duration": 192,
    "start_time": "2022-11-23T21:41:28.682Z"
   },
   {
    "duration": 215,
    "start_time": "2022-11-23T21:42:17.447Z"
   },
   {
    "duration": 207,
    "start_time": "2022-11-23T21:43:10.205Z"
   },
   {
    "duration": 191,
    "start_time": "2022-11-23T21:43:23.739Z"
   },
   {
    "duration": 202,
    "start_time": "2022-11-23T21:43:44.503Z"
   },
   {
    "duration": 202,
    "start_time": "2022-11-23T21:44:35.802Z"
   },
   {
    "duration": 22,
    "start_time": "2022-11-23T21:45:46.416Z"
   },
   {
    "duration": 457,
    "start_time": "2022-11-23T21:46:34.974Z"
   },
   {
    "duration": 41,
    "start_time": "2022-11-23T21:47:02.191Z"
   },
   {
    "duration": 278,
    "start_time": "2022-11-23T21:47:13.988Z"
   },
   {
    "duration": 822,
    "start_time": "2022-11-23T21:51:43.005Z"
   },
   {
    "duration": 227,
    "start_time": "2022-11-23T21:52:06.227Z"
   },
   {
    "duration": 843,
    "start_time": "2022-11-23T21:53:01.204Z"
   },
   {
    "duration": 946,
    "start_time": "2022-11-23T21:53:08.713Z"
   },
   {
    "duration": 871,
    "start_time": "2022-11-23T21:53:14.483Z"
   },
   {
    "duration": 193,
    "start_time": "2022-11-23T21:53:47.895Z"
   },
   {
    "duration": 1393,
    "start_time": "2022-11-23T22:13:17.909Z"
   },
   {
    "duration": 83,
    "start_time": "2022-11-23T22:18:51.028Z"
   },
   {
    "duration": 18,
    "start_time": "2022-11-23T22:19:00.156Z"
   },
   {
    "duration": 1411,
    "start_time": "2022-11-23T22:19:36.506Z"
   },
   {
    "duration": 6805,
    "start_time": "2022-11-23T22:23:03.327Z"
   },
   {
    "duration": 6297,
    "start_time": "2022-11-23T22:23:12.125Z"
   },
   {
    "duration": 19214,
    "start_time": "2022-11-23T22:24:06.657Z"
   },
   {
    "duration": 1474,
    "start_time": "2022-11-23T22:24:44.369Z"
   },
   {
    "duration": 63,
    "start_time": "2022-11-23T22:24:45.845Z"
   },
   {
    "duration": 11,
    "start_time": "2022-11-23T22:24:45.910Z"
   },
   {
    "duration": 5,
    "start_time": "2022-11-23T22:24:45.922Z"
   },
   {
    "duration": 11,
    "start_time": "2022-11-23T22:24:45.929Z"
   },
   {
    "duration": 17,
    "start_time": "2022-11-23T22:24:45.941Z"
   },
   {
    "duration": 7,
    "start_time": "2022-11-23T22:24:45.960Z"
   },
   {
    "duration": 5,
    "start_time": "2022-11-23T22:24:45.969Z"
   },
   {
    "duration": 5,
    "start_time": "2022-11-23T22:24:45.976Z"
   },
   {
    "duration": 6,
    "start_time": "2022-11-23T22:24:45.982Z"
   },
   {
    "duration": 29,
    "start_time": "2022-11-23T22:24:45.989Z"
   },
   {
    "duration": 42,
    "start_time": "2022-11-23T22:24:46.020Z"
   },
   {
    "duration": 33,
    "start_time": "2022-11-23T22:24:46.064Z"
   },
   {
    "duration": 11,
    "start_time": "2022-11-23T22:24:46.099Z"
   },
   {
    "duration": 744,
    "start_time": "2022-11-23T22:24:46.112Z"
   },
   {
    "duration": 3610,
    "start_time": "2022-11-23T22:24:46.858Z"
   },
   {
    "duration": 703,
    "start_time": "2022-11-23T22:24:50.470Z"
   },
   {
    "duration": 6335,
    "start_time": "2022-11-23T22:24:51.175Z"
   },
   {
    "duration": 16,
    "start_time": "2022-11-23T22:24:57.512Z"
   },
   {
    "duration": 19377,
    "start_time": "2022-11-23T22:25:00.149Z"
   },
   {
    "duration": 5,
    "start_time": "2022-11-23T22:38:25.356Z"
   },
   {
    "duration": 1532,
    "start_time": "2022-11-23T22:39:30.670Z"
   },
   {
    "duration": 67,
    "start_time": "2022-11-23T22:39:32.204Z"
   },
   {
    "duration": 12,
    "start_time": "2022-11-23T22:39:32.273Z"
   },
   {
    "duration": 5,
    "start_time": "2022-11-23T22:39:32.287Z"
   },
   {
    "duration": 17,
    "start_time": "2022-11-23T22:39:32.294Z"
   },
   {
    "duration": 37,
    "start_time": "2022-11-23T22:39:32.313Z"
   },
   {
    "duration": 10,
    "start_time": "2022-11-23T22:39:32.352Z"
   },
   {
    "duration": 6,
    "start_time": "2022-11-23T22:39:32.364Z"
   },
   {
    "duration": 5,
    "start_time": "2022-11-23T22:39:32.372Z"
   },
   {
    "duration": 5,
    "start_time": "2022-11-23T22:39:32.379Z"
   },
   {
    "duration": 34,
    "start_time": "2022-11-23T22:39:32.386Z"
   },
   {
    "duration": 6,
    "start_time": "2022-11-23T22:39:32.451Z"
   },
   {
    "duration": 1607,
    "start_time": "2022-11-24T09:48:47.523Z"
   },
   {
    "duration": 188,
    "start_time": "2022-11-24T09:48:49.133Z"
   },
   {
    "duration": 11,
    "start_time": "2022-11-24T09:48:49.322Z"
   },
   {
    "duration": 5,
    "start_time": "2022-11-24T09:48:49.335Z"
   },
   {
    "duration": 16,
    "start_time": "2022-11-24T09:48:49.341Z"
   },
   {
    "duration": 10,
    "start_time": "2022-11-24T09:48:49.359Z"
   },
   {
    "duration": 34,
    "start_time": "2022-11-24T09:48:49.371Z"
   },
   {
    "duration": 4,
    "start_time": "2022-11-24T09:48:49.407Z"
   },
   {
    "duration": 8,
    "start_time": "2022-11-24T09:48:49.413Z"
   },
   {
    "duration": 4,
    "start_time": "2022-11-24T09:48:49.424Z"
   },
   {
    "duration": 33,
    "start_time": "2022-11-24T09:48:49.429Z"
   },
   {
    "duration": 5,
    "start_time": "2022-11-24T09:48:49.464Z"
   },
   {
    "duration": 16,
    "start_time": "2022-11-24T09:48:49.471Z"
   },
   {
    "duration": 47,
    "start_time": "2022-11-24T09:48:49.488Z"
   },
   {
    "duration": 13,
    "start_time": "2022-11-24T09:48:49.536Z"
   },
   {
    "duration": 742,
    "start_time": "2022-11-24T09:48:49.551Z"
   },
   {
    "duration": 3409,
    "start_time": "2022-11-24T09:48:50.295Z"
   },
   {
    "duration": 646,
    "start_time": "2022-11-24T09:48:53.706Z"
   },
   {
    "duration": 6096,
    "start_time": "2022-11-24T09:48:54.353Z"
   },
   {
    "duration": 13,
    "start_time": "2022-11-24T09:49:00.450Z"
   },
   {
    "duration": 17476,
    "start_time": "2022-11-24T09:50:44.413Z"
   },
   {
    "duration": 15,
    "start_time": "2022-11-24T09:53:52.325Z"
   },
   {
    "duration": 9,
    "start_time": "2022-11-24T09:54:14.707Z"
   },
   {
    "duration": 10,
    "start_time": "2022-11-24T09:54:41.485Z"
   },
   {
    "duration": 18,
    "start_time": "2022-11-24T09:54:56.814Z"
   },
   {
    "duration": 110,
    "start_time": "2022-11-24T09:59:50.344Z"
   },
   {
    "duration": 17660,
    "start_time": "2022-11-24T10:00:05.209Z"
   },
   {
    "duration": 1395,
    "start_time": "2022-11-24T10:03:23.100Z"
   },
   {
    "duration": 65,
    "start_time": "2022-11-24T10:03:24.497Z"
   },
   {
    "duration": 10,
    "start_time": "2022-11-24T10:03:24.563Z"
   },
   {
    "duration": 4,
    "start_time": "2022-11-24T10:03:24.575Z"
   },
   {
    "duration": 13,
    "start_time": "2022-11-24T10:03:24.581Z"
   },
   {
    "duration": 15,
    "start_time": "2022-11-24T10:03:24.596Z"
   },
   {
    "duration": 8,
    "start_time": "2022-11-24T10:03:24.613Z"
   },
   {
    "duration": 6,
    "start_time": "2022-11-24T10:03:24.623Z"
   },
   {
    "duration": 16,
    "start_time": "2022-11-24T10:03:24.631Z"
   },
   {
    "duration": 5,
    "start_time": "2022-11-24T10:03:24.649Z"
   },
   {
    "duration": 26,
    "start_time": "2022-11-24T10:03:24.655Z"
   },
   {
    "duration": 23,
    "start_time": "2022-11-24T10:03:24.682Z"
   },
   {
    "duration": 18,
    "start_time": "2022-11-24T10:03:24.706Z"
   },
   {
    "duration": 29,
    "start_time": "2022-11-24T10:03:24.726Z"
   },
   {
    "duration": 10,
    "start_time": "2022-11-24T10:03:24.756Z"
   },
   {
    "duration": 699,
    "start_time": "2022-11-24T10:03:24.768Z"
   },
   {
    "duration": 3693,
    "start_time": "2022-11-24T10:03:25.469Z"
   },
   {
    "duration": 695,
    "start_time": "2022-11-24T10:03:29.164Z"
   },
   {
    "duration": 6094,
    "start_time": "2022-11-24T10:03:29.861Z"
   },
   {
    "duration": 14,
    "start_time": "2022-11-24T10:03:35.957Z"
   },
   {
    "duration": 17829,
    "start_time": "2022-11-24T10:03:39.447Z"
   },
   {
    "duration": 5747,
    "start_time": "2022-11-24T10:11:49.281Z"
   },
   {
    "duration": 194,
    "start_time": "2022-11-24T10:30:47.961Z"
   },
   {
    "duration": 23608,
    "start_time": "2022-11-24T10:30:55.502Z"
   },
   {
    "duration": 89,
    "start_time": "2022-11-24T10:31:58.661Z"
   },
   {
    "duration": 19321,
    "start_time": "2022-11-24T10:32:11.816Z"
   },
   {
    "duration": 127733,
    "start_time": "2022-11-24T10:35:21.774Z"
   },
   {
    "duration": 219071,
    "start_time": "2022-11-24T10:42:16.392Z"
   },
   {
    "duration": 13,
    "start_time": "2022-11-24T10:46:02.802Z"
   },
   {
    "duration": 2631807,
    "start_time": "2022-11-24T10:46:06.201Z"
   },
   {
    "duration": 134238,
    "start_time": "2022-11-24T11:31:40.026Z"
   },
   {
    "duration": 1444,
    "start_time": "2022-11-24T11:34:53.627Z"
   },
   {
    "duration": 4,
    "start_time": "2022-11-24T11:55:08.657Z"
   },
   {
    "duration": 4,
    "start_time": "2022-11-24T11:55:24.328Z"
   },
   {
    "duration": 5,
    "start_time": "2022-11-24T11:55:42.551Z"
   },
   {
    "duration": 4,
    "start_time": "2022-11-24T11:56:08.321Z"
   },
   {
    "duration": 4,
    "start_time": "2022-11-24T11:56:34.463Z"
   },
   {
    "duration": 5,
    "start_time": "2022-11-24T11:56:45.648Z"
   },
   {
    "duration": 4,
    "start_time": "2022-11-24T11:57:00.864Z"
   },
   {
    "duration": 913209,
    "start_time": "2022-11-24T11:57:56.715Z"
   },
   {
    "duration": 1405,
    "start_time": "2022-11-24T12:17:17.500Z"
   },
   {
    "duration": 102538,
    "start_time": "2022-11-24T12:18:05.971Z"
   },
   {
    "duration": 26961,
    "start_time": "2022-11-24T12:20:10.678Z"
   },
   {
    "duration": 16868,
    "start_time": "2022-11-24T12:24:21.981Z"
   },
   {
    "duration": 414404,
    "start_time": "2022-11-24T12:24:44.878Z"
   },
   {
    "duration": 139977,
    "start_time": "2022-11-24T12:39:45.330Z"
   },
   {
    "duration": 289381,
    "start_time": "2022-11-24T12:44:30.754Z"
   },
   {
    "duration": 1472,
    "start_time": "2022-11-24T12:50:19.235Z"
   },
   {
    "duration": 29,
    "start_time": "2022-11-24T12:50:30.190Z"
   },
   {
    "duration": 15712,
    "start_time": "2022-11-24T12:50:48.452Z"
   },
   {
    "duration": 1386,
    "start_time": "2022-11-24T12:51:13.400Z"
   },
   {
    "duration": 63,
    "start_time": "2022-11-24T12:51:14.788Z"
   },
   {
    "duration": 9,
    "start_time": "2022-11-24T12:51:14.853Z"
   },
   {
    "duration": 5,
    "start_time": "2022-11-24T12:51:14.863Z"
   },
   {
    "duration": 13,
    "start_time": "2022-11-24T12:51:14.870Z"
   },
   {
    "duration": 10,
    "start_time": "2022-11-24T12:51:14.885Z"
   },
   {
    "duration": 11,
    "start_time": "2022-11-24T12:51:14.896Z"
   },
   {
    "duration": 4,
    "start_time": "2022-11-24T12:51:14.909Z"
   },
   {
    "duration": 15,
    "start_time": "2022-11-24T12:51:14.914Z"
   },
   {
    "duration": 14,
    "start_time": "2022-11-24T12:51:14.933Z"
   },
   {
    "duration": 26,
    "start_time": "2022-11-24T12:51:14.949Z"
   },
   {
    "duration": 6,
    "start_time": "2022-11-24T12:51:14.977Z"
   },
   {
    "duration": 21,
    "start_time": "2022-11-24T12:51:14.985Z"
   },
   {
    "duration": 55,
    "start_time": "2022-11-24T12:51:15.009Z"
   },
   {
    "duration": 13,
    "start_time": "2022-11-24T12:51:15.066Z"
   },
   {
    "duration": 679,
    "start_time": "2022-11-24T12:51:15.080Z"
   },
   {
    "duration": 3487,
    "start_time": "2022-11-24T12:51:15.760Z"
   },
   {
    "duration": 647,
    "start_time": "2022-11-24T12:51:19.248Z"
   },
   {
    "duration": 5890,
    "start_time": "2022-11-24T12:51:19.896Z"
   },
   {
    "duration": 18,
    "start_time": "2022-11-24T12:51:25.788Z"
   },
   {
    "duration": 17947,
    "start_time": "2022-11-24T12:51:25.808Z"
   },
   {
    "duration": 22059,
    "start_time": "2022-11-24T12:51:43.756Z"
   },
   {
    "duration": 125832,
    "start_time": "2022-11-24T12:52:05.817Z"
   },
   {
    "duration": 24754,
    "start_time": "2022-11-24T12:54:11.651Z"
   },
   {
    "duration": 133,
    "start_time": "2022-11-24T12:54:36.407Z"
   },
   {
    "duration": 0,
    "start_time": "2022-11-24T12:54:36.541Z"
   },
   {
    "duration": 0,
    "start_time": "2022-11-24T12:54:36.542Z"
   },
   {
    "duration": 0,
    "start_time": "2022-11-24T12:54:36.543Z"
   },
   {
    "duration": 0,
    "start_time": "2022-11-24T12:54:36.544Z"
   },
   {
    "duration": 37074,
    "start_time": "2022-11-24T12:54:38.134Z"
   },
   {
    "duration": 1528,
    "start_time": "2022-11-24T12:55:25.758Z"
   },
   {
    "duration": 70,
    "start_time": "2022-11-24T13:00:49.246Z"
   },
   {
    "duration": 8965,
    "start_time": "2022-11-24T13:00:59.736Z"
   },
   {
    "duration": 8750,
    "start_time": "2022-11-24T13:01:18.143Z"
   },
   {
    "duration": 8781,
    "start_time": "2022-11-24T13:02:05.871Z"
   },
   {
    "duration": 4,
    "start_time": "2022-11-24T13:07:46.776Z"
   },
   {
    "duration": 105,
    "start_time": "2022-11-24T13:07:46.782Z"
   },
   {
    "duration": 14,
    "start_time": "2022-11-24T13:07:46.889Z"
   },
   {
    "duration": 21,
    "start_time": "2022-11-24T13:07:46.906Z"
   },
   {
    "duration": 25,
    "start_time": "2022-11-24T13:07:46.929Z"
   },
   {
    "duration": 19,
    "start_time": "2022-11-24T13:07:46.956Z"
   },
   {
    "duration": 40,
    "start_time": "2022-11-24T13:07:46.977Z"
   },
   {
    "duration": 13,
    "start_time": "2022-11-24T13:07:47.018Z"
   },
   {
    "duration": 22,
    "start_time": "2022-11-24T13:07:47.033Z"
   },
   {
    "duration": 17,
    "start_time": "2022-11-24T13:07:47.057Z"
   },
   {
    "duration": 36,
    "start_time": "2022-11-24T13:07:47.076Z"
   },
   {
    "duration": 4,
    "start_time": "2022-11-24T13:07:47.114Z"
   },
   {
    "duration": 23,
    "start_time": "2022-11-24T13:07:47.120Z"
   },
   {
    "duration": 56,
    "start_time": "2022-11-24T13:07:47.144Z"
   },
   {
    "duration": 10,
    "start_time": "2022-11-24T13:07:47.202Z"
   },
   {
    "duration": 780,
    "start_time": "2022-11-24T13:07:47.214Z"
   },
   {
    "duration": 3560,
    "start_time": "2022-11-24T13:07:48.003Z"
   },
   {
    "duration": 669,
    "start_time": "2022-11-24T13:07:51.564Z"
   },
   {
    "duration": 5857,
    "start_time": "2022-11-24T13:07:52.235Z"
   },
   {
    "duration": 22,
    "start_time": "2022-11-24T13:07:58.094Z"
   },
   {
    "duration": 17633,
    "start_time": "2022-11-24T13:07:58.117Z"
   },
   {
    "duration": 19669,
    "start_time": "2022-11-24T13:08:15.752Z"
   },
   {
    "duration": 127893,
    "start_time": "2022-11-24T13:08:35.423Z"
   },
   {
    "duration": 26922,
    "start_time": "2022-11-24T13:10:43.317Z"
   },
   {
    "duration": 49,
    "start_time": "2022-11-24T17:51:57.025Z"
   },
   {
    "duration": 1645,
    "start_time": "2022-11-24T17:52:07.050Z"
   },
   {
    "duration": 191,
    "start_time": "2022-11-24T17:52:08.697Z"
   },
   {
    "duration": 13,
    "start_time": "2022-11-24T17:52:08.890Z"
   },
   {
    "duration": 6,
    "start_time": "2022-11-24T17:52:08.905Z"
   },
   {
    "duration": 25,
    "start_time": "2022-11-24T17:52:08.914Z"
   },
   {
    "duration": 12,
    "start_time": "2022-11-24T17:52:08.941Z"
   },
   {
    "duration": 11,
    "start_time": "2022-11-24T17:52:08.955Z"
   },
   {
    "duration": 13,
    "start_time": "2022-11-24T17:52:08.968Z"
   },
   {
    "duration": 6,
    "start_time": "2022-11-24T17:52:08.983Z"
   },
   {
    "duration": 5,
    "start_time": "2022-11-24T17:52:08.991Z"
   },
   {
    "duration": 50,
    "start_time": "2022-11-24T17:52:08.998Z"
   },
   {
    "duration": 6,
    "start_time": "2022-11-24T17:52:09.050Z"
   },
   {
    "duration": 31,
    "start_time": "2022-11-24T17:52:09.058Z"
   },
   {
    "duration": 22,
    "start_time": "2022-11-24T17:52:47.828Z"
   },
   {
    "duration": 4,
    "start_time": "2022-11-24T17:53:09.134Z"
   },
   {
    "duration": 83,
    "start_time": "2022-11-24T17:53:09.142Z"
   },
   {
    "duration": 11,
    "start_time": "2022-11-24T17:53:09.227Z"
   },
   {
    "duration": 21,
    "start_time": "2022-11-24T17:53:09.240Z"
   },
   {
    "duration": 16,
    "start_time": "2022-11-24T17:53:09.264Z"
   },
   {
    "duration": 10,
    "start_time": "2022-11-24T17:53:09.282Z"
   },
   {
    "duration": 10,
    "start_time": "2022-11-24T17:53:09.293Z"
   },
   {
    "duration": 10,
    "start_time": "2022-11-24T17:53:09.305Z"
   },
   {
    "duration": 12,
    "start_time": "2022-11-24T17:53:09.317Z"
   },
   {
    "duration": 9,
    "start_time": "2022-11-24T17:53:09.331Z"
   },
   {
    "duration": 30,
    "start_time": "2022-11-24T17:53:09.341Z"
   },
   {
    "duration": 4,
    "start_time": "2022-11-24T17:53:09.373Z"
   },
   {
    "duration": 5,
    "start_time": "2022-11-24T17:53:11.581Z"
   },
   {
    "duration": 28,
    "start_time": "2022-11-24T17:53:13.509Z"
   },
   {
    "duration": 13,
    "start_time": "2022-11-24T17:53:34.721Z"
   },
   {
    "duration": 1342,
    "start_time": "2022-11-24T17:53:45.481Z"
   },
   {
    "duration": 66,
    "start_time": "2022-11-24T17:53:46.824Z"
   },
   {
    "duration": 11,
    "start_time": "2022-11-24T17:53:46.892Z"
   },
   {
    "duration": 4,
    "start_time": "2022-11-24T17:53:46.904Z"
   },
   {
    "duration": 10,
    "start_time": "2022-11-24T17:53:46.911Z"
   },
   {
    "duration": 21,
    "start_time": "2022-11-24T17:53:46.923Z"
   },
   {
    "duration": 11,
    "start_time": "2022-11-24T17:53:46.946Z"
   },
   {
    "duration": 8,
    "start_time": "2022-11-24T17:53:46.959Z"
   },
   {
    "duration": 6,
    "start_time": "2022-11-24T17:53:46.969Z"
   },
   {
    "duration": 7,
    "start_time": "2022-11-24T17:53:46.977Z"
   },
   {
    "duration": 38,
    "start_time": "2022-11-24T17:53:46.985Z"
   },
   {
    "duration": 13,
    "start_time": "2022-11-24T17:53:47.025Z"
   },
   {
    "duration": 4,
    "start_time": "2022-11-24T17:53:51.032Z"
   },
   {
    "duration": 14,
    "start_time": "2022-11-24T17:53:51.707Z"
   },
   {
    "duration": 33,
    "start_time": "2022-11-24T17:53:53.117Z"
   },
   {
    "duration": 14,
    "start_time": "2022-11-24T17:53:55.755Z"
   },
   {
    "duration": 691,
    "start_time": "2022-11-24T17:53:56.674Z"
   },
   {
    "duration": 3439,
    "start_time": "2022-11-24T17:53:57.709Z"
   },
   {
    "duration": 644,
    "start_time": "2022-11-24T17:54:02.945Z"
   },
   {
    "duration": 6041,
    "start_time": "2022-11-24T17:54:08.413Z"
   },
   {
    "duration": 121,
    "start_time": "2022-11-24T17:54:20.344Z"
   },
   {
    "duration": 13,
    "start_time": "2022-11-24T17:54:57.573Z"
   },
   {
    "duration": 1371,
    "start_time": "2022-11-24T17:55:04.935Z"
   },
   {
    "duration": 60,
    "start_time": "2022-11-24T17:55:06.308Z"
   },
   {
    "duration": 10,
    "start_time": "2022-11-24T17:55:06.369Z"
   },
   {
    "duration": 4,
    "start_time": "2022-11-24T17:55:06.381Z"
   },
   {
    "duration": 12,
    "start_time": "2022-11-24T17:55:06.386Z"
   },
   {
    "duration": 10,
    "start_time": "2022-11-24T17:55:06.399Z"
   },
   {
    "duration": 33,
    "start_time": "2022-11-24T17:55:06.410Z"
   },
   {
    "duration": 5,
    "start_time": "2022-11-24T17:55:06.445Z"
   },
   {
    "duration": 5,
    "start_time": "2022-11-24T17:55:06.452Z"
   },
   {
    "duration": 4,
    "start_time": "2022-11-24T17:55:06.460Z"
   },
   {
    "duration": 26,
    "start_time": "2022-11-24T17:55:06.466Z"
   },
   {
    "duration": 4,
    "start_time": "2022-11-24T17:55:06.493Z"
   },
   {
    "duration": 42,
    "start_time": "2022-11-24T17:55:06.499Z"
   },
   {
    "duration": 30,
    "start_time": "2022-11-24T17:55:06.543Z"
   },
   {
    "duration": 9,
    "start_time": "2022-11-24T17:55:06.575Z"
   },
   {
    "duration": 710,
    "start_time": "2022-11-24T17:55:06.586Z"
   },
   {
    "duration": 3610,
    "start_time": "2022-11-24T17:55:07.298Z"
   },
   {
    "duration": 729,
    "start_time": "2022-11-24T17:55:10.909Z"
   },
   {
    "duration": 6130,
    "start_time": "2022-11-24T17:55:11.640Z"
   },
   {
    "duration": 13,
    "start_time": "2022-11-24T17:55:17.772Z"
   },
   {
    "duration": 17951,
    "start_time": "2022-11-24T17:55:17.787Z"
   },
   {
    "duration": 21322,
    "start_time": "2022-11-24T17:55:35.740Z"
   },
   {
    "duration": 133136,
    "start_time": "2022-11-24T17:55:57.064Z"
   },
   {
    "duration": 8610249,
    "start_time": "2022-11-24T17:58:10.202Z"
   },
   {
    "duration": 8626,
    "start_time": "2022-11-24T20:21:40.453Z"
   },
   {
    "duration": 128,
    "start_time": "2022-11-24T20:21:49.081Z"
   },
   {
    "duration": 0,
    "start_time": "2022-11-24T20:21:49.212Z"
   },
   {
    "duration": 0,
    "start_time": "2022-11-24T20:21:49.214Z"
   },
   {
    "duration": 0,
    "start_time": "2022-11-24T20:21:49.215Z"
   },
   {
    "duration": 1495,
    "start_time": "2022-11-25T05:14:16.081Z"
   },
   {
    "duration": 172,
    "start_time": "2022-11-25T05:14:17.578Z"
   },
   {
    "duration": 9,
    "start_time": "2022-11-25T05:14:17.752Z"
   },
   {
    "duration": 3,
    "start_time": "2022-11-25T05:14:17.763Z"
   },
   {
    "duration": 13,
    "start_time": "2022-11-25T05:14:17.768Z"
   },
   {
    "duration": 10,
    "start_time": "2022-11-25T05:14:17.783Z"
   },
   {
    "duration": 28,
    "start_time": "2022-11-25T05:14:17.794Z"
   },
   {
    "duration": 5,
    "start_time": "2022-11-25T05:14:17.824Z"
   },
   {
    "duration": 5,
    "start_time": "2022-11-25T05:14:17.831Z"
   },
   {
    "duration": 4,
    "start_time": "2022-11-25T05:14:17.840Z"
   },
   {
    "duration": 31,
    "start_time": "2022-11-25T05:14:17.845Z"
   },
   {
    "duration": 5,
    "start_time": "2022-11-25T05:14:17.877Z"
   },
   {
    "duration": 42,
    "start_time": "2022-11-25T05:14:17.883Z"
   },
   {
    "duration": 29,
    "start_time": "2022-11-25T05:14:17.926Z"
   },
   {
    "duration": 11,
    "start_time": "2022-11-25T05:14:17.957Z"
   },
   {
    "duration": 707,
    "start_time": "2022-11-25T05:14:17.970Z"
   },
   {
    "duration": 3247,
    "start_time": "2022-11-25T05:14:18.678Z"
   },
   {
    "duration": 635,
    "start_time": "2022-11-25T05:14:21.926Z"
   },
   {
    "duration": 5727,
    "start_time": "2022-11-25T05:14:22.562Z"
   },
   {
    "duration": 12,
    "start_time": "2022-11-25T05:14:28.291Z"
   },
   {
    "duration": 17514,
    "start_time": "2022-11-25T05:14:28.304Z"
   },
   {
    "duration": 20943,
    "start_time": "2022-11-25T05:14:45.822Z"
   },
   {
    "duration": 110,
    "start_time": "2022-11-25T05:15:06.767Z"
   },
   {
    "duration": 0,
    "start_time": "2022-11-25T05:15:06.878Z"
   },
   {
    "duration": 0,
    "start_time": "2022-11-25T05:15:06.879Z"
   },
   {
    "duration": 0,
    "start_time": "2022-11-25T05:15:06.880Z"
   },
   {
    "duration": 4,
    "start_time": "2022-11-25T05:44:48.488Z"
   },
   {
    "duration": 10,
    "start_time": "2022-11-25T05:45:33.878Z"
   },
   {
    "duration": 14,
    "start_time": "2022-11-25T05:45:43.441Z"
   },
   {
    "duration": 16,
    "start_time": "2022-11-25T05:46:03.746Z"
   },
   {
    "duration": 268,
    "start_time": "2022-11-25T05:46:26.075Z"
   },
   {
    "duration": 12,
    "start_time": "2022-11-25T05:46:53.379Z"
   },
   {
    "duration": 197,
    "start_time": "2022-11-25T05:48:53.203Z"
   },
   {
    "duration": 20,
    "start_time": "2022-11-25T05:49:11.676Z"
   },
   {
    "duration": 201,
    "start_time": "2022-11-25T05:49:26.723Z"
   },
   {
    "duration": 208,
    "start_time": "2022-11-25T05:49:50.635Z"
   },
   {
    "duration": 245,
    "start_time": "2022-11-25T05:50:10.725Z"
   },
   {
    "duration": 239,
    "start_time": "2022-11-25T05:50:23.778Z"
   },
   {
    "duration": 205,
    "start_time": "2022-11-25T05:50:40.555Z"
   },
   {
    "duration": 206,
    "start_time": "2022-11-25T05:51:17.187Z"
   },
   {
    "duration": 217,
    "start_time": "2022-11-25T05:51:24.507Z"
   },
   {
    "duration": 183,
    "start_time": "2022-11-25T05:52:05.843Z"
   },
   {
    "duration": 188,
    "start_time": "2022-11-25T05:52:39.709Z"
   },
   {
    "duration": 225,
    "start_time": "2022-11-25T05:52:49.948Z"
   },
   {
    "duration": 172,
    "start_time": "2022-11-25T05:53:20.772Z"
   },
   {
    "duration": 191,
    "start_time": "2022-11-25T05:53:26.411Z"
   },
   {
    "duration": 392,
    "start_time": "2022-11-25T05:57:54.693Z"
   },
   {
    "duration": 172,
    "start_time": "2022-11-25T05:58:06.070Z"
   },
   {
    "duration": 181,
    "start_time": "2022-11-25T05:58:19.876Z"
   },
   {
    "duration": 249,
    "start_time": "2022-11-25T06:00:13.293Z"
   },
   {
    "duration": 179,
    "start_time": "2022-11-25T06:00:36.109Z"
   },
   {
    "duration": 14,
    "start_time": "2022-11-25T06:00:54.383Z"
   },
   {
    "duration": 228,
    "start_time": "2022-11-25T06:01:07.133Z"
   },
   {
    "duration": 175,
    "start_time": "2022-11-25T06:30:26.780Z"
   },
   {
    "duration": 178,
    "start_time": "2022-11-25T06:30:38.444Z"
   },
   {
    "duration": 179,
    "start_time": "2022-11-25T06:30:46.419Z"
   },
   {
    "duration": 20,
    "start_time": "2022-11-25T06:30:50.387Z"
   },
   {
    "duration": 184,
    "start_time": "2022-11-25T06:30:52.981Z"
   },
   {
    "duration": 14,
    "start_time": "2022-11-25T06:30:57.995Z"
   },
   {
    "duration": 16,
    "start_time": "2022-11-25T06:31:00.700Z"
   },
   {
    "duration": 173,
    "start_time": "2022-11-25T06:31:05.253Z"
   },
   {
    "duration": 342,
    "start_time": "2022-11-25T06:31:08.013Z"
   },
   {
    "duration": 193,
    "start_time": "2022-11-25T06:31:31.363Z"
   },
   {
    "duration": 196,
    "start_time": "2022-11-25T06:32:09.141Z"
   },
   {
    "duration": 206,
    "start_time": "2022-11-25T06:33:06.708Z"
   },
   {
    "duration": 305,
    "start_time": "2022-11-25T06:36:13.726Z"
   },
   {
    "duration": 367,
    "start_time": "2022-11-25T06:36:58.989Z"
   },
   {
    "duration": 173,
    "start_time": "2022-11-25T06:37:06.052Z"
   },
   {
    "duration": 189,
    "start_time": "2022-11-25T06:37:51.412Z"
   },
   {
    "duration": 184,
    "start_time": "2022-11-25T06:38:00.389Z"
   },
   {
    "duration": 195,
    "start_time": "2022-11-25T06:48:40.349Z"
   },
   {
    "duration": 196,
    "start_time": "2022-11-25T06:48:40.601Z"
   },
   {
    "duration": 186,
    "start_time": "2022-11-25T06:48:40.826Z"
   },
   {
    "duration": 22611,
    "start_time": "2022-11-25T07:13:53.901Z"
   },
   {
    "duration": 73,
    "start_time": "2022-11-25T07:15:15.284Z"
   },
   {
    "duration": 794,
    "start_time": "2022-11-25T07:15:21.724Z"
   },
   {
    "duration": 821,
    "start_time": "2022-11-25T07:17:40.542Z"
   },
   {
    "duration": 804,
    "start_time": "2022-11-25T07:17:59.612Z"
   },
   {
    "duration": 35,
    "start_time": "2022-11-25T07:21:53.206Z"
   },
   {
    "duration": 201,
    "start_time": "2022-11-25T07:22:45.542Z"
   },
   {
    "duration": 261,
    "start_time": "2022-11-25T08:37:37.071Z"
   },
   {
    "duration": 275,
    "start_time": "2022-11-25T08:38:00.623Z"
   },
   {
    "duration": 276,
    "start_time": "2022-11-25T08:38:11.639Z"
   },
   {
    "duration": 253,
    "start_time": "2022-11-25T08:38:21.248Z"
   },
   {
    "duration": 400,
    "start_time": "2022-11-25T08:42:58.401Z"
   },
   {
    "duration": 496,
    "start_time": "2022-11-25T08:43:30.377Z"
   },
   {
    "duration": 404,
    "start_time": "2022-11-25T08:43:34.704Z"
   },
   {
    "duration": 1485,
    "start_time": "2022-11-25T08:44:15.282Z"
   },
   {
    "duration": 73,
    "start_time": "2022-11-25T08:44:16.769Z"
   },
   {
    "duration": 11,
    "start_time": "2022-11-25T08:44:16.844Z"
   },
   {
    "duration": 5,
    "start_time": "2022-11-25T08:44:16.858Z"
   },
   {
    "duration": 11,
    "start_time": "2022-11-25T08:44:16.865Z"
   },
   {
    "duration": 11,
    "start_time": "2022-11-25T08:44:16.878Z"
   },
   {
    "duration": 45,
    "start_time": "2022-11-25T08:44:16.891Z"
   },
   {
    "duration": 6,
    "start_time": "2022-11-25T08:44:16.938Z"
   },
   {
    "duration": 9,
    "start_time": "2022-11-25T08:44:16.946Z"
   },
   {
    "duration": 25,
    "start_time": "2022-11-25T08:44:16.957Z"
   },
   {
    "duration": 24,
    "start_time": "2022-11-25T08:44:16.984Z"
   },
   {
    "duration": 4,
    "start_time": "2022-11-25T08:44:17.009Z"
   },
   {
    "duration": 29,
    "start_time": "2022-11-25T08:44:17.015Z"
   },
   {
    "duration": 31,
    "start_time": "2022-11-25T08:44:17.046Z"
   },
   {
    "duration": 11,
    "start_time": "2022-11-25T08:44:17.078Z"
   },
   {
    "duration": 773,
    "start_time": "2022-11-25T08:44:17.091Z"
   },
   {
    "duration": 3725,
    "start_time": "2022-11-25T08:44:17.866Z"
   },
   {
    "duration": 695,
    "start_time": "2022-11-25T08:44:21.593Z"
   },
   {
    "duration": 6464,
    "start_time": "2022-11-25T08:44:22.290Z"
   },
   {
    "duration": 12,
    "start_time": "2022-11-25T08:44:28.756Z"
   },
   {
    "duration": 18782,
    "start_time": "2022-11-25T08:44:28.770Z"
   },
   {
    "duration": 23640,
    "start_time": "2022-11-25T08:44:47.554Z"
   },
   {
    "duration": 196,
    "start_time": "2022-11-25T08:45:11.196Z"
   },
   {
    "duration": 203,
    "start_time": "2022-11-25T08:45:11.394Z"
   },
   {
    "duration": 195,
    "start_time": "2022-11-25T08:45:11.599Z"
   },
   {
    "duration": 843,
    "start_time": "2022-11-25T08:45:11.796Z"
   },
   {
    "duration": 35,
    "start_time": "2022-11-25T08:45:12.640Z"
   },
   {
    "duration": 231,
    "start_time": "2022-11-25T08:45:12.679Z"
   },
   {
    "duration": 447,
    "start_time": "2022-11-25T08:45:12.912Z"
   },
   {
    "duration": 632,
    "start_time": "2022-11-25T08:50:26.338Z"
   },
   {
    "duration": 604,
    "start_time": "2022-11-25T08:50:41.356Z"
   },
   {
    "duration": 97,
    "start_time": "2022-11-25T08:53:32.859Z"
   },
   {
    "duration": 156140,
    "start_time": "2022-11-25T08:54:02.756Z"
   },
   {
    "duration": 1470,
    "start_time": "2022-11-25T08:58:37.936Z"
   },
   {
    "duration": 65,
    "start_time": "2022-11-25T08:58:39.408Z"
   },
   {
    "duration": 10,
    "start_time": "2022-11-25T08:58:39.475Z"
   },
   {
    "duration": 6,
    "start_time": "2022-11-25T08:58:39.487Z"
   },
   {
    "duration": 13,
    "start_time": "2022-11-25T08:58:39.495Z"
   },
   {
    "duration": 19,
    "start_time": "2022-11-25T08:58:39.510Z"
   },
   {
    "duration": 9,
    "start_time": "2022-11-25T08:58:39.532Z"
   },
   {
    "duration": 6,
    "start_time": "2022-11-25T08:58:39.543Z"
   },
   {
    "duration": 13,
    "start_time": "2022-11-25T08:58:39.552Z"
   },
   {
    "duration": 9,
    "start_time": "2022-11-25T08:58:39.567Z"
   },
   {
    "duration": 33,
    "start_time": "2022-11-25T08:58:39.578Z"
   },
   {
    "duration": 19,
    "start_time": "2022-11-25T08:58:39.613Z"
   },
   {
    "duration": 20,
    "start_time": "2022-11-25T08:58:39.633Z"
   },
   {
    "duration": 31,
    "start_time": "2022-11-25T08:58:39.656Z"
   },
   {
    "duration": 11,
    "start_time": "2022-11-25T08:58:39.689Z"
   },
   {
    "duration": 756,
    "start_time": "2022-11-25T08:58:39.701Z"
   },
   {
    "duration": 3850,
    "start_time": "2022-11-25T08:58:40.459Z"
   },
   {
    "duration": 739,
    "start_time": "2022-11-25T08:58:44.311Z"
   },
   {
    "duration": 6682,
    "start_time": "2022-11-25T08:58:45.052Z"
   },
   {
    "duration": 15,
    "start_time": "2022-11-25T08:58:51.735Z"
   },
   {
    "duration": 19785,
    "start_time": "2022-11-25T08:58:51.752Z"
   },
   {
    "duration": 24736,
    "start_time": "2022-11-25T08:59:11.539Z"
   },
   {
    "duration": 232,
    "start_time": "2022-11-25T08:59:36.276Z"
   },
   {
    "duration": 199,
    "start_time": "2022-11-25T08:59:36.510Z"
   },
   {
    "duration": 198,
    "start_time": "2022-11-25T08:59:36.711Z"
   },
   {
    "duration": 843,
    "start_time": "2022-11-25T08:59:36.911Z"
   },
   {
    "duration": 34,
    "start_time": "2022-11-25T08:59:37.758Z"
   },
   {
    "duration": 265,
    "start_time": "2022-11-25T08:59:37.794Z"
   },
   {
    "duration": 469,
    "start_time": "2022-11-25T08:59:38.063Z"
   },
   {
    "duration": 33,
    "start_time": "2022-11-25T09:08:59.248Z"
   },
   {
    "duration": 1326,
    "start_time": "2022-11-25T09:11:51.416Z"
   },
   {
    "duration": 1161,
    "start_time": "2022-11-25T09:12:50.321Z"
   },
   {
    "duration": 551,
    "start_time": "2022-11-25T09:14:55.401Z"
   },
   {
    "duration": 631,
    "start_time": "2022-11-25T09:15:48.067Z"
   },
   {
    "duration": 8,
    "start_time": "2022-11-25T09:26:06.748Z"
   },
   {
    "duration": 74,
    "start_time": "2022-11-25T09:43:42.965Z"
   },
   {
    "duration": 174,
    "start_time": "2022-11-25T09:44:00.572Z"
   },
   {
    "duration": 73,
    "start_time": "2022-11-25T09:45:18.565Z"
   },
   {
    "duration": 4,
    "start_time": "2022-11-25T09:46:02.540Z"
   },
   {
    "duration": 36,
    "start_time": "2022-11-25T09:46:22.620Z"
   },
   {
    "duration": 47,
    "start_time": "2022-11-25T09:46:45.613Z"
   },
   {
    "duration": 18,
    "start_time": "2022-11-25T09:49:43.173Z"
   },
   {
    "duration": 80,
    "start_time": "2022-11-25T09:50:05.805Z"
   },
   {
    "duration": 67,
    "start_time": "2022-11-25T09:50:44.528Z"
   },
   {
    "duration": 42,
    "start_time": "2022-11-25T09:50:55.302Z"
   },
   {
    "duration": 267,
    "start_time": "2022-11-25T09:51:10.240Z"
   },
   {
    "duration": 2408,
    "start_time": "2022-11-25T09:51:26.551Z"
   },
   {
    "duration": 65,
    "start_time": "2022-11-25T09:51:28.961Z"
   },
   {
    "duration": 14,
    "start_time": "2022-11-25T09:51:29.032Z"
   },
   {
    "duration": 8,
    "start_time": "2022-11-25T09:51:29.049Z"
   },
   {
    "duration": 14,
    "start_time": "2022-11-25T09:51:29.059Z"
   },
   {
    "duration": 11,
    "start_time": "2022-11-25T09:51:29.074Z"
   },
   {
    "duration": 8,
    "start_time": "2022-11-25T09:51:29.087Z"
   },
   {
    "duration": 36,
    "start_time": "2022-11-25T09:51:29.097Z"
   },
   {
    "duration": 13,
    "start_time": "2022-11-25T09:51:29.137Z"
   },
   {
    "duration": 4,
    "start_time": "2022-11-25T09:51:29.153Z"
   },
   {
    "duration": 24,
    "start_time": "2022-11-25T09:51:29.159Z"
   },
   {
    "duration": 4,
    "start_time": "2022-11-25T09:51:29.185Z"
   },
   {
    "duration": 15,
    "start_time": "2022-11-25T09:51:29.190Z"
   },
   {
    "duration": 57,
    "start_time": "2022-11-25T09:51:29.206Z"
   },
   {
    "duration": 13,
    "start_time": "2022-11-25T09:51:29.265Z"
   },
   {
    "duration": 765,
    "start_time": "2022-11-25T09:51:29.280Z"
   },
   {
    "duration": 3760,
    "start_time": "2022-11-25T09:51:30.047Z"
   },
   {
    "duration": 1747,
    "start_time": "2022-11-25T09:51:33.808Z"
   },
   {
    "duration": 6639,
    "start_time": "2022-11-25T09:51:35.559Z"
   },
   {
    "duration": 26,
    "start_time": "2022-11-25T09:51:42.200Z"
   },
   {
    "duration": 18856,
    "start_time": "2022-11-25T09:51:42.227Z"
   },
   {
    "duration": 22804,
    "start_time": "2022-11-25T09:52:01.084Z"
   },
   {
    "duration": 208,
    "start_time": "2022-11-25T09:52:23.890Z"
   },
   {
    "duration": 238,
    "start_time": "2022-11-25T09:52:24.100Z"
   },
   {
    "duration": 193,
    "start_time": "2022-11-25T09:52:24.341Z"
   },
   {
    "duration": 718,
    "start_time": "2022-11-25T09:52:24.537Z"
   },
   {
    "duration": 32,
    "start_time": "2022-11-25T09:52:25.256Z"
   },
   {
    "duration": 244,
    "start_time": "2022-11-25T09:52:25.290Z"
   },
   {
    "duration": 496,
    "start_time": "2022-11-25T09:52:25.539Z"
   },
   {
    "duration": 168,
    "start_time": "2022-11-25T09:52:26.037Z"
   },
   {
    "duration": 224,
    "start_time": "2022-11-25T09:54:01.244Z"
   },
   {
    "duration": 232,
    "start_time": "2022-11-25T09:54:05.737Z"
   },
   {
    "duration": 217,
    "start_time": "2022-11-25T09:54:07.099Z"
   },
   {
    "duration": 223,
    "start_time": "2022-11-25T09:54:08.008Z"
   },
   {
    "duration": 220,
    "start_time": "2022-11-25T09:54:11.053Z"
   },
   {
    "duration": 747,
    "start_time": "2022-11-25T09:54:25.157Z"
   },
   {
    "duration": 33,
    "start_time": "2022-11-25T09:54:28.461Z"
   },
   {
    "duration": 223,
    "start_time": "2022-11-25T09:54:29.349Z"
   },
   {
    "duration": 361,
    "start_time": "2022-11-25T09:54:31.085Z"
   },
   {
    "duration": 1451,
    "start_time": "2022-11-25T09:55:56.038Z"
   },
   {
    "duration": 63,
    "start_time": "2022-11-25T09:55:57.491Z"
   },
   {
    "duration": 10,
    "start_time": "2022-11-25T09:55:57.555Z"
   },
   {
    "duration": 4,
    "start_time": "2022-11-25T09:55:57.568Z"
   },
   {
    "duration": 13,
    "start_time": "2022-11-25T09:55:57.574Z"
   },
   {
    "duration": 34,
    "start_time": "2022-11-25T09:55:57.589Z"
   },
   {
    "duration": 8,
    "start_time": "2022-11-25T09:55:57.625Z"
   },
   {
    "duration": 6,
    "start_time": "2022-11-25T09:55:57.635Z"
   },
   {
    "duration": 5,
    "start_time": "2022-11-25T09:55:57.643Z"
   },
   {
    "duration": 7,
    "start_time": "2022-11-25T09:55:57.651Z"
   },
   {
    "duration": 28,
    "start_time": "2022-11-25T09:55:57.660Z"
   },
   {
    "duration": 4,
    "start_time": "2022-11-25T09:55:57.689Z"
   },
   {
    "duration": 19,
    "start_time": "2022-11-25T09:55:57.723Z"
   },
   {
    "duration": 40,
    "start_time": "2022-11-25T09:55:57.744Z"
   },
   {
    "duration": 41,
    "start_time": "2022-11-25T09:55:57.785Z"
   },
   {
    "duration": 727,
    "start_time": "2022-11-25T09:55:57.828Z"
   },
   {
    "duration": 3478,
    "start_time": "2022-11-25T09:55:58.557Z"
   },
   {
    "duration": 660,
    "start_time": "2022-11-25T09:56:02.036Z"
   },
   {
    "duration": 6190,
    "start_time": "2022-11-25T09:56:02.697Z"
   },
   {
    "duration": 13,
    "start_time": "2022-11-25T09:56:08.889Z"
   },
   {
    "duration": 18389,
    "start_time": "2022-11-25T09:56:08.904Z"
   },
   {
    "duration": 23129,
    "start_time": "2022-11-25T09:56:27.295Z"
   },
   {
    "duration": 219,
    "start_time": "2022-11-25T09:56:50.426Z"
   },
   {
    "duration": 212,
    "start_time": "2022-11-25T09:56:50.647Z"
   },
   {
    "duration": 199,
    "start_time": "2022-11-25T09:56:50.860Z"
   },
   {
    "duration": 751,
    "start_time": "2022-11-25T09:56:51.061Z"
   },
   {
    "duration": 41,
    "start_time": "2022-11-25T09:56:51.814Z"
   },
   {
    "duration": 247,
    "start_time": "2022-11-25T09:56:51.858Z"
   },
   {
    "duration": 474,
    "start_time": "2022-11-25T09:57:40.942Z"
   },
   {
    "duration": 165,
    "start_time": "2022-11-25T09:58:29.269Z"
   },
   {
    "duration": 88,
    "start_time": "2022-11-25T09:58:50.510Z"
   },
   {
    "duration": 62,
    "start_time": "2022-11-25T10:00:10.646Z"
   },
   {
    "duration": 4,
    "start_time": "2022-11-25T10:00:56.215Z"
   },
   {
    "duration": 61,
    "start_time": "2022-11-25T10:02:32.844Z"
   },
   {
    "duration": 66,
    "start_time": "2022-11-25T10:06:44.535Z"
   },
   {
    "duration": 61,
    "start_time": "2022-11-25T10:07:08.928Z"
   },
   {
    "duration": 6,
    "start_time": "2022-11-25T10:30:29.379Z"
   },
   {
    "duration": 7,
    "start_time": "2022-11-25T10:31:01.134Z"
   },
   {
    "duration": 4,
    "start_time": "2022-11-25T10:31:13.564Z"
   },
   {
    "duration": 1617,
    "start_time": "2022-11-25T10:32:21.712Z"
   },
   {
    "duration": 78,
    "start_time": "2022-11-25T10:32:23.332Z"
   },
   {
    "duration": 14,
    "start_time": "2022-11-25T10:32:23.411Z"
   },
   {
    "duration": 18,
    "start_time": "2022-11-25T10:32:23.427Z"
   },
   {
    "duration": 16,
    "start_time": "2022-11-25T10:32:23.447Z"
   },
   {
    "duration": 10,
    "start_time": "2022-11-25T10:32:23.464Z"
   },
   {
    "duration": 11,
    "start_time": "2022-11-25T10:32:23.475Z"
   },
   {
    "duration": 5,
    "start_time": "2022-11-25T10:32:23.487Z"
   },
   {
    "duration": 6,
    "start_time": "2022-11-25T10:32:23.494Z"
   },
   {
    "duration": 13,
    "start_time": "2022-11-25T10:32:23.503Z"
   },
   {
    "duration": 42,
    "start_time": "2022-11-25T10:32:23.518Z"
   },
   {
    "duration": 5,
    "start_time": "2022-11-25T10:32:23.562Z"
   },
   {
    "duration": 8,
    "start_time": "2022-11-25T10:32:27.341Z"
   },
   {
    "duration": 141,
    "start_time": "2022-11-25T10:32:28.277Z"
   },
   {
    "duration": 15,
    "start_time": "2022-11-25T10:32:53.084Z"
   },
   {
    "duration": 1515,
    "start_time": "2022-11-25T10:33:54.203Z"
   },
   {
    "duration": 65,
    "start_time": "2022-11-25T10:33:55.720Z"
   },
   {
    "duration": 12,
    "start_time": "2022-11-25T10:33:55.787Z"
   },
   {
    "duration": 6,
    "start_time": "2022-11-25T10:33:55.802Z"
   },
   {
    "duration": 27,
    "start_time": "2022-11-25T10:33:55.810Z"
   },
   {
    "duration": 13,
    "start_time": "2022-11-25T10:33:55.839Z"
   },
   {
    "duration": 34,
    "start_time": "2022-11-25T10:33:55.854Z"
   },
   {
    "duration": 8,
    "start_time": "2022-11-25T10:33:55.891Z"
   },
   {
    "duration": 13,
    "start_time": "2022-11-25T10:33:55.901Z"
   },
   {
    "duration": 5,
    "start_time": "2022-11-25T10:33:55.917Z"
   },
   {
    "duration": 29,
    "start_time": "2022-11-25T10:33:55.924Z"
   },
   {
    "duration": 4,
    "start_time": "2022-11-25T10:33:55.955Z"
   },
   {
    "duration": 122,
    "start_time": "2022-11-25T10:33:58.972Z"
   },
   {
    "duration": 7,
    "start_time": "2022-11-25T10:34:23.597Z"
   },
   {
    "duration": 1752,
    "start_time": "2022-11-25T10:53:59.689Z"
   },
   {
    "duration": 83,
    "start_time": "2022-11-25T10:54:01.444Z"
   },
   {
    "duration": 14,
    "start_time": "2022-11-25T10:54:01.529Z"
   },
   {
    "duration": 31,
    "start_time": "2022-11-25T10:54:01.546Z"
   },
   {
    "duration": 24,
    "start_time": "2022-11-25T10:54:01.581Z"
   },
   {
    "duration": 15,
    "start_time": "2022-11-25T10:54:01.607Z"
   },
   {
    "duration": 35,
    "start_time": "2022-11-25T10:54:01.625Z"
   },
   {
    "duration": 6,
    "start_time": "2022-11-25T10:54:01.663Z"
   },
   {
    "duration": 13,
    "start_time": "2022-11-25T10:54:01.671Z"
   },
   {
    "duration": 9,
    "start_time": "2022-11-25T10:54:01.687Z"
   },
   {
    "duration": 49,
    "start_time": "2022-11-25T10:54:01.697Z"
   },
   {
    "duration": 5,
    "start_time": "2022-11-25T10:54:01.748Z"
   },
   {
    "duration": 31,
    "start_time": "2022-11-25T10:54:01.755Z"
   },
   {
    "duration": 33,
    "start_time": "2022-11-25T10:54:01.788Z"
   },
   {
    "duration": 22,
    "start_time": "2022-11-25T10:54:01.823Z"
   },
   {
    "duration": 899,
    "start_time": "2022-11-25T10:54:01.847Z"
   },
   {
    "duration": 4216,
    "start_time": "2022-11-25T10:54:02.748Z"
   },
   {
    "duration": 783,
    "start_time": "2022-11-25T10:54:06.966Z"
   },
   {
    "duration": 6871,
    "start_time": "2022-11-25T10:54:07.751Z"
   },
   {
    "duration": 19,
    "start_time": "2022-11-25T10:54:14.624Z"
   },
   {
    "duration": 21681,
    "start_time": "2022-11-25T10:54:14.647Z"
   },
   {
    "duration": 26627,
    "start_time": "2022-11-25T10:54:36.332Z"
   },
   {
    "duration": 160849,
    "start_time": "2022-11-25T10:55:02.961Z"
   },
   {
    "duration": 72,
    "start_time": "2022-11-25T10:57:43.812Z"
   },
   {
    "duration": 0,
    "start_time": "2022-11-25T10:57:43.886Z"
   },
   {
    "duration": 0,
    "start_time": "2022-11-25T10:57:43.888Z"
   },
   {
    "duration": 0,
    "start_time": "2022-11-25T10:57:43.890Z"
   },
   {
    "duration": 0,
    "start_time": "2022-11-25T10:57:43.892Z"
   },
   {
    "duration": 0,
    "start_time": "2022-11-25T10:57:43.893Z"
   },
   {
    "duration": 0,
    "start_time": "2022-11-25T10:57:43.894Z"
   },
   {
    "duration": 0,
    "start_time": "2022-11-25T10:57:43.896Z"
   },
   {
    "duration": 0,
    "start_time": "2022-11-25T10:57:43.897Z"
   },
   {
    "duration": 9317,
    "start_time": "2022-11-25T11:51:19.476Z"
   },
   {
    "duration": 1487,
    "start_time": "2022-11-25T11:51:52.659Z"
   },
   {
    "duration": 82,
    "start_time": "2022-11-25T11:51:54.149Z"
   },
   {
    "duration": 14,
    "start_time": "2022-11-25T11:51:54.236Z"
   },
   {
    "duration": 35,
    "start_time": "2022-11-25T11:51:54.252Z"
   },
   {
    "duration": 16,
    "start_time": "2022-11-25T11:51:54.289Z"
   },
   {
    "duration": 22,
    "start_time": "2022-11-25T11:51:54.307Z"
   },
   {
    "duration": 15,
    "start_time": "2022-11-25T11:51:54.332Z"
   },
   {
    "duration": 6,
    "start_time": "2022-11-25T11:51:54.350Z"
   },
   {
    "duration": 13,
    "start_time": "2022-11-25T11:51:54.359Z"
   },
   {
    "duration": 6,
    "start_time": "2022-11-25T11:51:54.374Z"
   },
   {
    "duration": 43,
    "start_time": "2022-11-25T11:51:54.382Z"
   },
   {
    "duration": 5,
    "start_time": "2022-11-25T11:51:54.427Z"
   },
   {
    "duration": 20,
    "start_time": "2022-11-25T11:51:54.434Z"
   },
   {
    "duration": 65,
    "start_time": "2022-11-25T11:51:54.457Z"
   },
   {
    "duration": 16,
    "start_time": "2022-11-25T11:51:54.524Z"
   },
   {
    "duration": 782,
    "start_time": "2022-11-25T11:51:54.542Z"
   },
   {
    "duration": 3734,
    "start_time": "2022-11-25T11:51:55.326Z"
   },
   {
    "duration": 743,
    "start_time": "2022-11-25T11:51:59.062Z"
   },
   {
    "duration": 6568,
    "start_time": "2022-11-25T11:51:59.807Z"
   },
   {
    "duration": 14,
    "start_time": "2022-11-25T11:52:06.377Z"
   },
   {
    "duration": 19005,
    "start_time": "2022-11-25T11:52:06.392Z"
   },
   {
    "duration": 23475,
    "start_time": "2022-11-25T11:52:25.398Z"
   },
   {
    "duration": 153385,
    "start_time": "2022-11-25T11:52:48.876Z"
   },
   {
    "duration": 836207,
    "start_time": "2022-11-25T11:55:22.263Z"
   },
   {
    "duration": 27829,
    "start_time": "2022-11-25T12:09:18.472Z"
   },
   {
    "duration": 264,
    "start_time": "2022-11-25T12:09:46.303Z"
   },
   {
    "duration": 329,
    "start_time": "2022-11-25T12:09:46.571Z"
   },
   {
    "duration": 240,
    "start_time": "2022-11-25T12:09:46.902Z"
   },
   {
    "duration": 852,
    "start_time": "2022-11-25T12:09:47.144Z"
   },
   {
    "duration": 45,
    "start_time": "2022-11-25T12:09:47.998Z"
   },
   {
    "duration": 259,
    "start_time": "2022-11-25T12:09:48.046Z"
   },
   {
    "duration": 509,
    "start_time": "2022-11-25T12:09:48.307Z"
   }
  ],
  "kernelspec": {
   "display_name": "Python 3 (ipykernel)",
   "language": "python",
   "name": "python3"
  },
  "language_info": {
   "codemirror_mode": {
    "name": "ipython",
    "version": 3
   },
   "file_extension": ".py",
   "mimetype": "text/x-python",
   "name": "python",
   "nbconvert_exporter": "python",
   "pygments_lexer": "ipython3",
   "version": "3.9.12"
  },
  "toc": {
   "base_numbering": 1,
   "nav_menu": {},
   "number_sections": true,
   "sideBar": true,
   "skip_h1_title": true,
   "title_cell": "Содержание",
   "title_sidebar": "Contents",
   "toc_cell": true,
   "toc_position": {
    "height": "calc(100% - 180px)",
    "left": "10px",
    "top": "150px",
    "width": "247.594px"
   },
   "toc_section_display": true,
   "toc_window_display": false
  }
 },
 "nbformat": 4,
 "nbformat_minor": 2
}
